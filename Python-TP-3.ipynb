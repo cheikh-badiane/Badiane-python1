{
 "cells": [
  {
   "cell_type": "markdown",
   "id": "d68c1dee",
   "metadata": {
    "id": "d68c1dee"
   },
   "source": [
    "# Practical_3: Iterable objects or Containers"
   ]
  },
  {
   "cell_type": "markdown",
   "id": "7cca7639",
   "metadata": {
    "id": "7cca7639"
   },
   "source": [
    "---\n",
    "\n",
    "### Exercise 1:\n",
    "Create a list of integers from 1 to 10.\n",
    "\n",
    "```python\n",
    "# Exercise 1"
   ]
  },
  {
   "cell_type": "code",
   "execution_count": null,
   "id": "c713de4f",
   "metadata": {
    "id": "c713de4f"
   },
   "outputs": [],
   "source": [
    "my_list=[1,2,3,4,5,6,7,8,9,10]"
   ]
  },
  {
   "cell_type": "markdown",
   "id": "44bdb324",
   "metadata": {
    "id": "44bdb324"
   },
   "source": [
    "---\n",
    "\n",
    "### Exercise 2:\n",
    "Create a tuple containing the elements `\"apple\"`, `\"banana\"`, and `\"cherry\"`."
   ]
  },
  {
   "cell_type": "code",
   "execution_count": null,
   "id": "2b88c05a",
   "metadata": {
    "id": "2b88c05a"
   },
   "outputs": [],
   "source": [
    "tuple=[\"appe\",\"banana\",\"cherry\"]"
   ]
  },
  {
   "cell_type": "markdown",
   "id": "f035304a",
   "metadata": {
    "id": "f035304a"
   },
   "source": [
    "```python\n",
    "# Exercise 2\n",
    "```\n",
    "\n",
    "---"
   ]
  },
  {
   "cell_type": "code",
   "execution_count": 3,
   "id": "54079a5a",
   "metadata": {
    "id": "54079a5a"
   },
   "outputs": [
    {
     "data": {
      "text/plain": [
       "('apple', 'banana', 'cherry')"
      ]
     },
     "execution_count": 3,
     "metadata": {},
     "output_type": "execute_result"
    }
   ],
   "source": [
    "# Corrected - use parentheses for tuples\n",
    "my_tuple = (\"apple\", \"banana\", \"cherry\")\n",
    "my_tuple"
   ]
  },
  {
   "cell_type": "markdown",
   "id": "8042c87e",
   "metadata": {
    "id": "8042c87e"
   },
   "source": [
    "### Exercise 3:\n",
    "Convert the list `numbers = [10, 20, 30, 40]` into a tuple.\n",
    "\n",
    "```python\n",
    "# Exercise 3\n",
    "```\n",
    "\n",
    "---"
   ]
  },
  {
   "cell_type": "code",
   "execution_count": 5,
   "id": "56146752",
   "metadata": {
    "id": "56146752"
   },
   "outputs": [
    {
     "data": {
      "text/plain": [
       "[10, 20, 30, 40]"
      ]
     },
     "execution_count": 5,
     "metadata": {},
     "output_type": "execute_result"
    }
   ],
   "source": [
    "# Corrected\n",
    "numbers = [10, 20, 30, 40]\n",
    "my_tuple = tuple(numbers)\n",
    "numbers"
   ]
  },
  {
   "cell_type": "markdown",
   "id": "f04101e1",
   "metadata": {
    "id": "f04101e1"
   },
   "source": [
    "### Exercise 4:\n",
    "Create a set containing the elements `1, 2, 3, 4, 5`.\n",
    "\n",
    "```python\n",
    "# Exercise 4\n",
    "```"
   ]
  },
  {
   "cell_type": "code",
   "execution_count": null,
   "id": "0848c88d",
   "metadata": {
    "id": "0848c88d"
   },
   "outputs": [],
   "source": [
    "my_list={1,2,3,4,5}"
   ]
  },
  {
   "cell_type": "markdown",
   "id": "ff5c04ae",
   "metadata": {
    "id": "ff5c04ae"
   },
   "source": [
    "---\n",
    "\n",
    "### Exercise 5:\n",
    "Create a dictionary `student` with the keys `\"name\"`, `\"age\"`, and `\"grade\"` and corresponding values `\"Alice\"`, `20`, and `\"A\"`.\n",
    "\n",
    "```python\n",
    "# Exercise 5\n",
    "```"
   ]
  },
  {
   "cell_type": "code",
   "execution_count": 6,
   "id": "ea00ed86",
   "metadata": {
    "id": "ea00ed86"
   },
   "outputs": [
    {
     "data": {
      "text/plain": [
       "{'name': 'Alice', 'age': 20, 'grade': 'A'}"
      ]
     },
     "execution_count": 6,
     "metadata": {},
     "output_type": "execute_result"
    }
   ],
   "source": [
    "# Corrected - use curly braces and key-value pairs\n",
    "student = {\"name\": \"Alice\", \"age\": 20, \"grade\": \"A\"}\n",
    "student"
   ]
  },
  {
   "cell_type": "markdown",
   "id": "2fff9207",
   "metadata": {
    "id": "2fff9207"
   },
   "source": [
    "---\n",
    "\n",
    "### Exercise 6:\n",
    "Access the second element of the list `[10, 20, 30, 40, 50]` using indexing.\n",
    "\n",
    "```python\n",
    "# Exercise 6\n",
    "```"
   ]
  },
  {
   "cell_type": "code",
   "execution_count": null,
   "id": "76478d8d",
   "metadata": {
    "id": "76478d8d",
    "outputId": "6c8e1d0d-6517-463f-8bfa-549ac43ee010"
   },
   "outputs": [
    {
     "data": {
      "text/plain": [
       "20"
      ]
     },
     "execution_count": 5,
     "metadata": {},
     "output_type": "execute_result"
    }
   ],
   "source": [
    "my_list=[10,20,30,40,50]\n",
    "my_list[1]"
   ]
  },
  {
   "cell_type": "markdown",
   "id": "038b485a",
   "metadata": {
    "id": "038b485a"
   },
   "source": [
    "---\n",
    "\n",
    "### Exercise 7:\n",
    "Change the third element of the list `fruits = [\"apple\", \"banana\", \"cherry\", \"orange\"]` to `\"mango\"`.\n",
    "\n",
    "```python\n",
    "# Exercise 7\n",
    "```"
   ]
  },
  {
   "cell_type": "code",
   "execution_count": null,
   "id": "287d2088",
   "metadata": {
    "id": "287d2088",
    "outputId": "e824bd59-1496-4de1-9ad9-e30036109433"
   },
   "outputs": [
    {
     "data": {
      "text/plain": [
       "['appe', 'banana', 'mango', 'orange']"
      ]
     },
     "execution_count": 13,
     "metadata": {},
     "output_type": "execute_result"
    }
   ],
   "source": [
    "fruits=[\"appe\",\"banana\",\"cherry\",\"orange\"]\n",
    "fruits[2]=\"mango\"\n",
    "fruits"
   ]
  },
  {
   "cell_type": "markdown",
   "id": "d5404a5e",
   "metadata": {
    "id": "d5404a5e"
   },
   "source": [
    "---\n",
    "\n",
    "### Exercise 8:\n",
    "Add the number `6` to the set `numbers = {1, 2, 3, 4, 5}`.\n",
    "\n",
    "```python\n",
    "# Exercise 8\n",
    "```"
   ]
  },
  {
   "cell_type": "code",
   "execution_count": null,
   "id": "6d7f35b6",
   "metadata": {
    "id": "6d7f35b6",
    "outputId": "7fe69140-2b99-4ff9-9e3e-501603c88d3a"
   },
   "outputs": [
    {
     "data": {
      "text/plain": [
       "{1, 2, 3, 4, 5, 6}"
      ]
     },
     "execution_count": 9,
     "metadata": {},
     "output_type": "execute_result"
    }
   ],
   "source": [
    "number={1,2,3,4,5}\n",
    "number.add(6)\n",
    "number"
   ]
  },
  {
   "cell_type": "markdown",
   "id": "842e425d",
   "metadata": {
    "id": "842e425d"
   },
   "source": [
    "---\n",
    "\n",
    "### Exercise 9:\n",
    "Remove the key `\"age\"` from the dictionary `person = {\"name\": \"John\", \"age\": 25, \"city\": \"New York\"}`.\n",
    "\n",
    "```pytho\n",
    "# Exercise 9\n",
    "```\n",
    "\n",
    "---"
   ]
  },
  {
   "cell_type": "code",
   "execution_count": null,
   "id": "271c9fed",
   "metadata": {
    "id": "271c9fed",
    "outputId": "c0283f0c-638e-4ede-c1e7-d6da41296bd4"
   },
   "outputs": [
    {
     "data": {
      "text/plain": [
       "{'name': 'John', 'city': 'New York'}"
      ]
     },
     "execution_count": 20,
     "metadata": {},
     "output_type": "execute_result"
    }
   ],
   "source": [
    "person = {\"name\": \"John\", \"age\": 25, \"city\": \"New York\"}\n",
    "\n",
    "\n",
    "del person[\"age\"]\n",
    "person"
   ]
  },
  {
   "cell_type": "markdown",
   "id": "9b72f333",
   "metadata": {
    "id": "9b72f333"
   },
   "source": [
    "### Exercise 10:\n",
    "Create a range object starting from 0 to 9.\n",
    "\n",
    "```python\n",
    "# Exercise 10\n",
    "```\n",
    "\n",
    "---"
   ]
  },
  {
   "cell_type": "code",
   "execution_count": null,
   "id": "e3943ba0",
   "metadata": {
    "id": "e3943ba0"
   },
   "outputs": [],
   "source": [
    "starting= [0,1,2,3,4,5,6,7,8,9]\n"
   ]
  },
  {
   "cell_type": "markdown",
   "id": "93e68eaa",
   "metadata": {
    "id": "93e68eaa"
   },
   "source": [
    "### Exercise 11:\n",
    "Use a list comprehension to create a list of squares of numbers from 1 to 10.\n",
    "\n",
    "```python\n",
    "# Exercise 11\n",
    "```"
   ]
  },
  {
   "cell_type": "code",
   "execution_count": 7,
   "id": "30644ff2",
   "metadata": {
    "id": "30644ff2"
   },
   "outputs": [
    {
     "data": {
      "text/plain": [
       "[1, 4, 9, 16, 25, 36, 49, 64, 81, 100]"
      ]
     },
     "execution_count": 7,
     "metadata": {},
     "output_type": "execute_result"
    }
   ],
   "source": [
    "# Corrected - use proper list comprehension\n",
    "squares = [x**2 for x in range(1, 11)]\n",
    "squares"
   ]
  },
  {
   "cell_type": "markdown",
   "id": "91681b68",
   "metadata": {
    "id": "91681b68"
   },
   "source": [
    "---\n",
    "\n",
    "### Exercise 12:\n",
    "Create a tuple of even numbers between 2 and 10 using a tuple comprehension.\n",
    "\n",
    "```python\n",
    "# Exercise 12\n",
    "```"
   ]
  },
  {
   "cell_type": "code",
   "execution_count": 8,
   "id": "3aec18fc",
   "metadata": {
    "id": "3aec18fc"
   },
   "outputs": [
    {
     "data": {
      "text/plain": [
       "(2, 4, 6, 8, 10)"
      ]
     },
     "execution_count": 8,
     "metadata": {},
     "output_type": "execute_result"
    }
   ],
   "source": [
    "# Corrected - use tuple comprehension\n",
    "even_numbers = tuple(x for x in range(2, 11, 2))\n",
    "even_numbers"
   ]
  },
  {
   "cell_type": "markdown",
   "id": "a543f2a2",
   "metadata": {
    "id": "a543f2a2"
   },
   "source": [
    "---\n",
    "\n",
    "### Exercise 13:\n",
    "Use a for loop to iterate through the list `fruits = [\"apple\", \"banana\", \"cherry\"]` and print each element.\n",
    "\n",
    "```python\n",
    "# Exercise 13\n",
    "```\n",
    "\n",
    "---"
   ]
  },
  {
   "cell_type": "code",
   "execution_count": null,
   "id": "561b53e3",
   "metadata": {
    "id": "561b53e3",
    "outputId": "35de96f6-aadf-4020-ae28-774a48bd5bb0"
   },
   "outputs": [
    {
     "name": "stdout",
     "output_type": "stream",
     "text": [
      "apple\n",
      "banana\n",
      "cherry\n"
     ]
    }
   ],
   "source": [
    "fruits=[\"apple\",\"banana\",\"cherry\"]\n",
    "for i in fruits:\n",
    "    print(i)"
   ]
  },
  {
   "cell_type": "markdown",
   "id": "623e31c1",
   "metadata": {
    "id": "623e31c1"
   },
   "source": [
    "### Exercise 14:\n",
    "Check if the value `3` exists in the set `numbers = {1, 2, 3, 4, 5}`.\n",
    "\n",
    "```python\n",
    "# Exercise 14\n",
    "```"
   ]
  },
  {
   "cell_type": "code",
   "execution_count": 10,
   "id": "ae5bc630",
   "metadata": {
    "id": "ae5bc630",
    "outputId": "5d8f97b7-216c-4c02-9595-05b71ada306d"
   },
   "outputs": [
    {
     "data": {
      "text/plain": [
       "{1, 2, 3, 4, 5}"
      ]
     },
     "execution_count": 10,
     "metadata": {},
     "output_type": "execute_result"
    }
   ],
   "source": [
    "# Corrected - use 'in' operator\n",
    "numbers = {1, 2, 3, 4, 5}\n",
    "exists = 3 in numbers\n",
    "numbers\n"
   ]
  },
  {
   "cell_type": "markdown",
   "id": "94a36cbd",
   "metadata": {
    "id": "94a36cbd"
   },
   "source": [
    "---\n",
    "\n",
    "### Exercise 15:\n",
    "Use the `len()` function to find the length of the tuple `numbers = (10, 20, 30\n",
    "# Exercise 15\n",
    "```"
   ]
  },
  {
   "cell_type": "code",
   "execution_count": null,
   "id": "4d65265f",
   "metadata": {
    "id": "4d65265f",
    "outputId": "a1e5f140-b590-4894-b619-a73de53187de"
   },
   "outputs": [
    {
     "data": {
      "text/plain": [
       "3"
      ]
     },
     "execution_count": 31,
     "metadata": {},
     "output_type": "execute_result"
    }
   ],
   "source": [
    "numbers = (10, 20, 30)\n",
    "len(numbers)"
   ]
  },
  {
   "cell_type": "markdown",
   "id": "5dadf1b6",
   "metadata": {
    "id": "5dadf1b6"
   },
   "source": [
    "---\n",
    "\n",
    "### Exercise 16:\n",
    "Add the value `100` at the end of the list `scores = [80, 85, 90, 95]`.\n",
    "\n",
    "```python\n",
    "# Exercise 16\n",
    "```"
   ]
  },
  {
   "cell_type": "code",
   "execution_count": null,
   "id": "f3534da0",
   "metadata": {
    "id": "f3534da0",
    "outputId": "d57e0986-ae49-4294-fe79-eca2f8cbda88"
   },
   "outputs": [
    {
     "data": {
      "text/plain": [
       "[80, 85, 90, 95, 100]"
      ]
     },
     "execution_count": 33,
     "metadata": {},
     "output_type": "execute_result"
    }
   ],
   "source": [
    "scores = [80, 85, 90, 95]\n",
    "scores.append(100)\n",
    "scores"
   ]
  },
  {
   "cell_type": "markdown",
   "id": "2b0c1136",
   "metadata": {
    "id": "2b0c1136"
   },
   "source": [
    "---\n",
    "\n",
    "### Exercise 17:\n",
    "Write a function that takes a list as input and returns the sum of all elements in the list.\n",
    "\n",
    "```python\n",
    "# Exercise 17\n",
    "```"
   ]
  },
  {
   "cell_type": "code",
   "execution_count": 11,
   "id": "c8e20136",
   "metadata": {
    "id": "c8e20136"
   },
   "outputs": [
    {
     "data": {
      "text/plain": [
       "[1, 2, 3, 4, 5]"
      ]
     },
     "execution_count": 11,
     "metadata": {},
     "output_type": "execute_result"
    }
   ],
   "source": [
    "# Corrected\n",
    "def sum_list(lst):\n",
    "    return sum(lst)\n",
    "\n",
    "# Example usage\n",
    "numbers = [1, 2, 3, 4, 5]\n",
    "result = sum_list(numbers)\n",
    "numbers\n"
   ]
  },
  {
   "cell_type": "markdown",
   "id": "db29472b",
   "metadata": {
    "id": "db29472b"
   },
   "source": [
    "---\n",
    "\n",
    "### Exercise 18:\n",
    "Create a set containing the unique elements of the list `numbers = [1, 2, 2, 3, 4, 4, 5]`.\n",
    "\n",
    "```python\n",
    "# Exercise 18\n",
    "```\n",
    "\n",
    "---"
   ]
  },
  {
   "cell_type": "code",
   "execution_count": 12,
   "id": "b56127ca",
   "metadata": {
    "id": "b56127ca"
   },
   "outputs": [
    {
     "data": {
      "text/plain": [
       "[1, 2, 2, 3, 4, 4, 5]"
      ]
     },
     "execution_count": 12,
     "metadata": {},
     "output_type": "execute_result"
    }
   ],
   "source": [
    "# Corrected\n",
    "numbers = [1, 2, 2, 3, 4, 4, 5]\n",
    "unique_set = set(numbers)\n",
    "numbers \n"
   ]
  },
  {
   "cell_type": "markdown",
   "id": "153c5cf5",
   "metadata": {
    "id": "153c5cf5"
   },
   "source": [
    "### Exercise 19:\n",
    "Convert the string `\"hello\"` into a list of characters.\n",
    "\n",
    "```python\n",
    "# Exercise 19\n",
    "```\n",
    "\n",
    "---"
   ]
  },
  {
   "cell_type": "code",
   "execution_count": 13,
   "id": "f07c2176",
   "metadata": {
    "id": "f07c2176"
   },
   "outputs": [
    {
     "data": {
      "text/plain": [
       "'hello'"
      ]
     },
     "execution_count": 13,
     "metadata": {},
     "output_type": "execute_result"
    }
   ],
   "source": [
    "# Corrected\n",
    "text = \"hello\"\n",
    "char_list = list(text)\n",
    "text"
   ]
  },
  {
   "cell_type": "markdown",
   "id": "45e54e9c",
   "metadata": {
    "id": "45e54e9c"
   },
   "source": [
    "### Exercise 20:\n",
    "Write a Python function that reverses a tuple `(1, 2, 3, 4)`.\n",
    "\n",
    "```python\n",
    "# Exercise 20\n",
    "```"
   ]
  },
  {
   "cell_type": "code",
   "execution_count": 14,
   "id": "c2f893e2",
   "metadata": {
    "id": "c2f893e2",
    "outputId": "780fd212-91e0-478f-9900-7fee1987ffda"
   },
   "outputs": [
    {
     "data": {
      "text/plain": [
       "(1, 2, 3, 4)"
      ]
     },
     "execution_count": 14,
     "metadata": {},
     "output_type": "execute_result"
    }
   ],
   "source": [
    "# Corrected\n",
    "my_tuple = (1, 2, 3, 4)\n",
    "reversed_tuple = my_tuple[::-1]\n",
    "my_tuple"
   ]
  },
  {
   "cell_type": "markdown",
   "id": "2fe94957",
   "metadata": {
    "id": "2fe94957"
   },
   "source": [
    "---\n",
    "\n",
    "### Exercise 21:\n",
    "Merge two dictionaries `dict1 = {\"a\": 1, \"b\": 2}` and `dict2 = {\"c\": 3, \"d\": 4}` into a single dictionary.\n",
    "\n",
    "```python\n",
    "# Exercise 21\n",
    "```"
   ]
  },
  {
   "cell_type": "code",
   "execution_count": null,
   "id": "b6e245b4",
   "metadata": {
    "id": "b6e245b4",
    "outputId": "fd960b1f-5681-46b7-d789-ab7a38a217aa"
   },
   "outputs": [
    {
     "data": {
      "text/plain": [
       "{'a': 1, 'b': 2, 'c': 3, 'd': 4}"
      ]
     },
     "execution_count": 5,
     "metadata": {},
     "output_type": "execute_result"
    }
   ],
   "source": [
    "dict1 ={\"a\":1,\"b\":2}\n",
    "dict2 ={\"c\":3,\"d\":4}\n",
    "dict={**dict1,**dict2}\n",
    "dict"
   ]
  },
  {
   "cell_type": "markdown",
   "id": "f933aeea",
   "metadata": {
    "id": "f933aeea"
   },
   "source": [
    "---\n",
    "\n",
    "### Exercise 22:\n",
    "Create a dictionary where keys are numbers from 1 to 5, and values are their squares.\n",
    "\n",
    "```python\n",
    "# Exercise 22\n",
    "```"
   ]
  },
  {
   "cell_type": "code",
   "execution_count": null,
   "id": "991d0c8c",
   "metadata": {
    "id": "991d0c8c",
    "outputId": "b228a5e5-4ad0-4872-88a0-722527b08819"
   },
   "outputs": [
    {
     "data": {
      "text/plain": [
       "{1: 1, 2: 4, 3: 9, 4: 16, 5: 25}"
      ]
     },
     "execution_count": 7,
     "metadata": {},
     "output_type": "execute_result"
    }
   ],
   "source": [
    "dict={1:1,2:4,3:9,4:16,5:25}\n",
    "dict"
   ]
  },
  {
   "cell_type": "markdown",
   "id": "aa6a889b",
   "metadata": {
    "id": "aa6a889b"
   },
   "source": [
    "---\n",
    "\n",
    "### Exercise 23:\n",
    "Write a Python program to iterate through a dictionary and print each key-value pair.\n",
    "\n",
    "```python\n",
    "# Exercise 23\n",
    "```"
   ]
  },
  {
   "cell_type": "code",
   "execution_count": null,
   "id": "354b0a37",
   "metadata": {
    "id": "354b0a37"
   },
   "outputs": [],
   "source": [
    "dict={1:1,2:4,3:9,4:16,5:25}\n"
   ]
  },
  {
   "cell_type": "markdown",
   "id": "b9e3ace9",
   "metadata": {
    "id": "b9e3ace9"
   },
   "source": [
    "---\n",
    "\n",
    "### Exercise 24:\n",
    "Create a list of the first 5 letters of the alphabet using the `chr()` function.\n",
    "\n",
    "```python\n",
    "# Exercise 24\n",
    "```\n",
    "\n",
    "---"
   ]
  },
  {
   "cell_type": "code",
   "execution_count": null,
   "id": "9222799d-fc9c-4388-bc73-1ec4bf5cdc92",
   "metadata": {},
   "outputs": [],
   "source": []
  },
  {
   "cell_type": "markdown",
   "id": "e949bfa2",
   "metadata": {
    "id": "e949bfa2"
   },
   "source": [
    "### Exercise 25:\n",
    "Use the `zip()` function to combine two lists `[1, 2, 3]` and `[\"a\", \"b\", \"c\"]` into a list of tuples.\n",
    "\n",
    "```python\n",
    "# Exercise 25\n",
    "```"
   ]
  },
  {
   "cell_type": "code",
   "execution_count": null,
   "id": "8cacff85-7557-4da1-b8f0-49053d1a4332",
   "metadata": {},
   "outputs": [],
   "source": []
  },
  {
   "cell_type": "code",
   "execution_count": null,
   "id": "08b084d1",
   "metadata": {
    "id": "08b084d1",
    "outputId": "4bf48415-1c6e-4251-a154-7f9182531d06"
   },
   "outputs": [
    {
     "data": {
      "text/plain": [
       "[(1, 'a'), (2, 'b'), (3, 'c')]"
      ]
     },
     "execution_count": 10,
     "metadata": {},
     "output_type": "execute_result"
    }
   ],
   "source": [
    "list (zip([1,2,3],[\"a\",\"b\",\"c\"]))\n"
   ]
  },
  {
   "cell_type": "markdown",
   "id": "20463836",
   "metadata": {
    "id": "20463836"
   },
   "source": [
    "---\n",
    "\n",
    "### Exercise 26:\n",
    "Find the index of the value `50` in the list `[10, 20, 30, 40, 50]`.\n",
    "\n",
    "```python\n",
    "# Exercise 26\n",
    "```\n",
    "\n",
    "---"
   ]
  },
  {
   "cell_type": "code",
   "execution_count": null,
   "id": "bbba1c74",
   "metadata": {
    "id": "bbba1c74",
    "outputId": "1ff4dc8b-ed07-4923-fb51-6bb000031c9a"
   },
   "outputs": [
    {
     "data": {
      "text/plain": [
       "4"
      ]
     },
     "execution_count": 13,
     "metadata": {},
     "output_type": "execute_result"
    }
   ],
   "source": [
    "my_list =  [10,20,30,40,50]\n",
    "my_list.index(50)\n"
   ]
  },
  {
   "cell_type": "markdown",
   "id": "c770cc75",
   "metadata": {
    "id": "c770cc75"
   },
   "source": [
    "### Exercise 27:\n",
    "Sort the list `names = [\"Alice\", \"Bob\", \"Charlie\", \"David\"]` in alphabetical order.\n",
    "\n",
    "```python\n",
    "# Exercise 27\n",
    "```\n",
    "\n",
    "---"
   ]
  },
  {
   "cell_type": "code",
   "execution_count": 15,
   "id": "ce5c7884",
   "metadata": {
    "colab": {
     "base_uri": "https://localhost:8080/",
     "height": 158
    },
    "executionInfo": {
     "elapsed": 30,
     "status": "error",
     "timestamp": 1760787805034,
     "user": {
      "displayName": "Cheikh Leyti Badiane",
      "userId": "17630340567902297299"
     },
     "user_tz": 0
    },
    "id": "ce5c7884",
    "outputId": "d1ab14a8-77ea-4b48-aaef-94ffe21a38b2"
   },
   "outputs": [
    {
     "data": {
      "text/plain": [
       "['Alice', 'Bob', 'Charlie', 'David']"
      ]
     },
     "execution_count": 15,
     "metadata": {},
     "output_type": "execute_result"
    }
   ],
   "source": [
    "# Corrected\n",
    "names = [\"Alice\", \"Bob\", \"Charlie\", \"David\"]\n",
    "sorted_names = sorted(names)\n",
    "names"
   ]
  },
  {
   "cell_type": "markdown",
   "id": "9a3e94b0-ad7e-4b12-80e2-d9971e313952",
   "metadata": {
    "id": "bea983a3"
   },
   "source": [
    "### Exercise 28:\n",
    "Write a Python function that takes a list of integers as input and returns the largest number.\n",
    "\n",
    "```python\n",
    "# Exercise 28\n",
    "```\n",
    "\n",
    "---"
   ]
  },
  {
   "cell_type": "code",
   "execution_count": 16,
   "id": "0816195e-a1d7-4115-9e3f-1fde009ddfb7",
   "metadata": {},
   "outputs": [],
   "source": [
    "def find_largest(numbers):\n",
    "    return max(numbers)"
   ]
  },
  {
   "cell_type": "markdown",
   "id": "d713d09b-98b7-4fb3-987c-8f4f720c58e2",
   "metadata": {
    "id": "bea983a3"
   },
   "source": [
    "### Exercise 29:\n",
    "Use the `count()` method to count how many times `\"apple\"` appears in the list `fruits = [\"apple\", \"banana\", \"apple\", \"orange\"]`.\n",
    "\n",
    "```python\n",
    "# Exercise 29\n",
    "```"
   ]
  },
  {
   "cell_type": "code",
   "execution_count": 17,
   "id": "889c3c4f-b9c6-4ea2-a2e8-ba1b0de776ca",
   "metadata": {},
   "outputs": [
    {
     "data": {
      "text/plain": [
       "['apple', 'banana', 'apple', 'orange']"
      ]
     },
     "execution_count": 17,
     "metadata": {},
     "output_type": "execute_result"
    }
   ],
   "source": [
    "fruits = [\"apple\", \"banana\", \"apple\", \"orange\"]\n",
    "count = fruits.count(\"apple\")\n",
    "fruits"
   ]
  },
  {
   "cell_type": "markdown",
   "id": "65347348-5b9d-4786-8fd6-b33dde21f8e6",
   "metadata": {
    "id": "bea983a3"
   },
   "source": [
    "---\n",
    "\n",
    "### Exercise 30:\n",
    "Create a dictionary `person` where keys are `\"name\"`, `\"age\"`, and `\"city\"`, and values are `\"Alice\"`, `25`, and `\"New York\"` respectively. Then access the value of the `\"city\"` key.\n",
    "\n",
    "```python\n",
    "# Exercise 30\n",
    "```\n",
    "\n",
    "--"
   ]
  },
  {
   "cell_type": "code",
   "execution_count": 18,
   "id": "47381bec-dbbc-4226-a4dd-a8e9611f6eed",
   "metadata": {},
   "outputs": [
    {
     "data": {
      "text/plain": [
       "{'name': 'Alice', 'age': 25, 'city': 'New York'}"
      ]
     },
     "execution_count": 18,
     "metadata": {},
     "output_type": "execute_result"
    }
   ],
   "source": [
    "person = {\"name\": \"Alice\", \"age\": 25, \"city\": \"New York\"}\n",
    "city = person[\"city\"]\n",
    "person"
   ]
  },
  {
   "cell_type": "markdown",
   "id": "d4b9818c-4a73-4194-8e56-43b0a6684137",
   "metadata": {
    "id": "bea983a3"
   },
   "source": [
    "-\n",
    "\n",
    "### Exercise 31:\n",
    "Write a Python function that takes a list as input and returns a new list with all duplicates removed.\n",
    "\n",
    "```python\n",
    "# Exercise 31\n",
    "```"
   ]
  },
  {
   "cell_type": "code",
   "execution_count": 19,
   "id": "963e1c7e-1a8a-434d-b4be-f2fc446c7e36",
   "metadata": {},
   "outputs": [],
   "source": [
    "def remove_duplicates(lst):\n",
    "    return list(dict.fromkeys(lst))  # Preserves order"
   ]
  },
  {
   "cell_type": "markdown",
   "id": "c2b544db-648a-4b45-9e6f-44e81d19b123",
   "metadata": {
    "id": "bea983a3"
   },
   "source": [
    "---\n",
    "\n",
    "### Exercise 32:\n",
    "Write a Python function that takes two lists and returns their intersection.\n",
    "\n",
    "```python\n",
    "# Exercise 32\n",
    "```"
   ]
  },
  {
   "cell_type": "code",
   "execution_count": null,
   "id": "9d3a82ea-01ab-415a-a306-cd8c8de2648d",
   "metadata": {},
   "outputs": [],
   "source": []
  },
  {
   "cell_type": "markdown",
   "id": "7497e012-593c-484c-8409-8a5b5fd214b4",
   "metadata": {
    "id": "bea983a3"
   },
   "source": [
    "---\n",
    "\n",
    "### Exercise 33:\n",
    "Create a generator that yields the squares of numbers from 1 to 10.\n",
    "\n",
    "```python\n",
    "# Exercise 33\n",
    "```"
   ]
  },
  {
   "cell_type": "code",
   "execution_count": 20,
   "id": "ecb2eebf-c90b-4bdc-ac56-d2c765cc64fd",
   "metadata": {},
   "outputs": [],
   "source": [
    "def square_generator():\n",
    "    for i in range(1, 11):\n",
    "        yield i**2\n",
    "\n",
    "# Usage\n",
    "squares = list(square_generator())"
   ]
  },
  {
   "cell_type": "markdown",
   "id": "67f83aec-f77d-4990-a844-de66d5a57941",
   "metadata": {
    "id": "bea983a3"
   },
   "source": [
    "---\n",
    "\n",
    "### Exercise 34:\n",
    "Write a Python function that takes a dictionary as input and returns the sum of all its values.\n",
    "\n",
    "```python\n",
    "# Exercise 34\n",
    "```\n",
    "\n",
    "--"
   ]
  },
  {
   "cell_type": "code",
   "execution_count": 21,
   "id": "005bdd1f-69ee-45ff-b963-88950efe3da0",
   "metadata": {},
   "outputs": [],
   "source": [
    "def sum_dict_values(dictionary):\n",
    "    return sum(dictionary.values())"
   ]
  },
  {
   "cell_type": "markdown",
   "id": "296e93aa-0239-4705-9982-a99a0bb2224b",
   "metadata": {
    "id": "bea983a3"
   },
   "source": [
    "-\n",
    "\n",
    "### Exercise 35:\n",
    "Use the `sorted()` function to sort the list `[3, 1, 4, 1, 5, 9]` in ascending order.\n",
    "\n",
    "```python\n",
    "# Exercise 35\n",
    "```"
   ]
  },
  {
   "cell_type": "code",
   "execution_count": null,
   "id": "d7fba796-508d-400e-9eb6-96478c328a55",
   "metadata": {},
   "outputs": [],
   "source": [
    "numbers = [3, 1, 4, 1, 5, 9]\n",
    "sorted_numbers = sorted(numbers)  "
   ]
  },
  {
   "cell_type": "markdown",
   "id": "ab887c9e-8a7e-48e8-8d8d-143f9cfe82da",
   "metadata": {
    "id": "bea983a3"
   },
   "source": [
    "---\n",
    "\n",
    "### Exercise 36:\n",
    "Write a Python function that takes a list of strings as input and returns the longest string.\n",
    "\n",
    "```python\n",
    "# Exercise 36\n",
    "```"
   ]
  },
  {
   "cell_type": "code",
   "execution_count": null,
   "id": "d6f7d8d7-7dcd-4305-9d8f-5e89a0873839",
   "metadata": {},
   "outputs": [],
   "source": [
    "def longest_string(strings):\n",
    "    return max(strings, key=len)\n",
    "\n",
    "# Example\n",
    "words = [\"apple\", \"banana\", \"cherry\", \"date\"]\n",
    "print(longest_string(words))  # Output: \"banana\""
   ]
  },
  {
   "cell_type": "markdown",
   "id": "f5e32a98-56e2-4d28-8ab8-808e6cc4d0f1",
   "metadata": {
    "id": "bea983a3"
   },
   "source": [
    "---\n",
    "\n",
    "### Exercise 37:\n",
    "Check if all the elements in the list `[1, 2, 3, 4, 5]` are greater than 0 using the `all()` function.\n",
    "\n",
    "```python\n",
    "# Exercise 37\n",
    "```"
   ]
  },
  {
   "cell_type": "code",
   "execution_count": null,
   "id": "79fd9435-ab31-4e24-b4fb-40008cd9d0e4",
   "metadata": {},
   "outputs": [],
   "source": [
    "numbers = [1, 2, 3, 4, 5]\n",
    "all_positive = all(x > 0 for x in numbers)  # Output: True"
   ]
  },
  {
   "cell_type": "markdown",
   "id": "1b562e03-1fc0-41b3-8972-7ef2bce0ce85",
   "metadata": {
    "id": "bea983a3"
   },
   "source": [
    "---\n",
    "\n",
    "### Exercise 38:\n",
    "Create a list of tuples where each tuple contains a number and its square for numbers from 1 to 5.\n",
    "\n",
    "```python\n",
    "# Exercise 38\n",
    "```"
   ]
  },
  {
   "cell_type": "code",
   "execution_count": null,
   "id": "ae70a74b-5613-4422-818a-e441e6176b6d",
   "metadata": {},
   "outputs": [],
   "source": [
    "squares_list = [(x, x**2) for x in range(1, 6)]\n",
    "# Output: [(1, 1), (2, 4), (3, 9), (4, 16), (5, 25)]"
   ]
  },
  {
   "cell_type": "markdown",
   "id": "6d3a8944-6640-4c69-99d7-d2414d822936",
   "metadata": {
    "id": "bea983a3"
   },
   "source": [
    "---\n",
    "\n",
    "### Exercise 39:\n",
    "Write a Python function that takes a list of tuples and returns a list of the second elements from each tuple.\n",
    "\n",
    "```python\n",
    "# Exercise 39\n",
    "```\n",
    "\n",
    "-"
   ]
  },
  {
   "cell_type": "code",
   "execution_count": null,
   "id": "f057583e-6e17-46c1-8c78-c80faa081740",
   "metadata": {},
   "outputs": [],
   "source": [
    "def get_second_elements(tuples_list):\n",
    "    return [t[1] for t in tuples_list]\n",
    "\n",
    "# Example\n",
    "tuples = [(1, 'a'), (2, 'b'), (3, 'c')]\n",
    "print(get_second_elements(tuples))  # Output: ['a', 'b', 'c']def flatten_list(nested_list):\n",
    "    return [item for sublist in nested_list for item in sublist]\n",
    "\n",
    "# Example\n",
    "nested = [[1, 2], [3, 4], [5, 6]]\n",
    "print(flatten_list(nested))  # Output: [1, 2, 3, 4, 5, 6]"
   ]
  },
  {
   "cell_type": "markdown",
   "id": "d796ae3f-1391-47e2-9383-bbdd44186ef2",
   "metadata": {
    "id": "bea983a3"
   },
   "source": [
    "--\n",
    "\n",
    "### Exercise 40:\n",
    "Write a Python function that flattens a list of lists into a single list.\n",
    "\n",
    "```python\n",
    "# Exercise 40\n",
    "`"
   ]
  },
  {
   "cell_type": "code",
   "execution_count": null,
   "id": "176d53ed-035f-4533-9ba5-b13d8c923617",
   "metadata": {},
   "outputs": [],
   "source": [
    "def flatten_list(nested_list):\n",
    "    return [item for sublist in nested_list for item in sublist]\n",
    "\n",
    "# Example\n",
    "nested = [[1, 2], [3, 4], [5, 6]]\n",
    "print(flatten_list(nested))  # Output: [1, 2, 3, 4, 5, 6]"
   ]
  },
  {
   "cell_type": "markdown",
   "id": "be4f51bb-801a-420e-8349-6b6ec7cf9422",
   "metadata": {
    "id": "bea983a3"
   },
   "source": [
    "``\n",
    "\n",
    "---\n",
    "\n",
    "### Exercise 41:\n",
    "Use the `enumerate()` function to iterate through the list `[\"apple\", \"banana\", \"cherry\"]` and print the index and value.\n",
    "\n",
    "```python\n",
    "# Exercise 41\n",
    "```"
   ]
  },
  {
   "cell_type": "code",
   "execution_count": null,
   "id": "ac18e330-5318-40fd-b509-5aaeb8fa8ed5",
   "metadata": {},
   "outputs": [],
   "source": [
    "fruits = [\"apple\", \"banana\", \"cherry\"]\n",
    "for index, fruit in enumerate(fruits):\n",
    "    print(f\"Index {index}: {fruit}\")"
   ]
  },
  {
   "cell_type": "markdown",
   "id": "ffeddb91-32f0-47fc-a0e2-4da0b56c2851",
   "metadata": {
    "id": "bea983a3"
   },
   "source": [
    "---\n",
    "\n",
    "### Exercise 42:\n",
    "Write a Python program that checks if a tuple is empty.\n",
    "\n",
    "```python\n",
    "# Exercise 42\n",
    "```"
   ]
  },
  {
   "cell_type": "code",
   "execution_count": null,
   "id": "18960783-9a18-45c6-9de4-4f8e5af626de",
   "metadata": {},
   "outputs": [],
   "source": [
    "def is_tuple_empty(t):\n",
    "    return len(t) == 0\n",
    "\n",
    "# Example\n",
    "empty_tuple = ()\n",
    "non_empty = (1, 2, 3)\n",
    "print(is_tuple_empty(empty_tuple))    # Output: True\n",
    "print(is_tuple_empty(non_empty))      # Output: False"
   ]
  },
  {
   "cell_type": "markdown",
   "id": "05811ed5-4811-4c83-bfa9-066eedb2cdc7",
   "metadata": {
    "id": "bea983a3"
   },
   "source": [
    "---\n",
    "\n",
    "### Exercise 43:\n",
    "Create a list of even numbers between 1 and 20 using the `range()` function.\n",
    "\n",
    "```python\n",
    "# Exercise 43\n",
    "```"
   ]
  },
  {
   "cell_type": "code",
   "execution_count": null,
   "id": "eedb283f-a24c-4294-92b5-b5e3be838847",
   "metadata": {},
   "outputs": [],
   "source": [
    "even_numbers = list(range(2, 21, 2))\n",
    "# Output: [2, 4, 6, 8, 10, 12, 14, 16, 18, 20]"
   ]
  },
  {
   "cell_type": "markdown",
   "id": "b6e76150-9c2b-436a-bc11-c873553cc9e7",
   "metadata": {
    "id": "bea983a3"
   },
   "source": [
    "---\n",
    "\n",
    "### Exercise 44:\n",
    "Write a Python function that takes a list of numbers as input and returns the list in reverse order.\n",
    "\n",
    "```python\n",
    "# Exercise 44\n",
    "```"
   ]
  },
  {
   "cell_type": "code",
   "execution_count": null,
   "id": "715d8a5d-c7a7-4e72-a00c-c7e9421a77e3",
   "metadata": {},
   "outputs": [],
   "source": [
    "def reverse_list(lst):\n",
    "    return lst[::-1]\n",
    "\n",
    "# Example\n",
    "numbers = [1, 2, 3, 4, 5]\n",
    "print(reverse_list(numbers))  # Output: [5, 4, 3, 2, 1]"
   ]
  },
  {
   "cell_type": "markdown",
   "id": "23a85f5e-6ac3-4d83-82e7-428dda0d1307",
   "metadata": {
    "id": "bea983a3"
   },
   "source": [
    "---\n",
    "\n",
    "### Exercise 45:\n",
    "Create a dictionary comprehension that maps numbers from 1 to 5 to their cubes.\n",
    "\n",
    "```python\n",
    "# Exercise 45"
   ]
  },
  {
   "cell_type": "code",
   "execution_count": null,
   "id": "7d354bc8-14b7-44b1-989e-8aecfca1e956",
   "metadata": {},
   "outputs": [],
   "source": [
    "cubes_dict = {x: x**3 for x in range(1, 6)}\n",
    "# Output: {1: 1, 2: 8, 3: 27, 4: 64, 5: 125}"
   ]
  },
  {
   "cell_type": "markdown",
   "id": "043d1f85-ade1-46f3-bafe-40cdb7354b8a",
   "metadata": {
    "id": "bea983a3"
   },
   "source": []
  },
  {
   "cell_type": "markdown",
   "id": "9de225e8-b93d-44e3-bfa0-a60a3d1d3704",
   "metadata": {
    "id": "bea983a3"
   },
   "source": [
    "---\n",
    "\n",
    "### Exercise 46:\n",
    "Write a Python program that creates a new list containing only the unique elements of the list `[1, 2, 2, 3, 4, 4, 5]`.\n",
    "\n",
    "```python\n",
    "# Exercise 46\n",
    "```"
   ]
  },
  {
   "cell_type": "code",
   "execution_count": null,
   "id": "5cf16307-6a57-4c0d-93b3-cf05b5cb1cc0",
   "metadata": {},
   "outputs": [],
   "source": [
    "def unique_elements(lst):\n",
    "    seen = set()\n",
    "    return [x for x in lst if not (x in seen or seen.add(x))]\n",
    "\n",
    "# Example\n",
    "numbers = [1, 2, 2, 3, 4, 4, 5]\n",
    "print(unique_elements(numbers))  # Output: [1, 2, 3, 4, 5]"
   ]
  },
  {
   "cell_type": "markdown",
   "id": "0443109b-0417-43bf-8591-b284b51aed80",
   "metadata": {
    "id": "bea983a3"
   },
   "source": [
    "---"
   ]
  },
  {
   "cell_type": "markdown",
   "id": "d31caa53-44bb-4ef6-8498-43a9af48e172",
   "metadata": {
    "id": "bea983a3"
   },
   "source": [
    "### Exercise 47:\n",
    "Write a Python function that takes a list of dictionaries and returns a list of the values for a given key.\n",
    "\n",
    "```python\n",
    "# Exercise 47\n",
    "```"
   ]
  },
  {
   "cell_type": "code",
   "execution_count": null,
   "id": "f68baa34-eaa6-424a-a857-f5895e09cb56",
   "metadata": {},
   "outputs": [],
   "source": [
    "def extract_values(dict_list, key):\n",
    "    return [d.get(key) for d in dict_list]\n",
    "\n",
    "# Example\n",
    "students = [\n",
    "    {\"name\": \"Alice\", \"age\": 20},\n",
    "    {\"name\": \"Bob\", \"age\": 22},\n",
    "    {\"name\": \"Charlie\", \"age\": 21}\n",
    "]\n",
    "print(extract_values(students, \"name\"))  # Output: ['Alice', 'Bob', 'Charlie']"
   ]
  },
  {
   "cell_type": "markdown",
   "id": "89537113-6f7f-4e52-bb26-46822398271d",
   "metadata": {
    "id": "bea983a3"
   },
   "source": [
    "---\n",
    "\n",
    "### Exercise 48:\n",
    "Write a Python function that uses a generator to yield the Fibonacci sequence up to `n` terms.\n",
    "\n",
    "```python\n",
    "# Exercise 48\n",
    "```"
   ]
  },
  {
   "cell_type": "code",
   "execution_count": null,
   "id": "cd3b9681-2695-4919-8be2-8417a9dac205",
   "metadata": {},
   "outputs": [],
   "source": [
    "def fibonacci_generator(n):\n",
    "    a, b = 0, 1\n",
    "    for _ in range(n):\n",
    "        yield a\n",
    "        a, b = b, a + b\n",
    "\n",
    "# Usage\n",
    "fib_nums = list(fibonacci_generator(10))"
   ]
  },
  {
   "cell_type": "markdown",
   "id": "d1420649-bb1e-4206-bf22-91f2bf59e40a",
   "metadata": {
    "id": "bea983a3"
   },
   "source": [
    "---\n",
    "\n",
    "### Exercise 49:\n",
    "Write a Python function that takes a string and returns a list of all unique characters in the string.\n",
    "\n",
    "```python\n",
    "# Exercise 49\n",
    "```\n",
    "\n",
    "-"
   ]
  },
  {
   "cell_type": "code",
   "execution_count": null,
   "id": "a4f67331-0661-457a-bbcb-1536cc5ab1af",
   "metadata": {},
   "outputs": [],
   "source": [
    "def unique_chars(text):\n",
    "    return list(set(text))\n",
    "\n",
    "# Example\n",
    "print(unique_chars(\"hello\"))  # Output: ['h', 'e', 'l', 'o']"
   ]
  },
  {
   "cell_type": "markdown",
   "id": "fda359d5-7988-40d0-8706-ecfe94541ace",
   "metadata": {
    "id": "bea983a3"
   },
   "source": [
    "--\n",
    "\n",
    "### Exercise 50:\n",
    "Write a Python function that merges two sorted lists into a single sorted list.\n",
    "\n",
    "```python\n",
    "# Exercise 50\n",
    "```"
   ]
  },
  {
   "cell_type": "code",
   "execution_count": null,
   "id": "cdd484a9-2d19-4672-bc31-57dce24a32f2",
   "metadata": {},
   "outputs": [],
   "source": [
    "def merge_sorted_lists(list1, list2):\n",
    "    return sorted(list1 + list2)\n",
    "\n",
    "# Example\n",
    "list1 = [1, 3, 5]\n",
    "list2 = [2, 4, 6]\n",
    "print(merge_sorted_lists(list1, list2))  # Output: [1, 2, 3, 4, 5, 6]"
   ]
  },
  {
   "cell_type": "markdown",
   "id": "5eb6c892-e351-4419-9c10-26660fca02c4",
   "metadata": {
    "id": "bea983a3"
   },
   "source": [
    "---\n",
    "\n",
    "### Exercise 51:\n",
    "Use the\n",
    "\n",
    " `filter()` function to filter out odd numbers from the list `[1, 2, 3, 4, 5, 6]`.\n",
    "\n",
    "```python\n",
    "# Exercise 51\n",
    "```"
   ]
  },
  {
   "cell_type": "code",
   "execution_count": null,
   "id": "741cb46d-6e76-4e38-b6f7-d1b63ddaddf2",
   "metadata": {},
   "outputs": [],
   "source": [
    "numbers = [1, 2, 3, 4, 5, 6]\n",
    "even_numbers = list(filter(lambda x: x % 2 == 0, numbers))\n",
    "# Output: [2, 4, 6]"
   ]
  },
  {
   "cell_type": "markdown",
   "id": "162b25a7-f5b6-416c-9d3b-9f4fd704b7c3",
   "metadata": {
    "id": "bea983a3"
   },
   "source": [
    "---\n",
    "\n",
    "### Exercise 52:\n",
    "Write a Python program that converts a list of tuples `[(1, 2), (3, 4), (5, 6)]` into a dictionary.\n",
    "\n",
    "```python\n",
    "# Exercise 52\n",
    "```"
   ]
  },
  {
   "cell_type": "code",
   "execution_count": null,
   "id": "4712f648-19a7-4acb-a13a-1c4634f1fd11",
   "metadata": {},
   "outputs": [],
   "source": [
    "tuple_list = [(1, 2), (3, 4), (5, 6)]\n",
    "result_dict = dict(tuple_list)\n",
    "# Output: {1: 2, 3: 4, 5: 6}"
   ]
  },
  {
   "cell_type": "markdown",
   "id": "1a405a94-af84-4eb7-94c0-dce2b4079efa",
   "metadata": {
    "id": "bea983a3"
   },
   "source": [
    "---\n",
    "\n",
    "### Exercise 53:\n",
    "Write a Python function that takes two sets and returns their symmetric difference.\n",
    "\n",
    "```python\n",
    "# Exercise 53\n",
    "```\n",
    "\n",
    "-"
   ]
  },
  {
   "cell_type": "code",
   "execution_count": null,
   "id": "16d7531f-cf59-48b3-8da1-c13b26bd0863",
   "metadata": {},
   "outputs": [],
   "source": [
    "def symmetric_difference(set1, set2):\n",
    "    return set1 ^ set2\n",
    "\n",
    "# Example\n",
    "set1 = {1, 2, 3, 4}\n",
    "set2 = {3, 4, 5, 6}\n",
    "print(symmetric_difference(set1, set2))  # Output: {1, 2, 5, 6}"
   ]
  },
  {
   "cell_type": "markdown",
   "id": "677f67d5-b36c-4b82-908f-445682d5194b",
   "metadata": {
    "id": "bea983a3"
   },
   "source": [
    "--\n",
    "\n",
    "### Exercise 54:\n",
    "Write a Python program that finds the common elements in three lists `list1`, `list2`, and `list3`.\n",
    "\n",
    "```python\n",
    "# Exercise 54\n",
    "```"
   ]
  },
  {
   "cell_type": "code",
   "execution_count": null,
   "id": "fae5f694-d101-4670-9078-b96ce4e426d3",
   "metadata": {},
   "outputs": [],
   "source": [
    "def common_elements_three(list1, list2, list3):\n",
    "    return list(set(list1) & set(list2) & set(list3))\n",
    "\n",
    "# Example\n",
    "list1 = [1, 2, 3, 4]\n",
    "list2 = [2, 3, 4, 5]\n",
    "list3 = [3, 4, 5, 6]\n",
    "print(common_elements_three(list1, list2, list3))  # Output: [3, 4]"
   ]
  },
  {
   "cell_type": "markdown",
   "id": "9cb4386a-a18f-47ca-b8c0-9629bd8bc8c2",
   "metadata": {
    "id": "bea983a3"
   },
   "source": [
    "---\n",
    "\n",
    "### Exercise 55:\n",
    "Write a Python function that returns the factorial of a number using recursion.\n",
    "\n",
    "```python\n",
    "# Exercise 55\n",
    "```\n",
    "def common_elements_three(list1, list2, list3):\n",
    "    return list(set(list1) & set(list2) & set(list3))"
   ]
  },
  {
   "cell_type": "code",
   "execution_count": null,
   "id": "12d0a479-f93c-4439-b165-60b9fef3a874",
   "metadata": {},
   "outputs": [],
   "source": [
    "def factorial(n):\n",
    "    if n == 0 or n == 1:\n",
    "        return 1\n",
    "    else:\n",
    "        return n * factorial(n - 1)\n",
    "\n",
    "# Example\n",
    "print(factorial(5))  # Output: 120"
   ]
  },
  {
   "cell_type": "markdown",
   "id": "e21799b7-41d9-4fdc-8ec8-6da886ec0dc1",
   "metadata": {
    "id": "bea983a3"
   },
   "source": [
    "### Exercise 56:\n",
    "Write a Python program that removes all empty strings from the list `[\"apple\", \"\", \"banana\", \"\", \"cherry\"]`.\n",
    "\n",
    "```python\n",
    "# Exercise 56\n",
    "```\n",
    "\n",
    "-"
   ]
  },
  {
   "cell_type": "code",
   "execution_count": null,
   "id": "f6bfd050-734b-4d0f-ad9d-ee79d0115ea9",
   "metadata": {},
   "outputs": [],
   "source": [
    "def remove_empty_strings(lst):\n",
    "    return [item for item in lst if item != \"\"]\n",
    "\n",
    "# Example\n",
    "strings = [\"apple\", \"\", \"banana\", \"\", \"cherry\"]\n",
    "print(remove_empty_strings(strings))  # Output: ['apple', 'banana', 'cherry']"
   ]
  },
  {
   "cell_type": "markdown",
   "id": "9b3c2799-67b8-49fa-84d8-625f7c6f11f7",
   "metadata": {
    "id": "bea983a3"
   },
   "source": [
    "--\n",
    "\n",
    "### Exercise 57:\n",
    "Write a Python function that takes a dictionary and returns a new dictionary with the keys and values swapped.\n",
    "\n",
    "```python\n",
    "# Exercise 57\n",
    "```"
   ]
  },
  {
   "cell_type": "code",
   "execution_count": null,
   "id": "ef515d5c-ee45-4bb9-8d96-847e7451642f",
   "metadata": {},
   "outputs": [],
   "source": [
    "def swap_dict_keys_values(dictionary):\n",
    "    return {v: k for k, v in dictionary.items()}\n",
    "\n",
    "# Example\n",
    "original = {\"a\": 1, \"b\": 2, \"c\": 3}\n",
    "swapped = swap_dict_keys_values(original)\n",
    "# Output: {1: 'a', 2: 'b', 3: 'c'}"
   ]
  },
  {
   "cell_type": "markdown",
   "id": "15a132df-0ecb-418e-8265-1ce846a932bf",
   "metadata": {
    "id": "bea983a3"
   },
   "source": [
    "---\n",
    "\n",
    "### Exercise 58:\n",
    "Write a Python function that takes a list of integers and returns a new list with only the even numbers.\n",
    "\n",
    "```python\n",
    "# Exercise 58\n",
    "```\n",
    "\n",
    "-"
   ]
  },
  {
   "cell_type": "code",
   "execution_count": null,
   "id": "668c300d-cd6d-4041-877c-a6c216f07fea",
   "metadata": {},
   "outputs": [],
   "source": [
    "def get_even_numbers(numbers):\n",
    "    return [x for x in numbers if x % 2 == 0]\n",
    "\n",
    "# Example\n",
    "numbers = [1, 2, 3, 4, 5, 6, 7, 8, 9, 10]\n",
    "print(get_even_numbers(numbers))  # Output: [2, 4, 6, 8, 10]"
   ]
  },
  {
   "cell_type": "markdown",
   "id": "62895632-b631-45a5-8c4f-a2568c586cd0",
   "metadata": {
    "id": "bea983a3"
   },
   "source": [
    "--\n",
    "\n",
    "### Exercise 59:\n",
    "Write a Python function that takes a list of tuples and returns a list of the first elements of each tuple.\n",
    "\n",
    "```python\n",
    "# Exercise 59\n",
    "```"
   ]
  },
  {
   "cell_type": "code",
   "execution_count": null,
   "id": "2307e27c-b6dd-4d26-ba32-568f94a157f1",
   "metadata": {},
   "outputs": [],
   "source": [
    "def get_first_elements(tuples_list):\n",
    "    return [t[0] for t in tuples_list]\n",
    "\n",
    "# Example\n",
    "tuples = [(1, 'a'), (2, 'b'), (3, 'c')]\n",
    "print(get_first_elements(tuples))  # Output: [1, 2, 3]"
   ]
  },
  {
   "cell_type": "markdown",
   "id": "632bc410-2e3f-4db4-89b2-87ac58a869e5",
   "metadata": {
    "id": "bea983a3"
   },
   "source": [
    "---\n",
    "\n",
    "### Exercise 60:\n",
    "Write a Python program that removes duplicates from a list without changing the order of elements.\n",
    "\n",
    "```python\n",
    "# Exercise 60\n",
    "```"
   ]
  },
  {
   "cell_type": "code",
   "execution_count": null,
   "id": "369a095b-dc53-4da7-9524-1b93b57497e8",
   "metadata": {},
   "outputs": [],
   "source": [
    "def remove_duplicates_preserve_order(lst):\n",
    "    seen = set()\n",
    "    result = []\n",
    "    for item in lst:\n",
    "        if item not in seen:\n",
    "            seen.add(item)\n",
    "            result.append(item)\n",
    "    return result\n",
    "\n",
    "# Example\n",
    "numbers = [1, 2, 2, 3, 4, 4, 5]\n",
    "print(remove_duplicates_preserve_order(numbers))  # Output: [1, 2, 3, 4, 5]"
   ]
  },
  {
   "cell_type": "markdown",
   "id": "0c79b48f-a1b4-4bf0-a59d-75d091d41f1f",
   "metadata": {
    "id": "bea983a3"
   },
   "source": [
    "---\n",
    "\n",
    "### Exercise 61:\n",
    "Use the `map()` function to convert a list of strings to a list of their lengths.\n",
    "\n",
    "```python\n",
    "# Exercise 61\n",
    "```\n",
    "\n",
    "-"
   ]
  },
  {
   "cell_type": "code",
   "execution_count": null,
   "id": "a39ef6c0-6650-4a98-80bf-155a61233487",
   "metadata": {},
   "outputs": [],
   "source": [
    "strings = [\"apple\", \"banana\", \"cherry\", \"date\"]\n",
    "lengths = list(map(len, strings))\n",
    "# Output: [5, 6, 6, 4]"
   ]
  },
  {
   "cell_type": "markdown",
   "id": "f7747192-bcd3-46f2-9f6f-1e8c4c8fd06f",
   "metadata": {
    "id": "bea983a3"
   },
   "source": [
    "--\n",
    "\n",
    "### Exercise 62:\n",
    "Write a Python program that calculates the average of a list of numbers.\n",
    "\n",
    "```python\n",
    "# Exercise 62\n",
    "```"
   ]
  },
  {
   "cell_type": "code",
   "execution_count": null,
   "id": "1de77c17-8b80-49df-b6b0-64cfe1f7609b",
   "metadata": {},
   "outputs": [],
   "source": [
    "def calculate_average(numbers):\n",
    "    return sum(numbers) / len(numbers) if numbers else 0\n",
    "\n",
    "# Example\n",
    "numbers = [10, 20, 30, 40, 50]\n",
    "print(calculate_average(numbers))  # Output: 30.0"
   ]
  },
  {
   "cell_type": "markdown",
   "id": "da3db0a7-a560-40e2-97ed-2a1902c9c8c8",
   "metadata": {
    "id": "bea983a3"
   },
   "source": [
    "---\n",
    "\n",
    "### Exercise 63:\n",
    "Write a Python function that generates a list of the first `n` Fibonacci numbers.\n",
    "\n",
    "```python\n",
    "# Exercise 63\n",
    "```"
   ]
  },
  {
   "cell_type": "code",
   "execution_count": null,
   "id": "70d0f903-efd4-4cc1-b8a7-22ce22d95d94",
   "metadata": {},
   "outputs": [],
   "source": [
    "def fibonacci_list(n):\n",
    "    fib_sequence = []\n",
    "    a, b = 0, 1\n",
    "    for _ in range(n):\n",
    "        fib_sequence.append(a)\n",
    "        a, b = b, a + b\n",
    "    return fib_sequence\n",
    "\n",
    "# Example\n",
    "print(fibonacci_list(10))  # Output: [0, 1, 1, 2, 3, 5, 8, 13, 21, 34]"
   ]
  },
  {
   "cell_type": "markdown",
   "id": "2754bf4a-faeb-45fd-b18c-ad2c73b8825f",
   "metadata": {
    "id": "bea983a3"
   },
   "source": [
    "---\n",
    "\n",
    "### Exercise 64:\n",
    "Write a Python program that counts how many times each element appears in the list `[\"apple\", \"banana\", \"apple\", \"cherry\"]`.\n",
    "\n",
    "```python\n",
    "# Exercise 64\n",
    "```\n",
    "\n",
    "--"
   ]
  },
  {
   "cell_type": "code",
   "execution_count": null,
   "id": "6c7de7c0-f9d8-466e-b534-05bf11efc96b",
   "metadata": {},
   "outputs": [],
   "source": [
    "from collections import Counter\n",
    "\n",
    "def count_occurrences(lst):\n",
    "    return dict(Counter(lst))\n",
    "\n",
    "# Example\n",
    "fruits = [\"apple\", \"banana\", \"apple\", \"cherry\"]\n",
    "print(count_occurrences(fruits))  # Output: {'apple': 2, 'banana': 1, 'cherry': 1}"
   ]
  },
  {
   "cell_type": "markdown",
   "id": "62786ade-8078-44bb-8dfc-3cec71044f11",
   "metadata": {
    "id": "bea983a3"
   },
   "source": [
    "-\n",
    "\n",
    "### Exercise 65:\n",
    "Write a Python program that removes all occurrences of a specific value from a list.\n",
    "\n",
    "```python\n",
    "# Exercise 65\n",
    "```"
   ]
  },
  {
   "cell_type": "code",
   "execution_count": null,
   "id": "9a1ea217-9f8e-4394-8a09-2a9a0d407430",
   "metadata": {},
   "outputs": [],
   "source": [
    "def remove_all_occurrences(lst, value):\n",
    "    return [x for x in lst if x != value]\n",
    "\n",
    "# Example\n",
    "numbers = [1, 2, 3, 2, 4, 2, 5]\n",
    "print(remove_all_occurrences(numbers, 2))  # Output: [1, 3, 4, 5]"
   ]
  },
  {
   "cell_type": "markdown",
   "id": "56736e92-dbe9-49a4-9c69-e57a590e1e93",
   "metadata": {
    "id": "bea983a3"
   },
   "source": [
    "---\n",
    "\n",
    "### Exercise 66:\n",
    "Write a Python function that takes a list of strings and returns a list of the strings that start with a vowel.\n",
    "\n",
    "```python\n",
    "# Exercise 66\n",
    "```"
   ]
  },
  {
   "cell_type": "code",
   "execution_count": null,
   "id": "166bfddd-5b72-4dc4-837b-e363ce70384f",
   "metadata": {},
   "outputs": [],
   "source": [
    "def starts_with_vowel(strings):\n",
    "    vowels = 'aeiouAEIOU'\n",
    "    return [s for s in strings if s[0] in vowels]\n",
    "\n",
    "# Example\n",
    "words = [\"apple\", \"banana\", \"orange\", \"umbrella\", \"cat\"]\n",
    "print(starts_with_vowel(words))  # Output: ['apple', 'orange', 'umbrella']"
   ]
  },
  {
   "cell_type": "markdown",
   "id": "67a63108-1649-458c-ab44-e18768241781",
   "metadata": {
    "id": "bea983a3"
   },
   "source": [
    "---\n",
    "\n",
    "### Exercise 67:\n",
    "Write a Python program that finds the intersection of two sets `set1` and `set2`.\n",
    "\n",
    "```python\n",
    "# Exercise 67\n",
    "```"
   ]
  },
  {
   "cell_type": "code",
   "execution_count": null,
   "id": "ab3d510c-f09b-4811-8f93-bc85ffa46326",
   "metadata": {},
   "outputs": [],
   "source": [
    "def set_intersection(set1, set2):\n",
    "    return set1 & set2\n",
    "\n",
    "# Example\n",
    "set1 = {1, 2, 3, 4}\n",
    "set2 = {3, 4, 5, 6}\n",
    "print(set_intersection(set1, set2))  # Output: {3, 4}"
   ]
  },
  {
   "cell_type": "markdown",
   "id": "4a60d522-3000-4a57-b2bc-96192dc93928",
   "metadata": {
    "id": "bea983a3"
   },
   "source": [
    "---\n",
    "\n",
    "### Exercise 68:\n",
    "Write a Python function that flattens a nested list.\n",
    "\n",
    "```python\n",
    "# Exercise 68\n",
    "```"
   ]
  },
  {
   "cell_type": "code",
   "execution_count": null,
   "id": "90afaced-0299-4be3-b6b5-d9d1651ef794",
   "metadata": {},
   "outputs": [],
   "source": [
    "def flatten_nested_list(nested_list):\n",
    "    result = []\n",
    "    for item in nested_list:\n",
    "        if isinstance(item, list):\n",
    "            result.extend(flatten_nested_list(item))\n",
    "        else:\n",
    "            result.append(item)\n",
    "    return result\n",
    "\n",
    "# Example\n",
    "nested = [1, [2, [3, 4], 5], 6]\n",
    "print(flatten_nested_list(nested))  # Output: [1, 2, 3, 4, 5, 6]"
   ]
  },
  {
   "cell_type": "markdown",
   "id": "ce7da5d8-25d9-48f8-a751-e5764e080722",
   "metadata": {
    "id": "bea983a3"
   },
   "source": [
    "---\n",
    "\n",
    "### Exercise 69:\n",
    "Write a Python program that checks if all the elements in a list are unique.\n",
    "\n",
    "```python\n",
    "# Exercise 69\n",
    "```"
   ]
  },
  {
   "cell_type": "code",
   "execution_count": null,
   "id": "ae930306-b21a-4e76-8b33-b16386ef51bb",
   "metadata": {},
   "outputs": [],
   "source": [
    "def all_unique(lst):\n",
    "    return len(lst) == len(set(lst))\n",
    "\n",
    "# Example\n",
    "print(all_unique([1, 2, 3, 4, 5]))    # Output: True\n",
    "print(all_unique([1, 2, 3, 3, 4]))    # Output: False"
   ]
  },
  {
   "cell_type": "markdown",
   "id": "39c58508-2ece-41a0-aa94-60117ce9d071",
   "metadata": {
    "id": "bea983a3"
   },
   "source": [
    "---\n",
    "\n",
    "### Exercise 70:\n",
    "Use the `reduce()` function from the `functools` module to multiply all elements in a list.\n",
    "\n",
    "```python\n",
    "# Exercise 70\n",
    "```\n",
    "\n",
    "-"
   ]
  },
  {
   "cell_type": "code",
   "execution_count": null,
   "id": "c014eeda-e4e3-4c88-86fb-69c6c9fdb5ba",
   "metadata": {},
   "outputs": [],
   "source": [
    "from functools import reduce\n",
    "\n",
    "def multiply_elements(lst):\n",
    "    return reduce(lambda x, y: x * y, lst)\n",
    "\n",
    "# Example\n",
    "numbers = [1, 2, 3, 4, 5]\n",
    "print(multiply_elements(numbers))  # Output: 120"
   ]
  },
  {
   "cell_type": "markdown",
   "id": "b8c841de-1fc7-46b4-9150-6c64e47fe4ac",
   "metadata": {
    "id": "bea983a3"
   },
   "source": [
    "--\n",
    "\n",
    "### Exercise 71:\n",
    "Write a Python function that takes a list of strings and returns a dictionary where keys are strings and values are their lengths.\n",
    "\n",
    "```python\n",
    "# Exercise 71\n",
    "```\n",
    "\n",
    "--"
   ]
  },
  {
   "cell_type": "code",
   "execution_count": null,
   "id": "79729837-1026-4a90-a5dd-5dcdf3af931a",
   "metadata": {},
   "outputs": [],
   "source": [
    "def string_length_dict(strings):\n",
    "    return {s: len(s) for s in strings}\n",
    "\n",
    "# Example\n",
    "words = [\"apple\", \"banana\", \"cherry\"]\n",
    "print(string_length_dict(words))  # Output: {'apple': 5, 'banana': 6, 'cherry': 6}"
   ]
  },
  {
   "cell_type": "markdown",
   "id": "3d163b78-c053-4cc7-b1c2-c11562ccc185",
   "metadata": {
    "id": "bea983a3"
   },
   "source": [
    "-\n",
    "\n",
    "### Exercise 72:\n",
    "Write a Python program that counts the number of vowels in a string.\n",
    "\n",
    "```python\n",
    "# Exercise 72\n",
    "```"
   ]
  },
  {
   "cell_type": "code",
   "execution_count": null,
   "id": "2d42264e-e814-4bf7-8a75-efeaed3ce65d",
   "metadata": {},
   "outputs": [],
   "source": [
    "def count_vowels(text):\n",
    "    vowels = 'aeiouAEIOU'\n",
    "    return sum(1 for char in text if char in vowels)\n",
    "\n",
    "# Example\n",
    "print(count_vowels(\"Hello World\"))  # Output: 3"
   ]
  },
  {
   "cell_type": "markdown",
   "id": "d1965412-d654-4c29-88f3-e5927d37a35d",
   "metadata": {
    "id": "bea983a3"
   },
   "source": [
    "---\n",
    "\n",
    "### Exercise 73:\n",
    "Create a list of tuples where each tuple contains a number from 1 to 5 and its factorial.\n",
    "\n",
    "```python\n",
    "# Exercise 73\n",
    "```"
   ]
  },
  {
   "cell_type": "code",
   "execution_count": null,
   "id": "b57884ba-4717-4e51-a012-59e2615fa08f",
   "metadata": {},
   "outputs": [],
   "source": [
    "def factorial(n):\n",
    "    if n == 0 or n == 1:\n",
    "        return 1\n",
    "    else:\n",
    "        return n * factorial(n - 1)\n",
    "\n",
    "factorial_tuples = [(x, factorial(x)) for x in range(1, 6)]\n",
    "# Output: [(1, 1), (2, 2), (3, 6), (4, 24), (5, 120)]"
   ]
  },
  {
   "cell_type": "markdown",
   "id": "9968c7ca-7859-43e2-b3c5-de882d799225",
   "metadata": {
    "id": "bea983a3"
   },
   "source": [
    "---\n",
    "\n",
    "### Exercise 74:\n",
    "Write a Python program that converts a list of dictionaries into a single dictionary by merging them.\n",
    "\n",
    "```python\n",
    "# Exercise 74\n",
    "```"
   ]
  },
  {
   "cell_type": "code",
   "execution_count": null,
   "id": "70e06ebd-8188-4da1-8125-92bdefd093e3",
   "metadata": {},
   "outputs": [],
   "source": [
    "def merge_dict_list(dict_list):\n",
    "    result = {}\n",
    "    for d in dict_list:\n",
    "        result.update(d)\n",
    "    return result\n",
    "\n",
    "# Example\n",
    "dicts = [{\"a\": 1}, {\"b\": 2}, {\"c\": 3}]\n",
    "print(merge_dict_list(dicts))  # Output: {'a': 1, 'b': 2, 'c': 3}"
   ]
  },
  {
   "cell_type": "markdown",
   "id": "ad3d5d14-682d-434a-a6ea-d77567274179",
   "metadata": {
    "id": "bea983a3"
   },
   "source": [
    "---\n",
    "\n",
    "### Exercise 75:\n",
    "Write a Python function that checks if a set is a subset of another set.\n",
    "\n",
    "```python\n",
    "# Exercise 75\n",
    "```"
   ]
  },
  {
   "cell_type": "code",
   "execution_count": null,
   "id": "079e74d2-5298-4f36-a6d6-53d04d46a5cb",
   "metadata": {},
   "outputs": [],
   "source": [
    "def is_subset(set1, set2):\n",
    "    return set1.issubset(set2)\n",
    "\n",
    "# Example\n",
    "set1 = {1, 2}\n",
    "set2 = {1, 2, 3, 4}\n",
    "print(is_subset(set1, set2))  # Output: True"
   ]
  },
  {
   "cell_type": "markdown",
   "id": "880415b9-5245-437c-b316-8b15044407ed",
   "metadata": {
    "id": "bea983a3"
   },
   "source": [
    "---\n",
    "\n",
    "### Exercise 76:\n",
    "Write a Python program that sorts a list of tuples based on the second element in each tuple.\n",
    "\n",
    "```python\n",
    "# Exercise 76"
   ]
  },
  {
   "cell_type": "code",
   "execution_count": null,
   "id": "2f9c6cc6-145f-47ec-9b73-0d89a602489b",
   "metadata": {},
   "outputs": [],
   "source": [
    "def sort_by_second_element(tuples_list):\n",
    "    return sorted(tuples_list, key=lambda x: x[1])\n",
    "\n",
    "# Example\n",
    "tuples = [(1, 5), (2, 3), (3, 8), (4, 1)]\n",
    "print(sort_by_second_element(tuples))  # Output: [(4, 1), (2, 3), (1, 5), (3, 8)]"
   ]
  },
  {
   "cell_type": "markdown",
   "id": "d7a966aa-ecb6-4d78-add2-8e44d5fc1eaa",
   "metadata": {
    "id": "bea983a3"
   },
   "source": [
    "```\n",
    "\n",
    "---\n",
    "\n",
    "### Exercise 77:\n",
    "Write a Python function that takes a list of integers and returns a new list with only the positive integers.\n",
    "\n",
    "```python\n",
    "# Exercise 77\n",
    "`"
   ]
  },
  {
   "cell_type": "code",
   "execution_count": null,
   "id": "afc4a031-188a-45a2-ab25-cb2c00e8ce1c",
   "metadata": {},
   "outputs": [],
   "source": [
    "def positive_integers(numbers):\n",
    "    return [x for x in numbers if x > 0]\n",
    "\n",
    "# Example\n",
    "numbers = [-2, -1, 0, 1, 2, 3, -4]\n",
    "print(positive_integers(numbers))  # Output: [1, 2, 3]"
   ]
  },
  {
   "cell_type": "markdown",
   "id": "c87a1076-9159-49ea-901b-4a622e4ad54e",
   "metadata": {
    "id": "bea983a3"
   },
   "source": [
    "``\n",
    "\n",
    "---\n",
    "\n",
    "### Exercise 78:\n",
    "Write a Python function that takes two sets and returns their union.\n",
    "\n",
    "```python\n",
    "# Exercise 78\n",
    "```"
   ]
  },
  {
   "cell_type": "code",
   "execution_count": null,
   "id": "47cbea31-d87f-4e3c-87a6-d7046b870704",
   "metadata": {},
   "outputs": [],
   "source": [
    "def set_union(set1, set2):\n",
    "    return set1 | set2\n",
    "\n",
    "# Example\n",
    "set1 = {1, 2, 3}\n",
    "set2 = {3, 4, 5}\n",
    "print(set_union(set1, set2))  # Output: {1, 2, 3, 4, 5}"
   ]
  },
  {
   "cell_type": "markdown",
   "id": "b3b13ac7-b70c-49a9-856c-b1ce9c24924c",
   "metadata": {
    "id": "bea983a3"
   },
   "source": [
    "---\n",
    "\n",
    "### Exercise 79:\n",
    "Write a Python function that takes a list of numbers and returns the product of all the numbers.\n",
    "\n",
    "```python\n",
    "# Exercise 79\n",
    "```"
   ]
  },
  {
   "cell_type": "code",
   "execution_count": 43,
   "id": "97734ee9-d252-4182-b770-57afee0f9068",
   "metadata": {},
   "outputs": [
    {
     "name": "stdout",
     "output_type": "stream",
     "text": [
      "120\n"
     ]
    }
   ],
   "source": [
    "def product_of_numbers(numbers):\n",
    "    result = 1\n",
    "    for num in numbers:\n",
    "        result *= num\n",
    "    return result\n",
    "\n",
    "# Example\n",
    "numbers = [1, 2, 3, 4, 5]\n",
    "print(product_of_numbers(numbers))  # Output: 120"
   ]
  },
  {
   "cell_type": "markdown",
   "id": "128ff4d0-ceca-47ea-8504-8d14cc549b3a",
   "metadata": {
    "id": "bea983a3"
   },
   "source": [
    "---\n",
    "\n",
    "### Exercise 80:\n",
    "Write a Python program that converts a list of characters into a string.\n",
    "\n",
    "```python\n",
    "# Exercise 80\n",
    "```\n",
    "\n",
    "---"
   ]
  },
  {
   "cell_type": "code",
   "execution_count": 42,
   "id": "6444590f-5e87-4087-893f-c3fde5448471",
   "metadata": {},
   "outputs": [
    {
     "name": "stdout",
     "output_type": "stream",
     "text": [
      "hello\n"
     ]
    }
   ],
   "source": [
    "def chars_to_string(char_list):\n",
    "    return ''.join(char_list)\n",
    "\n",
    "# Example\n",
    "chars = ['h', 'e', 'l', 'l', 'o']\n",
    "print(chars_to_string(chars))  # Output: \"hello\""
   ]
  },
  {
   "cell_type": "markdown",
   "id": "d986f3ce-1d45-4ed5-90f9-1b08168ad23b",
   "metadata": {
    "id": "bea983a3"
   },
   "source": [
    "### Exercise 81:\n",
    "Write a Python program that finds the second largest number in a list of integers.\n",
    "\n",
    "```python\n",
    "# Exercise 81\n",
    "```\n",
    "\n",
    "-"
   ]
  },
  {
   "cell_type": "code",
   "execution_count": 41,
   "id": "fcc81e7c-8081-4bfa-a34b-ae432966435d",
   "metadata": {},
   "outputs": [
    {
     "name": "stdout",
     "output_type": "stream",
     "text": [
      "45\n"
     ]
    }
   ],
   "source": [
    "def second_largest(numbers):\n",
    "    unique_numbers = list(set(numbers))\n",
    "    unique_numbers.sort()\n",
    "    return unique_numbers[-2] if len(unique_numbers) >= 2 else None\n",
    "\n",
    "# Example\n",
    "numbers = [10, 20, 4, 45, 99, 99]\n",
    "print(second_largest(numbers))  # Output: 45"
   ]
  },
  {
   "cell_type": "markdown",
   "id": "65aa1fae-baef-4ec0-8a40-837055d24958",
   "metadata": {
    "id": "bea983a3"
   },
   "source": [
    "--\n",
    "\n",
    "### Exercise 82:\n",
    "Write a Python function that takes a dictionary and returns a list of its keys in sorted order.\n",
    "\n",
    "```python\n",
    "# Exercise 82\n",
    "```"
   ]
  },
  {
   "cell_type": "code",
   "execution_count": 40,
   "id": "44378e5c-5d5f-4e0f-998f-cbc669d33dec",
   "metadata": {},
   "outputs": [
    {
     "name": "stdout",
     "output_type": "stream",
     "text": [
      "['apple', 'banana', 'cherry']\n"
     ]
    }
   ],
   "source": [
    "def sorted_dict_keys(dictionary):\n",
    "    return sorted(dictionary.keys())\n",
    "\n",
    "# Example\n",
    "my_dict = {\"banana\": 3, \"apple\": 1, \"cherry\": 2}\n",
    "print(sorted_dict_keys(my_dict))  # Output: ['apple', 'banana', 'cherry']"
   ]
  },
  {
   "cell_type": "markdown",
   "id": "6506c025-b064-4c54-8bff-6ca3561540da",
   "metadata": {
    "id": "bea983a3"
   },
   "source": [
    "---\n",
    "\n",
    "### Exercise 83:\n",
    "Write a Python program that finds the most common element in a list.\n",
    "\n",
    "```python\n",
    "# Exercise 83\n",
    "```"
   ]
  },
  {
   "cell_type": "code",
   "execution_count": 39,
   "id": "770b8784-ce9c-4054-9edc-58f0cb37e85c",
   "metadata": {},
   "outputs": [
    {
     "name": "stdout",
     "output_type": "stream",
     "text": [
      "2\n"
     ]
    }
   ],
   "source": [
    "from collections import Counter\n",
    "\n",
    "def most_common_element(lst):\n",
    "    counter = Counter(lst)\n",
    "    return counter.most_common(1)[0][0]\n",
    "\n",
    "# Example\n",
    "numbers = [1, 2, 3, 2, 4, 2, 5, 2]\n",
    "print(most_common_element(numbers))  # Output: 2"
   ]
  },
  {
   "cell_type": "markdown",
   "id": "c0a8586d-2aa5-4a7a-aacf-e7e44269a07f",
   "metadata": {
    "id": "bea983a3"
   },
   "source": [
    "---\n",
    "\n",
    "### Exercise 84:\n",
    "Write a Python function that takes a list of tuples and returns a list of the tuples sorted by the first element.\n",
    "\n",
    "```python\n",
    "# Exercise 84\n",
    "```"
   ]
  },
  {
   "cell_type": "code",
   "execution_count": 38,
   "id": "e74602ef-f233-469c-b089-8c94d4c807ed",
   "metadata": {},
   "outputs": [
    {
     "name": "stdout",
     "output_type": "stream",
     "text": [
      "[(1, 'a'), (2, 'b'), (3, 'c'), (4, 'd')]\n"
     ]
    }
   ],
   "source": [
    "def sort_by_first_element(tuples_list):\n",
    "    return sorted(tuples_list, key=lambda x: x[0])\n",
    "\n",
    "# Example\n",
    "tuples = [(3, 'c'), (1, 'a'), (2, 'b'), (4, 'd')]\n",
    "print(sort_by_first_element(tuples))  # Output: [(1, 'a'), (2, 'b'), (3, 'c'), (4, 'd')]"
   ]
  },
  {
   "cell_type": "markdown",
   "id": "e2d6651b-3d4c-4daa-9b00-358ac587e065",
   "metadata": {
    "id": "bea983a3"
   },
   "source": [
    "---\n",
    "\n",
    "### Exercise 85:\n",
    "Write a Python program that removes duplicates from a list of dictionaries.\n",
    "\n",
    "```python\n",
    "# Exercise 85\n",
    "```"
   ]
  },
  {
   "cell_type": "code",
   "execution_count": 37,
   "id": "45eaf5ea-97ea-450b-b59f-4d5bc2ba7c35",
   "metadata": {},
   "outputs": [
    {
     "name": "stdout",
     "output_type": "stream",
     "text": [
      "[{'a': 1}, {'b': 2}, {'c': 3}]\n"
     ]
    }
   ],
   "source": [
    "def remove_duplicate_dicts(dict_list):\n",
    "    seen = set()\n",
    "    result = []\n",
    "    for d in dict_list:\n",
    "        # Convert dict to frozenset of items for hashing\n",
    "        dict_repr = frozenset(d.items())\n",
    "        if dict_repr not in seen:\n",
    "            seen.add(dict_repr)\n",
    "            result.append(d)\n",
    "    return result\n",
    "\n",
    "# Example\n",
    "dicts = [{\"a\": 1}, {\"b\": 2}, {\"a\": 1}, {\"c\": 3}]\n",
    "print(remove_duplicate_dicts(dicts))  # Output: [{'a': 1}, {'b': 2}, {'c': 3}]"
   ]
  },
  {
   "cell_type": "markdown",
   "id": "77e012b8-4edd-4068-8cf0-bef3360fc717",
   "metadata": {
    "id": "bea983a3"
   },
   "source": [
    "---\n",
    "\n",
    "### Exercise 86:\n",
    "Write a Python function that takes a list of numbers and returns the minimum and maximum numbers in the list.\n",
    "\n",
    "```python\n",
    "# Exercise 86\n",
    "```"
   ]
  },
  {
   "cell_type": "code",
   "execution_count": 36,
   "id": "95924d87-6752-438f-b75c-116a51d167f2",
   "metadata": {},
   "outputs": [
    {
     "name": "stdout",
     "output_type": "stream",
     "text": [
      "(5, 40)\n"
     ]
    }
   ],
   "source": [
    "def min_max(numbers):\n",
    "    return min(numbers), max(numbers)\n",
    "\n",
    "# Example\n",
    "numbers = [10, 20, 5, 40, 30]\n",
    "print(min_max(numbers))  # Output: (5, 40)"
   ]
  },
  {
   "cell_type": "markdown",
   "id": "2200b7bd-ee97-487f-85d0-566837304ee2",
   "metadata": {
    "id": "bea983a3"
   },
   "source": [
    "---\n",
    "\n",
    "### Exercise 87:\n",
    "Write a Python program that creates a list of tuples from two lists.\n",
    "\n",
    "```python\n",
    "# Exercise 87\n",
    "``"
   ]
  },
  {
   "cell_type": "code",
   "execution_count": 35,
   "id": "43379ba1-e27d-45ec-9b38-80625e0c9920",
   "metadata": {},
   "outputs": [
    {
     "name": "stdout",
     "output_type": "stream",
     "text": [
      "[(1, 'a'), (2, 'b'), (3, 'c')]\n"
     ]
    }
   ],
   "source": [
    "def zip_lists(list1, list2):\n",
    "    return list(zip(list1, list2))\n",
    "\n",
    "# Example\n",
    "list1 = [1, 2, 3]\n",
    "list2 = ['a', 'b', 'c']\n",
    "print(zip_lists(list1, list2))  # Output: [(1, 'a'), (2, 'b'), (3, 'c')]"
   ]
  },
  {
   "cell_type": "markdown",
   "id": "6173bf52-da54-4f1c-b95a-f03ff3d671de",
   "metadata": {
    "id": "bea983a3"
   },
   "source": [
    "`\n",
    "\n",
    "---\n",
    "\n",
    "### Exercise 88:\n",
    "Write a Python function that takes a list of strings and returns a list of the strings in reverse order.\n",
    "\n",
    "```python\n",
    "# Exercise 88\n",
    "```"
   ]
  },
  {
   "cell_type": "code",
   "execution_count": 34,
   "id": "bebcab95-0e3f-4c15-bf4d-9894c4004ce0",
   "metadata": {},
   "outputs": [
    {
     "name": "stdout",
     "output_type": "stream",
     "text": [
      "['elppa', 'ananab', 'yrrehc']\n"
     ]
    }
   ],
   "source": [
    "def reverse_strings(strings):\n",
    "    return [s[::-1] for s in strings]\n",
    "\n",
    "# Example\n",
    "words = [\"apple\", \"banana\", \"cherry\"]\n",
    "print(reverse_strings(words))  # Output: ['elppa', 'ananab', 'yrrehc']"
   ]
  },
  {
   "cell_type": "markdown",
   "id": "ab625228-cdde-4401-a2e4-50af52b6ee97",
   "metadata": {
    "id": "bea983a3"
   },
   "source": [
    "---\n",
    "\n",
    "### Exercise 89:\n",
    "Write a Python function that takes a list of integers and returns the sum of all odd numbers.\n",
    "\n",
    "```python\n",
    "# Exercise 89\n",
    "```"
   ]
  },
  {
   "cell_type": "code",
   "execution_count": 33,
   "id": "23622282-739c-41b5-9a18-5dafdd6fd09d",
   "metadata": {},
   "outputs": [
    {
     "name": "stdout",
     "output_type": "stream",
     "text": [
      "25\n"
     ]
    }
   ],
   "source": [
    "def sum_odd_numbers(numbers):\n",
    "    return sum(x for x in numbers if x % 2 != 0)\n",
    "\n",
    "# Example\n",
    "numbers = [1, 2, 3, 4, 5, 6, 7, 8, 9, 10]\n",
    "print(sum_odd_numbers(numbers))  # Output: 25"
   ]
  },
  {
   "cell_type": "markdown",
   "id": "6a401615-9950-4bcd-9ca8-91a5fc554ecc",
   "metadata": {
    "id": "bea983a3"
   },
   "source": [
    "---\n",
    "\n",
    "### Exercise 90:\n",
    "Write a Python program that checks if a string is a palindrome.\n",
    "\n",
    "```python\n",
    "# Exercise 90\n",
    "```"
   ]
  },
  {
   "cell_type": "code",
   "execution_count": 32,
   "id": "e6505f08-193d-4180-9a78-29162ff6a91d",
   "metadata": {},
   "outputs": [
    {
     "name": "stdout",
     "output_type": "stream",
     "text": [
      "True\n",
      "False\n"
     ]
    }
   ],
   "source": [
    "def is_palindrome(text):\n",
    "    cleaned = ''.join(char.lower() for char in text if char.isalnum())\n",
    "    return cleaned == cleaned[::-1]\n",
    "\n",
    "# Example\n",
    "print(is_palindrome(\"A man a plan a canal Panama\"))  # Output: True\n",
    "print(is_palindrome(\"hello\"))  # Output: False"
   ]
  },
  {
   "cell_type": "markdown",
   "id": "d80eea47-d145-455e-9c69-b15fe1d4c3a9",
   "metadata": {
    "id": "bea983a3"
   },
   "source": [
    "---\n",
    "\n",
    "### Exercise 91:\n",
    "Write a Python program that finds the median of a list of numbers.\n",
    "\n",
    "```python\n",
    "# Exercise 91\n",
    "```"
   ]
  },
  {
   "cell_type": "code",
   "execution_count": 31,
   "id": "d128583e-9625-4e5d-a6b4-a949c71a0a09",
   "metadata": {},
   "outputs": [
    {
     "name": "stdout",
     "output_type": "stream",
     "text": [
      "3\n"
     ]
    }
   ],
   "source": [
    "def median(numbers):\n",
    "    sorted_numbers = sorted(numbers)\n",
    "    n = len(sorted_numbers)\n",
    "    if n % 2 == 0:\n",
    "        return (sorted_numbers[n//2 - 1] + sorted_numbers[n//2]) / 2\n",
    "    else:\n",
    "        return sorted_numbers[n//2]\n",
    "\n",
    "# Example\n",
    "numbers = [1, 3, 2, 5, 4]\n",
    "print(median(numbers))  # Output: 3"
   ]
  },
  {
   "cell_type": "markdown",
   "id": "e1daabd8-733b-4fed-8907-6496da6079f6",
   "metadata": {
    "id": "bea983a3"
   },
   "source": [
    "---\n",
    "\n",
    "### Exercise 92:\n",
    "Write a Python function that takes a list of dictionaries and returns a dictionary with the total value for each key.\n",
    "\n",
    "```python\n",
    "# Exercise 92\n",
    "```"
   ]
  },
  {
   "cell_type": "code",
   "execution_count": 30,
   "id": "86cbcec8-888c-4cfa-9957-61ab80cf512b",
   "metadata": {},
   "outputs": [
    {
     "name": "stdout",
     "output_type": "stream",
     "text": [
      "{'a': 4, 'b': 7, 'c': 10}\n"
     ]
    }
   ],
   "source": [
    "def sum_values_by_key(dict_list):\n",
    "    result = {}\n",
    "    for d in dict_list:\n",
    "        for key, value in d.items():\n",
    "            result[key] = result.get(key, 0) + value\n",
    "    return result\n",
    "\n",
    "# Example\n",
    "dicts = [{\"a\": 1, \"b\": 2}, {\"a\": 3, \"c\": 4}, {\"b\": 5, \"c\": 6}]\n",
    "print(sum_values_by_key(dicts))  # Output: {'a': 4, 'b': 7, 'c': 10}"
   ]
  },
  {
   "cell_type": "markdown",
   "id": "68db55c9-dd5c-48a0-9b33-bca8051dbb0d",
   "metadata": {
    "id": "bea983a3"
   },
   "source": [
    "---\n",
    "\n",
    "### Exercise 93:\n",
    "Write a Python program that calculates the mode of a list of numbers.\n",
    "\n",
    "```python\n",
    "# Exercise 93\n",
    "```"
   ]
  },
  {
   "cell_type": "code",
   "execution_count": 29,
   "id": "333f65ad-f14d-4529-b089-38f576f0287c",
   "metadata": {},
   "outputs": [
    {
     "name": "stdout",
     "output_type": "stream",
     "text": [
      "[3]\n"
     ]
    }
   ],
   "source": [
    "from collections import Counter\n",
    "\n",
    "def find_mode(numbers):\n",
    "    counter = Counter(numbers)\n",
    "    max_count = max(counter.values())\n",
    "    return [num for num, count in counter.items() if count == max_count]\n",
    "\n",
    "# Example\n",
    "numbers = [1, 2, 2, 3, 3, 3, 4, 4]\n",
    "print(find_mode(numbers))  # Output: [3]"
   ]
  },
  {
   "cell_type": "markdown",
   "id": "aa9ffb84-e4a4-42e1-b6e3-52af42b9ac06",
   "metadata": {
    "id": "bea983a3"
   },
   "source": [
    "---\n",
    "\n",
    "### Exercise 94:\n",
    "Write a Python function that takes a list of numbers and returns the sum of the squares of all the numbers.\n",
    "\n",
    "```python\n",
    "# Exercise 94\n",
    "```"
   ]
  },
  {
   "cell_type": "code",
   "execution_count": 28,
   "id": "47b33c09-c852-4cba-a787-7f5ff6adc610",
   "metadata": {},
   "outputs": [
    {
     "name": "stdout",
     "output_type": "stream",
     "text": [
      "55\n"
     ]
    }
   ],
   "source": [
    "def sum_of_squares(numbers):\n",
    "    return sum(x**2 for x in numbers)\n",
    "\n",
    "# Example\n",
    "numbers = [1, 2, 3, 4, 5]\n",
    "print(sum_of_squares(numbers))  # Output: 55"
   ]
  },
  {
   "cell_type": "markdown",
   "id": "6cf758c7-ef3d-44a6-b267-c2d0620a1b65",
   "metadata": {
    "id": "bea983a3"
   },
   "source": [
    "---\n",
    "\n",
    "### Exercise 95:\n",
    "Write a Python program that creates a list of tuples, where each tuple contains a number and its cube for numbers from 1 to 5.\n",
    "\n",
    "```python\n",
    "# Exercise 95\n",
    "```"
   ]
  },
  {
   "cell_type": "code",
   "execution_count": 27,
   "id": "d8fcdb47-38ab-45e7-a7a8-f41a68b8942b",
   "metadata": {},
   "outputs": [],
   "source": [
    "cubes_list = [(x, x**3) for x in range(1, 6)]\n",
    "# Output: [(1, 1), (2, 8), (3, 27), (4, 64), (5, 125)]"
   ]
  },
  {
   "cell_type": "markdown",
   "id": "b8399868-11c8-4e73-a0f8-2621feba6867",
   "metadata": {
    "id": "bea983a3"
   },
   "source": [
    "---\n",
    "\n",
    "### Exercise 96:\n",
    "Write a Python function that returns a list of all prime numbers up to `n`.\n",
    "\n",
    "```python\n",
    "# Exercise 96\n",
    "```\n",
    "\n",
    "--"
   ]
  },
  {
   "cell_type": "code",
   "execution_count": 26,
   "id": "4aedc63f-3769-4c36-9604-d903c327ffea",
   "metadata": {},
   "outputs": [
    {
     "name": "stdout",
     "output_type": "stream",
     "text": [
      "[2, 3, 5, 7, 11, 13, 17, 19]\n"
     ]
    }
   ],
   "source": [
    "def primes_up_to_n(n):\n",
    "    primes = []\n",
    "    for num in range(2, n + 1):\n",
    "        is_prime = True\n",
    "        for i in range(2, int(num**0.5) + 1):\n",
    "            if num % i == 0:\n",
    "                is_prime = False\n",
    "                break\n",
    "        if is_prime:\n",
    "            primes.append(num)\n",
    "    return primes\n",
    "\n",
    "# Example\n",
    "print(primes_up_to_n(20))  # Output: [2, 3, 5, 7, 11, 13, 17, 19]"
   ]
  },
  {
   "cell_type": "markdown",
   "id": "d7f3a1ae-b153-44ba-a99c-c51b9e56b3f1",
   "metadata": {
    "id": "bea983a3"
   },
   "source": [
    "-\n",
    "\n",
    "### Exercise 97:\n",
    "Write a Python program that finds the common keys between two dictionaries.\n",
    "\n",
    "```python\n",
    "# Exercise 97\n",
    "```"
   ]
  },
  {
   "cell_type": "code",
   "execution_count": 25,
   "id": "c826c719-3cb4-421d-b257-99159ac5de17",
   "metadata": {},
   "outputs": [
    {
     "name": "stdout",
     "output_type": "stream",
     "text": [
      "{'b', 'c'}\n"
     ]
    }
   ],
   "source": [
    "def common_keys(dict1, dict2):\n",
    "    return set(dict1.keys()) & set(dict2.keys())\n",
    "\n",
    "# Example\n",
    "dict1 = {\"a\": 1, \"b\": 2, \"c\": 3}\n",
    "dict2 = {\"b\": 4, \"c\": 5, \"d\": 6}\n",
    "print(common_keys(dict1, dict2))  # Output: {'b', 'c'}"
   ]
  },
  {
   "cell_type": "markdown",
   "id": "4a36d873-12f3-45e7-9973-d40661fd4254",
   "metadata": {
    "id": "bea983a3"
   },
   "source": [
    "---\n",
    "\n",
    "### Exercise 98:\n",
    "Write a Python function that takes a list of strings and returns a list of the strings that contain more than 5 characters.\n",
    "\n",
    "```python\n",
    "# Exercise 98\n",
    "```"
   ]
  },
  {
   "cell_type": "code",
   "execution_count": 24,
   "id": "90b732d8-1676-488b-b26e-a406c702cb27",
   "metadata": {},
   "outputs": [
    {
     "name": "stdout",
     "output_type": "stream",
     "text": [
      "['banana', 'cherry', 'elderberry']\n"
     ]
    }
   ],
   "source": [
    "def strings_longer_than_5(strings):\n",
    "    return [s for s in strings if len(s) > 5]\n",
    "\n",
    "# Example\n",
    "words = [\"apple\", \"banana\", \"cherry\", \"date\", \"elderberry\"]\n",
    "print(strings_longer_than_5(words))  # Output: ['banana', 'cherry', 'elderberry']"
   ]
  },
  {
   "cell_type": "markdown",
   "id": "a0937f23-7890-4735-a244-f0f663f9f789",
   "metadata": {
    "id": "bea983a3"
   },
   "source": [
    "---\n",
    "\n",
    "### Exercise 99:\n",
    "Write a Python program that converts a list of strings into a list of tuples, where each tuple contains the string and its length.\n",
    "\n",
    "```python\n",
    "# Exercise 99\n",
    "```"
   ]
  },
  {
   "cell_type": "code",
   "execution_count": 23,
   "id": "3705984e-b674-4844-889f-4c03fb6d55a2",
   "metadata": {},
   "outputs": [
    {
     "name": "stdout",
     "output_type": "stream",
     "text": [
      "[('apple', 5), ('banana', 6), ('cherry', 6)]\n"
     ]
    }
   ],
   "source": [
    "def strings_with_lengths(strings):\n",
    "    return [(s, len(s)) for s in strings]\n",
    "\n",
    "# Example\n",
    "words = [\"apple\", \"banana\", \"cherry\"]\n",
    "print(strings_with_lengths(words))  # Output: [('apple', 5), ('banana', 6), ('cherry', 6)]"
   ]
  },
  {
   "cell_type": "markdown",
   "id": "33303390-95db-4039-ae13-4a79cb22d0ad",
   "metadata": {
    "id": "bea983a3"
   },
   "source": [
    "---\n",
    "\n",
    "### Exercise 100:\n",
    "Write a Python function that takes a list of dictionaries and returns a new dictionary by summing the values of each key across all dictionaries.\n",
    "\n",
    "```python\n",
    "# Exercise 100\n",
    "```\n",
    "\n",
    "---"
   ]
  },
  {
   "cell_type": "code",
   "execution_count": 22,
   "id": "40253be2-7240-4c32-a13b-bef9251ffbed",
   "metadata": {},
   "outputs": [
    {
     "name": "stdout",
     "output_type": "stream",
     "text": [
      "{'a': 4, 'b': 7, 'c': 10}\n"
     ]
    }
   ],
   "source": [
    "def sum_dict_values(dict_list):\n",
    "    result = {}\n",
    "    for d in dict_list:\n",
    "        for key, value in d.items():\n",
    "            result[key] = result.get(key, 0) + value\n",
    "    return result\n",
    "\n",
    "# Example\n",
    "dicts = [{\"a\": 1, \"b\": 2}, {\"a\": 3, \"c\": 4}, {\"b\": 5, \"c\": 6}]\n",
    "print(sum_dict_values(dicts))  # Output: {'a': 4, 'b': 7, 'c': 10}"
   ]
  },
  {
   "cell_type": "code",
   "execution_count": null,
   "id": "0c4fd97f-9eca-4ef3-8526-3a052856c315",
   "metadata": {},
   "outputs": [],
   "source": []
  }
 ],
 "metadata": {
  "colab": {
   "provenance": []
  },
  "kernelspec": {
   "display_name": "Python 3 (ipykernel)",
   "language": "python",
   "name": "python3"
  },
  "language_info": {
   "codemirror_mode": {
    "name": "ipython",
    "version": 3
   },
   "file_extension": ".py",
   "mimetype": "text/x-python",
   "name": "python",
   "nbconvert_exporter": "python",
   "pygments_lexer": "ipython3",
   "version": "3.13.5"
  }
 },
 "nbformat": 4,
 "nbformat_minor": 5
}
