{
 "cells": [
  {
   "cell_type": "markdown",
   "id": "3bb07113-95e6-49d8-8c9d-31199add0944",
   "metadata": {
    "id": "9fb19f0d"
   },
   "source": [
    "----\n",
    "\n",
    "### Exercise 1:\n",
    "Declare a variable `x` and assign it the value `10`.\n",
    "\n",
    "```python\n",
    "# Exercise 1\n",
    "```"
   ]
  },
  {
   "cell_type": "markdown",
   "id": "426486dd",
   "metadata": {
    "id": "426486dd"
   },
   "source": [
    "\n",
    "\n",
    "# Practical_1: Variables and Assignments"
   ]
  },
  {
   "cell_type": "code",
   "execution_count": 1,
   "id": "b5866530-0410-417c-beea-7c0ba7b55873",
   "metadata": {},
   "outputs": [],
   "source": [
    "x=10"
   ]
  },
  {
   "cell_type": "code",
   "execution_count": null,
   "id": "32270df7-96cb-4bb5-9ae7-c547f74e0f13",
   "metadata": {},
   "outputs": [],
   "source": []
  },
  {
   "cell_type": "markdown",
   "id": "428c6b1f-8c1d-476a-b368-50552d3cce2d",
   "metadata": {
    "id": "9fb19f0d"
   },
   "source": [
    "---\n",
    "\n",
    "### Exercise 2:\n",
    "Assign the value `True` to a variable called `is_valid`.\n",
    "\n",
    "```python\n",
    "# Exercise 2\n",
    "```"
   ]
  },
  {
   "cell_type": "code",
   "execution_count": 2,
   "id": "aca850c1-669f-4af2-858d-af23a326267b",
   "metadata": {},
   "outputs": [],
   "source": [
    "is_valid = True"
   ]
  },
  {
   "cell_type": "markdown",
   "id": "0584818f-72ec-424c-9d59-7ea32aea2aa1",
   "metadata": {
    "id": "9fb19f0d"
   },
   "source": [
    "---\n",
    "\n",
    "### Exercise 3:\n",
    "Create a string variable `name` with the value \"Python Programming\".\n",
    "\n",
    "```python\n",
    "# Exercise 3\n",
    "```"
   ]
  },
  {
   "cell_type": "markdown",
   "id": "8804a8da-542c-4d65-a57d-837dddcc5acd",
   "metadata": {},
   "source": [
    "my_name = ['cheikh','leytri',badiane']"
   ]
  },
  {
   "cell_type": "code",
   "execution_count": 3,
   "id": "0ce45ffb-ef0e-47f9-b033-3fd1f642ed0d",
   "metadata": {},
   "outputs": [],
   "source": [
    "my_name = ['cheikh','leytri','badiane']\n"
   ]
  },
  {
   "cell_type": "markdown",
   "id": "02d792ef-64ad-4220-9a04-496b606b5e60",
   "metadata": {
    "id": "9fb19f0d"
   },
   "source": [
    "---\n",
    "\n",
    "### Exercise 4:\n",
    "Assign the result of `5 + 3` to a variable `sum_result`.\n",
    "\n",
    "```python\n",
    "# Exercise 4\n",
    "```"
   ]
  },
  {
   "cell_type": "code",
   "execution_count": 4,
   "id": "c27a1abd-af39-4464-932a-5db7d3da01d1",
   "metadata": {},
   "outputs": [
    {
     "data": {
      "text/plain": [
       "6"
      ]
     },
     "execution_count": 4,
     "metadata": {},
     "output_type": "execute_result"
    }
   ],
   "source": [
    "a=2\n",
    "b=4\n",
    "a+b"
   ]
  },
  {
   "cell_type": "markdown",
   "id": "9e5da31a-2ffe-45fb-84f9-a27951cce565",
   "metadata": {
    "id": "9fb19f0d"
   },
   "source": [
    "---\n",
    "\n",
    "### Exercise 5:\n",
    "Assign multiple variables in one line: `a = 5`, `b = 10`, `c = 15`.\n",
    "\n",
    "```python\n",
    "# Exercise 5\n",
    "```"
   ]
  },
  {
   "cell_type": "code",
   "execution_count": 5,
   "id": "41d3fdb4-27f7-4573-bb2c-7a35667411c2",
   "metadata": {},
   "outputs": [
    {
     "data": {
      "text/plain": [
       "2250"
      ]
     },
     "execution_count": 5,
     "metadata": {},
     "output_type": "execute_result"
    }
   ],
   "source": [
    "a=5\n",
    "b=10\n",
    "c=15\n",
    "c*b*c"
   ]
  },
  {
   "cell_type": "markdown",
   "id": "fe08e918-2634-4df0-8d11-371246c9f0c3",
   "metadata": {
    "id": "9fb19f0d"
   },
   "source": [
    "---\n",
    "\n",
    "### Exercise 6:\n",
    "Assign the value of one variable `x` to another variable `y`.\n",
    "\n",
    "```python\n",
    "# Exercise 6\n",
    "```"
   ]
  },
  {
   "cell_type": "code",
   "execution_count": 6,
   "id": "d777614f-9eed-4c49-aa41-aef94a160023",
   "metadata": {},
   "outputs": [],
   "source": [
    "x=3\n",
    "y=2\n"
   ]
  },
  {
   "cell_type": "markdown",
   "id": "7490e3a1-f03c-4b4c-b09c-2f8355372421",
   "metadata": {
    "id": "9fb19f0d"
   },
   "source": [
    "---\n",
    "\n",
    "### Exercise 7:\n",
    "Assign a floating-point number `9.8` to a variable `gravity`.\n",
    "\n",
    "```python\n",
    "# Exercise 7\n",
    "```"
   ]
  },
  {
   "cell_type": "code",
   "execution_count": 7,
   "id": "4a3ba6be-dbc8-4b35-878b-10eadc887fbc",
   "metadata": {},
   "outputs": [],
   "source": [
    "gravity = 9.8"
   ]
  },
  {
   "cell_type": "markdown",
   "id": "e81bba27-fab9-48aa-8e6d-0c54803912f7",
   "metadata": {
    "id": "9fb19f0d"
   },
   "source": [
    "---\n",
    "\n",
    "### Exercise 8:\n",
    "Create a variable `country` and assign it the string value of your favorite country.\n",
    "\n",
    "```python\n",
    "# Exercise 8\n",
    "```"
   ]
  },
  {
   "cell_type": "code",
   "execution_count": 8,
   "id": "9bde2d0b-9c1a-4ad5-8288-350f184fb549",
   "metadata": {},
   "outputs": [
    {
     "data": {
      "text/plain": [
       "' senegal '"
      ]
     },
     "execution_count": 8,
     "metadata": {},
     "output_type": "execute_result"
    }
   ],
   "source": [
    "country =' senegal '\n",
    "country"
   ]
  },
  {
   "cell_type": "markdown",
   "id": "51ea4b07-b3d9-43da-8de9-ac8ae74f36f7",
   "metadata": {
    "id": "9fb19f0d"
   },
   "source": [
    "---\n",
    "\n",
    "### Exercise 9:\n",
    "Change the value of variable `age` from `25` to `26` in two separate steps.\n",
    "\n",
    "```python\n",
    "# Exercise 9\n",
    "```"
   ]
  },
  {
   "cell_type": "code",
   "execution_count": 10,
   "id": "da16ec94-295a-4028-9d16-53920a3e887a",
   "metadata": {},
   "outputs": [
    {
     "data": {
      "text/plain": [
       "26"
      ]
     },
     "execution_count": 10,
     "metadata": {},
     "output_type": "execute_result"
    }
   ],
   "source": [
    "age = 25\n",
    "age = 26\n",
    "age\n"
   ]
  },
  {
   "cell_type": "markdown",
   "id": "c31df325-3467-4967-b368-6acbabbadeca",
   "metadata": {
    "id": "9fb19f0d"
   },
   "source": [
    "---\n",
    "\n",
    "### Exercise 10:\n",
    "Use one variable to store the result of subtracting two numbers `20 - 7`.\n",
    "\n",
    "```python\n",
    "# Exercise 10\n",
    "```"
   ]
  },
  {
   "cell_type": "code",
   "execution_count": 11,
   "id": "995703bf-487c-484e-ad12-ab07267754ea",
   "metadata": {},
   "outputs": [],
   "source": [
    "a = 20-7"
   ]
  },
  {
   "cell_type": "markdown",
   "id": "770a3bce-f371-478c-a690-178f11e28dc6",
   "metadata": {
    "id": "9fb19f0d"
   },
   "source": [
    "---\n",
    "\n",
    "### Exercise 11:\n",
    "Assign an integer value and a floating-point value to two different variables.\n",
    "\n",
    "```python\n",
    "# Exercise 11\n",
    "```"
   ]
  },
  {
   "cell_type": "code",
   "execution_count": 12,
   "id": "dfee8314-8f5d-43f4-8dc8-c47e2e84f737",
   "metadata": {},
   "outputs": [],
   "source": [
    "a=3\n",
    "b=2.5"
   ]
  },
  {
   "cell_type": "markdown",
   "id": "445f5bd4-0277-429f-8884-1e64719d0ebf",
   "metadata": {
    "id": "9fb19f0d"
   },
   "source": [
    "---\n",
    "\n",
    "### Exercise 12:\n",
    "Assign a boolean value `False` to a variable `is_completed`.\n",
    "\n",
    "```python\n",
    "# Exercise 12\n",
    "```"
   ]
  },
  {
   "cell_type": "code",
   "execution_count": 13,
   "id": "2c661229-d490-4158-820e-6e8f35bed2df",
   "metadata": {},
   "outputs": [],
   "source": [
    "is_compled=False"
   ]
  },
  {
   "cell_type": "markdown",
   "id": "50477094-b8aa-4a9d-9795-7745e4127f93",
   "metadata": {
    "id": "9fb19f0d"
   },
   "source": [
    "---\n",
    "\n",
    "### Exercise 13:\n",
    "Swap the values of two variables `x` and `y`.\n",
    "\n",
    "```python\n",
    "# Exercise 13\n",
    "```"
   ]
  },
  {
   "cell_type": "code",
   "execution_count": 8,
   "id": "000be5f8-aa0b-45fc-b8ea-6741a224519e",
   "metadata": {},
   "outputs": [
    {
     "name": "stdout",
     "output_type": "stream",
     "text": [
      "2 3\n",
      "2\n"
     ]
    }
   ],
   "source": [
    "x=2\n",
    "y=3\n",
    "z=5\n",
    "z=x\n",
    "print(x,y)"
   ]
  },
  {
   "cell_type": "markdown",
   "id": "8b926eb2-5a76-4544-85b1-6b9d57eec2e6",
   "metadata": {
    "id": "9fb19f0d"
   },
   "source": [
    "---\n",
    "\n",
    "### Exercise 14:\n",
    "Assign a complex number `3 + 4j` to a variable `complex_num`.\n",
    "\n",
    "```python\n",
    "# Exercise 14\n",
    "```"
   ]
  },
  {
   "cell_type": "code",
   "execution_count": 9,
   "id": "1bfd8ac8-7502-44a5-a886-1a0e03baff1c",
   "metadata": {},
   "outputs": [],
   "source": [
    "complex_num=3+4j"
   ]
  },
  {
   "cell_type": "markdown",
   "id": "05f32405-54c3-4611-b10b-9c3d4a3ef4d4",
   "metadata": {
    "id": "9fb19f0d"
   },
   "source": [
    "---\n",
    "\n",
    "### Exercise 15:\n",
    "Reassign a variable from an integer to a string.\n",
    "\n",
    "```python\n",
    "# Exercise 15\n",
    "```"
   ]
  },
  {
   "cell_type": "code",
   "execution_count": 10,
   "id": "a413edc2-d4c1-4848-ad18-243fdefc415d",
   "metadata": {},
   "outputs": [],
   "source": [
    "x=\"23\""
   ]
  },
  {
   "cell_type": "markdown",
   "id": "b32f0942-64b5-44f4-b654-5e1644c6d0f2",
   "metadata": {
    "id": "9fb19f0d"
   },
   "source": [
    "---\n",
    "\n",
    "### Exercise 16:\n",
    "Create two variables `first_name` and `last_name`, and assign them your first and last names.\n",
    "\n",
    "```python\n",
    "# Exercise 16\n",
    "```"
   ]
  },
  {
   "cell_type": "code",
   "execution_count": 1,
   "id": "fd6758dd-088a-4d08-883c-e371372ee135",
   "metadata": {},
   "outputs": [],
   "source": [
    "first_name = \"Cheikh\"\n",
    "last_name = \"Badiane\""
   ]
  },
  {
   "cell_type": "markdown",
   "id": "e38c55ae-77c7-469b-aa1a-e3636b7007b4",
   "metadata": {
    "id": "9fb19f0d"
   },
   "source": [
    "---\n",
    "\n",
    "### Exercise 17:\n",
    "Create a variable `temperature` and assign it the value of `35.5`.\n",
    "\n",
    "```python\n",
    "# Exercise 17\n",
    "```"
   ]
  },
  {
   "cell_type": "code",
   "execution_count": 2,
   "id": "b04c3183-edb7-4fb4-80ed-d20d4268c149",
   "metadata": {},
   "outputs": [],
   "source": [
    "temperature = 35.5"
   ]
  },
  {
   "cell_type": "markdown",
   "id": "b8191d9a-9b1f-4b3e-9223-2fa3d8579b55",
   "metadata": {
    "id": "9fb19f0d"
   },
   "source": [
    "---\n",
    "\n",
    "### Exercise 18:\n",
    "Assign the result of the multiplication of two numbers `8 * 6` to a variable `product`.\n",
    "\n",
    "```python\n",
    "# Exercise 18\n",
    "```"
   ]
  },
  {
   "cell_type": "code",
   "execution_count": 14,
   "id": "d0f838f7-ac3e-467a-a3bb-e0f00cafea99",
   "metadata": {},
   "outputs": [
    {
     "data": {
      "text/plain": [
       "48"
      ]
     },
     "execution_count": 14,
     "metadata": {},
     "output_type": "execute_result"
    }
   ],
   "source": [
    "product = 8 * 6\n",
    "product"
   ]
  },
  {
   "cell_type": "markdown",
   "id": "0f46149d-1ecc-400e-a3bf-85d34dacc383",
   "metadata": {
    "id": "9fb19f0d"
   },
   "source": [
    "---\n",
    "\n",
    "### Exercise 19:\n",
    "Assign a sentence of your choice to a variable `sentence`.\n",
    "\n",
    "```python\n",
    "# Exercise 19\n",
    "```"
   ]
  },
  {
   "cell_type": "code",
   "execution_count": 15,
   "id": "76e1f168-ffa3-4efe-9948-29b738c65f3e",
   "metadata": {},
   "outputs": [
    {
     "data": {
      "text/plain": [
       "'Python programming is fun and powerful!'"
      ]
     },
     "execution_count": 15,
     "metadata": {},
     "output_type": "execute_result"
    }
   ],
   "source": [
    "sentence = \"Python programming is fun and powerful!\"\n",
    "sentence"
   ]
  },
  {
   "cell_type": "markdown",
   "id": "e4aaf616-25a2-48d8-81d6-663e79f72d6d",
   "metadata": {
    "id": "9fb19f0d"
   },
   "source": [
    "---\n",
    "\n",
    "### Exercise 20:\n",
    "Use an assignment to convert a string `'50'` into an integer variable `int_value`.\n",
    "\n",
    "```python\n",
    "# Exercise 20\n",
    "```"
   ]
  },
  {
   "cell_type": "code",
   "execution_count": 16,
   "id": "a42db611-da56-452f-91d9-fb452e425b7a",
   "metadata": {},
   "outputs": [
    {
     "data": {
      "text/plain": [
       "50"
      ]
     },
     "execution_count": 16,
     "metadata": {},
     "output_type": "execute_result"
    }
   ],
   "source": [
    "int_value = int('50')\n",
    "int_value"
   ]
  },
  {
   "cell_type": "markdown",
   "id": "fbf0fd00-713f-4012-9ced-074dba49472e",
   "metadata": {
    "id": "9fb19f0d"
   },
   "source": [
    "---\n",
    "\n",
    "### Exercise 21:\n",
    "Assign the result of dividing `144` by `12` to a variable `quotient`.\n",
    "\n",
    "```python\n",
    "# Exercise 21\n",
    "```"
   ]
  },
  {
   "cell_type": "code",
   "execution_count": 18,
   "id": "795906f2-baf2-47d4-ae2d-d4388fea5cf2",
   "metadata": {},
   "outputs": [
    {
     "data": {
      "text/plain": [
       "12.0"
      ]
     },
     "execution_count": 18,
     "metadata": {},
     "output_type": "execute_result"
    }
   ],
   "source": [
    "quotient = 144 / 12\n",
    "quotient"
   ]
  },
  {
   "cell_type": "markdown",
   "id": "9becf56f-5fbe-4f5c-889a-06d99b32a1cf",
   "metadata": {
    "id": "9fb19f0d"
   },
   "source": [
    "---\n",
    "\n",
    "### Exercise 22:\n",
    "Assign the remainder of `47 divided by 5` to a variable `remainder`.\n",
    "\n",
    "```python\n",
    "# Exercise 22\n",
    "```"
   ]
  },
  {
   "cell_type": "code",
   "execution_count": 19,
   "id": "dcb3978c-15cc-4b75-9692-5744e7c269a9",
   "metadata": {},
   "outputs": [
    {
     "data": {
      "text/plain": [
       "2"
      ]
     },
     "execution_count": 19,
     "metadata": {},
     "output_type": "execute_result"
    }
   ],
   "source": [
    "remainder = 47 % 5\n",
    "remainder"
   ]
  },
  {
   "cell_type": "markdown",
   "id": "24667bad-b691-4b4d-b53d-684a62a945d9",
   "metadata": {
    "id": "9fb19f0d"
   },
   "source": []
  },
  {
   "cell_type": "markdown",
   "id": "abd10816-bd33-47f0-9ea0-98a7747953e2",
   "metadata": {
    "id": "9fb19f0d"
   },
   "source": [
    "### Exercise 23:\n",
    "Create a variable `is_student` and assign it the value `True`.\n",
    "\n",
    "```python\n",
    "# Exercise 23\n",
    "```"
   ]
  },
  {
   "cell_type": "code",
   "execution_count": 8,
   "id": "d5a17229-1494-45e5-b3f4-e17bc44785e0",
   "metadata": {},
   "outputs": [],
   "source": [
    "is_student = True"
   ]
  },
  {
   "cell_type": "markdown",
   "id": "e2504763-8724-4d5f-b4b8-2da986a270b6",
   "metadata": {
    "id": "9fb19f0d"
   },
   "source": [
    "---\n",
    "\n",
    "### Exercise 24:\n",
    "Use a variable to store the result of a modulo operation: `45 % 4`.\n",
    "\n",
    "```python\n",
    "# Exercise 24\n",
    "```"
   ]
  },
  {
   "cell_type": "code",
   "execution_count": 20,
   "id": "96790935-4260-4e14-9b21-08c30b83309a",
   "metadata": {},
   "outputs": [
    {
     "data": {
      "text/plain": [
       "1"
      ]
     },
     "execution_count": 20,
     "metadata": {},
     "output_type": "execute_result"
    }
   ],
   "source": [
    "modulo_result = 45 % 4\n",
    "modulo_result"
   ]
  },
  {
   "cell_type": "markdown",
   "id": "67623c34-c454-452e-8c28-a8af5890fa43",
   "metadata": {
    "id": "9fb19f0d"
   },
   "source": [
    "---\n",
    "\n",
    "### Exercise 25:\n",
    "Create a variable `pi` and assign it the value `3.14159`.\n",
    "\n",
    "```python\n",
    "# Exercise 25\n",
    "```\n",
    "\n",
    "-"
   ]
  },
  {
   "cell_type": "code",
   "execution_count": 10,
   "id": "466312e3-907e-4f26-8e86-aa007d1d52a5",
   "metadata": {},
   "outputs": [],
   "source": [
    "pi = 3.14159"
   ]
  },
  {
   "cell_type": "markdown",
   "id": "f031d8a8-397e-49fa-b006-caf2071e688c",
   "metadata": {
    "id": "9fb19f0d"
   },
   "source": [
    "--\n",
    "\n",
    "### Exercise 26:\n",
    "Create two variables `length` and `width`, assign them values, and calculate the area of a rectangle.\n",
    "\n",
    "```python\n",
    "# Exercise 26\n",
    "```"
   ]
  },
  {
   "cell_type": "code",
   "execution_count": 11,
   "id": "3dac720d-1a9b-4ccb-a645-c7318f61cebe",
   "metadata": {},
   "outputs": [],
   "source": [
    "length = 10\n",
    "width = 5\n",
    "area = length * width"
   ]
  },
  {
   "cell_type": "markdown",
   "id": "46a1daae-ca66-4f0c-ad33-9ee89f3e9ddd",
   "metadata": {
    "id": "9fb19f0d"
   },
   "source": [
    "---\n",
    "\n",
    "### Exercise 27:\n",
    "Assign a negative number to a variable `negative_value`.\n",
    "\n",
    "```python\n",
    "# Exercise 27\n",
    "```"
   ]
  },
  {
   "cell_type": "code",
   "execution_count": null,
   "id": "6232dd73-42be-41e2-8cd2-05d1e0819487",
   "metadata": {},
   "outputs": [],
   "source": [
    "negative_value = -15"
   ]
  },
  {
   "cell_type": "markdown",
   "id": "f40a767a-6a18-431f-b1e4-d750051f7127",
   "metadata": {
    "id": "9fb19f0d"
   },
   "source": [
    "---\n",
    "\n",
    "### Exercise 28:\n",
    "Assign a string containing a special character (e.g., \"Hello, World!\") to a variable `greeting`.\n",
    "\n",
    "```python\n",
    "# Exercise 28\n",
    "```"
   ]
  },
  {
   "cell_type": "code",
   "execution_count": 21,
   "id": "cc1881c9-cf02-47d5-90f7-170f9c9ab075",
   "metadata": {},
   "outputs": [
    {
     "data": {
      "text/plain": [
       "'Hello, World!'"
      ]
     },
     "execution_count": 21,
     "metadata": {},
     "output_type": "execute_result"
    }
   ],
   "source": [
    "greeting = \"Hello, World!\"\n",
    "greeting"
   ]
  },
  {
   "cell_type": "markdown",
   "id": "9159348a-13d5-43ba-9416-050209450be8",
   "metadata": {
    "id": "9fb19f0d"
   },
   "source": [
    "---\n",
    "\n",
    "### Exercise 29:\n",
    "Create a variable `population` and assign it a large integer value (in billions).\n",
    "\n",
    "```python\n",
    "# Exercise 29\n",
    "```\n",
    "\n",
    "---"
   ]
  },
  {
   "cell_type": "code",
   "execution_count": 13,
   "id": "a479b5b7-9142-477b-923a-de34c53c11db",
   "metadata": {},
   "outputs": [],
   "source": [
    "population = 8000000000  # 8 billion"
   ]
  },
  {
   "cell_type": "markdown",
   "id": "1e36abae-f00f-43fa-9455-896623980f3d",
   "metadata": {
    "id": "9fb19f0d"
   },
   "source": [
    "### Exercise 30:\n",
    "Use a variable to store the result of raising `2` to the power of `8`.\n",
    "\n",
    "```python\n",
    "# Exercise 30\n",
    "```\n",
    "\n",
    "---"
   ]
  },
  {
   "cell_type": "code",
   "execution_count": null,
   "id": "d4428084-c2c6-4b23-b965-b187a65b796f",
   "metadata": {},
   "outputs": [],
   "source": [
    "power_result = 2 ** 8"
   ]
  },
  {
   "cell_type": "markdown",
   "id": "ba36a81c-ccfc-48a5-91ad-d0b318de30a3",
   "metadata": {
    "id": "9fb19f0d"
   },
   "source": [
    "### Exercise 31:\n",
    "Assign a list of your favorite fruits to a variable `fruits`.\n",
    "\n",
    "```python\n",
    "# Exercise 31\n",
    "```\n",
    "\n",
    "---"
   ]
  },
  {
   "cell_type": "code",
   "execution_count": null,
   "id": "de00ec10-328c-4af0-8020-17a3a8075e28",
   "metadata": {},
   "outputs": [],
   "source": [
    "fruits = [\"apple\", \"banana\", \"orange\", \"mango\"]"
   ]
  },
  {
   "cell_type": "markdown",
   "id": "bb88aaf5-e12b-491d-8609-1cf4e97668d7",
   "metadata": {
    "id": "9fb19f0d"
   },
   "source": [
    "### Exercise 32:\n",
    "Assign a tuple of three numbers to a variable `coordinates`.\n",
    "\n",
    "```python\n",
    "# Exercise 32\n",
    "```"
   ]
  },
  {
   "cell_type": "code",
   "execution_count": null,
   "id": "b88ca449-347f-4407-9aa1-7b25f505b248",
   "metadata": {},
   "outputs": [],
   "source": [
    "coordinates = (10, 20, 30)"
   ]
  },
  {
   "cell_type": "markdown",
   "id": "40d310c8-4b9f-4198-88a0-dad8680b5410",
   "metadata": {
    "id": "9fb19f0d"
   },
   "source": [
    "---\n",
    "\n",
    "### Exercise 33:\n",
    "Assign a dictionary with keys `name` and `age` to a variable `person`.\n",
    "\n",
    "```python\n",
    "# Exercise 33\n",
    "```"
   ]
  },
  {
   "cell_type": "code",
   "execution_count": 22,
   "id": "3ab466db-2ca9-4dc2-a36b-d32c2d3d9624",
   "metadata": {},
   "outputs": [
    {
     "data": {
      "text/plain": [
       "{'name': 'Cheikh', 'age': 25}"
      ]
     },
     "execution_count": 22,
     "metadata": {},
     "output_type": "execute_result"
    }
   ],
   "source": [
    "person = {\"name\": \"Cheikh\", \"age\": 25}\n",
    "person"
   ]
  },
  {
   "cell_type": "markdown",
   "id": "b4aa74b2-947d-4f07-8235-dbcee0325ff8",
   "metadata": {
    "id": "9fb19f0d"
   },
   "source": [
    "---\n",
    "\n",
    "### Exercise 34:\n",
    "Use variables to store the sum of two floating-point numbers.\n",
    "\n",
    "```python\n",
    "# Exercise 34\n",
    "```"
   ]
  },
  {
   "cell_type": "code",
   "execution_count": null,
   "id": "88b2f1d3-a7e3-4392-8fed-29fdb86a88eb",
   "metadata": {},
   "outputs": [],
   "source": [
    "num1 = 3.5\n",
    "num2 = 2.7\n",
    "float_sum = num1 + num2"
   ]
  },
  {
   "cell_type": "markdown",
   "id": "43eb7187-d29c-4d0f-9858-ca1422620849",
   "metadata": {
    "id": "9fb19f0d"
   },
   "source": [
    "---\n",
    "\n",
    "### Exercise 35:\n",
    "Create a variable `is_sunny` and assign it the result of a comparison `10 > 5`.\n",
    "\n",
    "```python\n",
    "# Exercise 35\n",
    "```"
   ]
  },
  {
   "cell_type": "code",
   "execution_count": 23,
   "id": "415c18ba-a1c5-4d92-8085-2c8375c26c33",
   "metadata": {},
   "outputs": [
    {
     "data": {
      "text/plain": [
       "True"
      ]
     },
     "execution_count": 23,
     "metadata": {},
     "output_type": "execute_result"
    }
   ],
   "source": [
    "is_sunny = 10 > 5\n",
    "is_sunny"
   ]
  },
  {
   "cell_type": "markdown",
   "id": "7611fbe5-0c32-48c7-a763-011d9ba3e2e4",
   "metadata": {
    "id": "9fb19f0d"
   },
   "source": [
    "---\n",
    "\n",
    "### Exercise 36:\n",
    "Assign a string and an integer to two different variables, then print both on one line.\n",
    "\n",
    "```python\n",
    "# Exercise 36\n",
    "```"
   ]
  },
  {
   "cell_type": "code",
   "execution_count": null,
   "id": "0eebe404-b5f8-4492-8967-036e7c92a4ac",
   "metadata": {},
   "outputs": [],
   "source": []
  },
  {
   "cell_type": "code",
   "execution_count": null,
   "id": "18d9e31b-9999-4824-b653-b9992c86ddde",
   "metadata": {},
   "outputs": [],
   "source": [
    "name = \"Alice\"\n",
    "age = 30\n",
    "print(name, age)"
   ]
  },
  {
   "cell_type": "markdown",
   "id": "7e336d10-8b8b-4782-8d32-20a48855f1c8",
   "metadata": {
    "id": "9fb19f0d"
   },
   "source": [
    "---\n",
    "\n",
    "### Exercise 37:\n",
    "Reassign a variable that originally held a number to a boolean value.\n",
    "\n",
    "```python\n",
    "# Exercise 37\n",
    "```\n",
    "\n",
    "---"
   ]
  },
  {
   "cell_type": "code",
   "execution_count": null,
   "id": "f259a594-2a1f-4081-aeb6-3ad69a11702e",
   "metadata": {},
   "outputs": [],
   "source": [
    "x = 42\n",
    "x = True  # Reassigning to boolean"
   ]
  },
  {
   "cell_type": "markdown",
   "id": "918d4240-695b-4b28-9b8c-e57feb93b4cf",
   "metadata": {
    "id": "9fb19f0d"
   },
   "source": [
    "### Exercise 38:\n",
    "Create a variable `is_weekend` and assign it the result of `False`.\n",
    "\n",
    "```python\n",
    "# Exercise 38\n",
    "```\n",
    "\n",
    "---"
   ]
  },
  {
   "cell_type": "code",
   "execution_count": null,
   "id": "621cdf51-fcdf-4264-b800-37bdccebfc08",
   "metadata": {},
   "outputs": [],
   "source": [
    "is_weekend = False"
   ]
  },
  {
   "cell_type": "markdown",
   "id": "4fd72d50-d0cb-49cc-93bd-4db2675dfda5",
   "metadata": {
    "id": "9fb19f0d"
   },
   "source": [
    "### Exercise 39:\n",
    "Assign a multi-line string to a variable `description`.\n",
    "\n",
    "```python\n",
    "# Exercise 39\n",
    "```\n",
    "\n",
    "---"
   ]
  },
  {
   "cell_type": "code",
   "execution_count": null,
   "id": "a908b585-9cfa-4f43-8f2a-1c569a00cdde",
   "metadata": {},
   "outputs": [],
   "source": [
    "description = \"\"\"This is a multi-line string.\n",
    "It can span across multiple lines.\n",
    "Very useful for long descriptions.\"\"\""
   ]
  },
  {
   "cell_type": "markdown",
   "id": "74b47271-c122-4a87-aab7-7b41f6f4184a",
   "metadata": {
    "id": "9fb19f0d"
   },
   "source": [
    "### Exercise 40:\n",
    "Use variables to store the result of the absolute value of `-25`.\n",
    "\n",
    "```python\n",
    "# Exercise 40\n",
    "```\n",
    "\n",
    "---"
   ]
  },
  {
   "cell_type": "code",
   "execution_count": null,
   "id": "12baf5f1-d146-455c-a2ac-7cdbd816a420",
   "metadata": {},
   "outputs": [],
   "source": [
    "abs_value = abs(-25)"
   ]
  },
  {
   "cell_type": "markdown",
   "id": "d54000bc-e655-4007-b0e3-3ea8e8b846c1",
   "metadata": {
    "id": "9fb19f0d"
   },
   "source": [
    "### Exercise 41:\n",
    "Assign the result of a floor division `100 // 6` to a variable `floor_div_result`.\n",
    "\n",
    "```python\n",
    "# Exercise 41\n",
    "```\n",
    "\n",
    "---"
   ]
  },
  {
   "cell_type": "code",
   "execution_count": 24,
   "id": "6b39decd-df1c-4b4a-a8f7-045ceb73fb12",
   "metadata": {},
   "outputs": [
    {
     "data": {
      "text/plain": [
       "16"
      ]
     },
     "execution_count": 24,
     "metadata": {},
     "output_type": "execute_result"
    }
   ],
   "source": [
    "floor_div_result = 100 // 6\n",
    "floor_div_result"
   ]
  },
  {
   "cell_type": "markdown",
   "id": "bf05b0cb-0048-41bc-8c70-72e4da5792f4",
   "metadata": {
    "id": "9fb19f0d"
   },
   "source": [
    "### Exercise 42:\n",
    "Assign the result of adding a floating-point number to an integer to a variable `mixed_sum`.\n",
    "\n",
    "```python\n",
    "# Exercise 42\n",
    "```\n",
    "\n",
    "---"
   ]
  },
  {
   "cell_type": "code",
   "execution_count": 25,
   "id": "f62b40fe-7de4-47a2-af75-3ca854ef6382",
   "metadata": {},
   "outputs": [
    {
     "data": {
      "text/plain": [
       "15.5"
      ]
     },
     "execution_count": 25,
     "metadata": {},
     "output_type": "execute_result"
    }
   ],
   "source": [
    "mixed_sum = 10 + 5.5  # Integer + Float\n",
    "mixed_sum"
   ]
  },
  {
   "cell_type": "markdown",
   "id": "daac4e09-37e5-4412-b3ec-d95d8852df43",
   "metadata": {
    "id": "9fb19f0d"
   },
   "source": [
    "### Exercise 43:\n",
    "Assign a boolean value based on the comparison of two variables `a = 10` and `b = 15`.\n",
    "\n",
    "```python\n",
    "# Exercise 43\n",
    "```"
   ]
  },
  {
   "cell_type": "code",
   "execution_count": null,
   "id": "26af3278-f2de-40e7-9bbd-eb30f1d2767a",
   "metadata": {},
   "outputs": [],
   "source": [
    "a = 10\n",
    "b = 15\n",
    "is_greater = b > a"
   ]
  },
  {
   "cell_type": "markdown",
   "id": "489deba0-92a4-4e53-b695-645067cb4a0a",
   "metadata": {
    "id": "9fb19f0d"
   },
   "source": [
    "---\n",
    "\n",
    "### Exercise 44:\n",
    "Assign a long sentence to a variable and count its characters using `len()`.\n",
    "\n",
    "```python\n",
    "# Exercise 44\n",
    "```\n",
    "\n",
    "---"
   ]
  },
  {
   "cell_type": "code",
   "execution_count": 28,
   "id": "5164d9b2-b985-4eaa-af1f-9f82daad1f6a",
   "metadata": {},
   "outputs": [
    {
     "data": {
      "text/plain": [
       "'This is a very long sentence that contains many characters for testing purposes.'"
      ]
     },
     "execution_count": 28,
     "metadata": {},
     "output_type": "execute_result"
    }
   ],
   "source": [
    "long_sentence = \"This is a very long sentence that contains many characters for testing purposes.\"\n",
    "char_count = len(long_sentence)\n",
    "long_sentence"
   ]
  },
  {
   "cell_type": "markdown",
   "id": "532267e0-8043-4fcb-a2ca-d9aa5270e3c5",
   "metadata": {
    "id": "9fb19f0d"
   },
   "source": [
    "### Exercise 45:\n",
    "Assign a fractional result `7 / 3` to a variable `division_result`.\n",
    "\n",
    "```python\n",
    "# Exercise 45\n",
    "```\n",
    "\n",
    "---"
   ]
  },
  {
   "cell_type": "code",
   "execution_count": 29,
   "id": "19c88595-4a84-4b86-9cbf-a999cb4cb18c",
   "metadata": {},
   "outputs": [
    {
     "data": {
      "text/plain": [
       "2.3333333333333335"
      ]
     },
     "execution_count": 29,
     "metadata": {},
     "output_type": "execute_result"
    }
   ],
   "source": [
    "division_result = 7 / 3\n",
    "division_result"
   ]
  },
  {
   "cell_type": "markdown",
   "id": "0a342e24-2af6-4852-b7f1-40b8920f792c",
   "metadata": {
    "id": "9fb19f0d"
   },
   "source": [
    "### Exercise 46:\n",
    "Create a variable `speed` and assign it the value of 100 kilometers per hour.\n",
    "\n",
    "```python\n",
    "# Exercise 46\n",
    "```\n",
    "\n",
    "---"
   ]
  },
  {
   "cell_type": "code",
   "execution_count": null,
   "id": "b4c40736-9ff6-46cd-99da-254a79bca8de",
   "metadata": {},
   "outputs": [],
   "source": [
    "speed = 100  # kilometers per hour"
   ]
  },
  {
   "cell_type": "markdown",
   "id": "724acbd5-301e-422c-bb33-26e08c9905cb",
   "metadata": {
    "id": "9fb19f0d"
   },
   "source": [
    "### Exercise 47:\n",
    "Assign a multi-variable equation like `y = 3x + 5` where `x = 4` to a variable `y`.\n",
    "\n",
    "```python\n",
    "# Exercise 47\n",
    "```\n",
    "\n",
    "---"
   ]
  },
  {
   "cell_type": "code",
   "execution_count": null,
   "id": "d197b036-1edf-4181-b179-07e7e645ee5d",
   "metadata": {},
   "outputs": [],
   "source": [
    "x = 4\n",
    "y = 3 * x + 5"
   ]
  },
  {
   "cell_type": "markdown",
   "id": "05f0414c-abe7-406c-bd53-57aebb54d15d",
   "metadata": {
    "id": "9fb19f0d"
   },
   "source": [
    "### Exercise 48:\n",
    "Use variables to calculate and store the average of three numbers.\n",
    "\n",
    "```python\n",
    "# Exercise 48\n",
    "```\n",
    "\n",
    "****"
   ]
  },
  {
   "cell_type": "code",
   "execution_count": null,
   "id": "662d1d68-21ae-49c5-88b8-f4318178311d",
   "metadata": {},
   "outputs": [],
   "source": [
    "num1 = 10\n",
    "num2 = 20\n",
    "num3 = 30\n",
    "average = (num1 + num2 + num3) / 3"
   ]
  }
 ],
 "metadata": {
  "colab": {
   "provenance": []
  },
  "kernelspec": {
   "display_name": "Python 3 (ipykernel)",
   "language": "python",
   "name": "python3"
  },
  "language_info": {
   "codemirror_mode": {
    "name": "ipython",
    "version": 3
   },
   "file_extension": ".py",
   "mimetype": "text/x-python",
   "name": "python",
   "nbconvert_exporter": "python",
   "pygments_lexer": "ipython3",
   "version": "3.13.5"
  }
 },
 "nbformat": 4,
 "nbformat_minor": 5
}
