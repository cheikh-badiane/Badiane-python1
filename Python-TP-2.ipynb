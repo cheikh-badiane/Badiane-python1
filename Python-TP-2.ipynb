{
 "cells": [
  {
   "cell_type": "markdown",
   "id": "d68c1dee",
   "metadata": {
    "id": "d68c1dee"
   },
   "source": [
    "# Practical_2: String and files"
   ]
  },
  {
   "cell_type": "markdown",
   "id": "7c49c0d0-2371-4810-9ddf-f1b64de43534",
   "metadata": {
    "id": "bea983a3"
   },
   "source": [
    "---\n",
    "\n",
    "### Exercise 1:\n",
    "Create a string variable `text` and assign it the value `\"Python is amazing!\"`.\n",
    "\n",
    "```python\n",
    "# Exercise 1\n",
    "```\n",
    "\n",
    "---"
   ]
  },
  {
   "cell_type": "code",
   "execution_count": 2,
   "id": "23ed4418-3b56-454d-b973-c12f86fd73a4",
   "metadata": {},
   "outputs": [
    {
     "data": {
      "text/plain": [
       "'Python is amazing!'"
      ]
     },
     "execution_count": 2,
     "metadata": {},
     "output_type": "execute_result"
    }
   ],
   "source": [
    "# Exercise 1\n",
    "text = \"Python is amazing!\"\n",
    "text"
   ]
  },
  {
   "cell_type": "markdown",
   "id": "60ff1dd9-20a7-4883-970b-c8cba4214fe0",
   "metadata": {
    "id": "bea983a3"
   },
   "source": [
    "### Exercise 2:\n",
    "Find the length of the string `\"Hello, World!\"` and store it in a variable `length`.\n",
    "\n",
    "```python\n",
    "# Exercise 2\n",
    "```"
   ]
  },
  {
   "cell_type": "code",
   "execution_count": 3,
   "id": "55644984-b979-4649-96f7-15e8cbb052c3",
   "metadata": {},
   "outputs": [
    {
     "data": {
      "text/plain": [
       "13"
      ]
     },
     "execution_count": 3,
     "metadata": {},
     "output_type": "execute_result"
    }
   ],
   "source": [
    "length = len(\"Hello, World!\")\n",
    "length"
   ]
  },
  {
   "cell_type": "markdown",
   "id": "4f94ee0b-9a18-499f-90ec-5b097bebdfc3",
   "metadata": {
    "id": "bea983a3"
   },
   "source": [
    "---\n",
    "\n",
    "### Exercise 3:\n",
    "Convert the string `\"python programming\"` to uppercase and store it in a variable `upper_text`.\n",
    "\n",
    "```python\n",
    "# Exercise 3\n",
    "```"
   ]
  },
  {
   "cell_type": "code",
   "execution_count": 4,
   "id": "cf231d61-0dbf-4bb4-ac5a-208b1fe85b5d",
   "metadata": {},
   "outputs": [],
   "source": [
    "upper_text = \"python programming\".upper()"
   ]
  },
  {
   "cell_type": "markdown",
   "id": "af41877b-7476-43ee-b830-12ea346d29ee",
   "metadata": {
    "id": "bea983a3"
   },
   "source": [
    "---\n",
    "\n",
    "### Exercise 4:\n",
    "Extract the first 5 characters from the string `\"Artificial Intelligence\"`.\n",
    "\n",
    "```python\n",
    "# Exercise 4\n",
    "```"
   ]
  },
  {
   "cell_type": "code",
   "execution_count": 6,
   "id": "b6dc6b24-dd02-4783-a10f-f67990a98c90",
   "metadata": {},
   "outputs": [
    {
     "data": {
      "text/plain": [
       "'Artif'"
      ]
     },
     "execution_count": 6,
     "metadata": {},
     "output_type": "execute_result"
    }
   ],
   "source": [
    "first_five = \"Artificial Intelligence\"[:5]\n",
    "first_five\n"
   ]
  },
  {
   "cell_type": "markdown",
   "id": "175b9d8c-8628-495a-a0c1-0f1c584132ef",
   "metadata": {
    "id": "bea983a3"
   },
   "source": [
    "---\n",
    "\n",
    "### Exercise 5:\n",
    "Concatenate the strings `\"Hello\"` and `\"World\"` with a space in between.\n",
    "\n",
    "```python\n",
    "# Exercise 5\n",
    "```"
   ]
  },
  {
   "cell_type": "code",
   "execution_count": 7,
   "id": "c6f541d1-b333-45f9-bb7b-b551b24e39cf",
   "metadata": {},
   "outputs": [
    {
     "data": {
      "text/plain": [
       "'Hello World'"
      ]
     },
     "execution_count": 7,
     "metadata": {},
     "output_type": "execute_result"
    }
   ],
   "source": [
    "concatenated = \"Hello\" + \" \" + \"World\"\n",
    "concatenated "
   ]
  },
  {
   "cell_type": "markdown",
   "id": "cb7d3b9a-99ac-4539-be5a-4de70224b8d3",
   "metadata": {
    "id": "bea983a3"
   },
   "source": [
    "---\n",
    "\n",
    "### Exercise 6:\n",
    "Replace the word `\"dog\"` with `\"cat\"` in the string `\"The quick brown dog jumps over the lazy dog.\"`.\n",
    "\n",
    "```python\n",
    "# Exercise 6\n",
    "```"
   ]
  },
  {
   "cell_type": "code",
   "execution_count": 9,
   "id": "c1506507-a020-462e-b994-402b3cfa4bb7",
   "metadata": {},
   "outputs": [
    {
     "data": {
      "text/plain": [
       "'The quick brown cat jumps over the lazy cat.'"
      ]
     },
     "execution_count": 9,
     "metadata": {},
     "output_type": "execute_result"
    }
   ],
   "source": [
    "original_text = \"The quick brown dog jumps over the lazy dog.\"\n",
    "replaced_text = original_text.replace(\"dog\", \"cat\")\n",
    "replaced_text\n"
   ]
  },
  {
   "cell_type": "markdown",
   "id": "11ddb363-a851-43bb-9c11-36d927120b72",
   "metadata": {
    "id": "bea983a3"
   },
   "source": [
    "---\n",
    "\n",
    "### Exercise 7:\n",
    "Split the string `\"apple,banana,orange\"` by commas and store the result in a list `fruits_list`.\n",
    "\n",
    "```python\n",
    "# Exercise 7\n",
    "```\n",
    "\n",
    "-"
   ]
  },
  {
   "cell_type": "code",
   "execution_count": 11,
   "id": "9d582e67-a081-4240-8861-9624b5eeb0c3",
   "metadata": {},
   "outputs": [
    {
     "data": {
      "text/plain": [
       "['apple', 'banana', 'orange']"
      ]
     },
     "execution_count": 11,
     "metadata": {},
     "output_type": "execute_result"
    }
   ],
   "source": [
    "fruits_string = \"apple,banana,orange\"\n",
    "fruits_list = fruits_string.split(\",\")\n",
    "fruits_list \n"
   ]
  },
  {
   "cell_type": "markdown",
   "id": "1405104d-6b82-4e47-bafb-bd6a63427a23",
   "metadata": {
    "id": "bea983a3"
   },
   "source": [
    "--\n",
    "\n",
    "### Exercise 8:\n",
    "Use string formatting to create the sentence `\"My name is Alice and I am 25 years old.\"`, where the name and age are variables.\n",
    "\n",
    "```python\n",
    "# Exercise 8\n",
    "```"
   ]
  },
  {
   "cell_type": "code",
   "execution_count": 13,
   "id": "b2d87ae9-209d-4cee-9ea1-4212facfc619",
   "metadata": {},
   "outputs": [
    {
     "data": {
      "text/plain": [
       "'My name is Alice and I am 25 years old.'"
      ]
     },
     "execution_count": 13,
     "metadata": {},
     "output_type": "execute_result"
    }
   ],
   "source": [
    "name = \"Alice\"\n",
    "age = 25\n",
    "formatted_sentence = f\"My name is {name} and I am {age} years old.\"\n",
    "formatted_sentence \n"
   ]
  },
  {
   "cell_type": "markdown",
   "id": "5e812c53-ffb8-423d-9f8c-2fa4aaf56421",
   "metadata": {
    "id": "bea983a3"
   },
   "source": [
    "---\n",
    "\n",
    "### Exercise 9:\n",
    "Check if the string `\"python\"` is present in the sentence `\"I love python programming\"`.\n",
    "\n",
    "```python\n",
    "# Exercise 9\n",
    "```"
   ]
  },
  {
   "cell_type": "code",
   "execution_count": 14,
   "id": "cd25cd33-33b1-4f07-9acb-869c42691722",
   "metadata": {},
   "outputs": [
    {
     "data": {
      "text/plain": [
       "True"
      ]
     },
     "execution_count": 14,
     "metadata": {},
     "output_type": "execute_result"
    }
   ],
   "source": [
    "sentence = \"I love python programming\"\n",
    "contains_python = \"python\" in sentence\n",
    "contains_python \n"
   ]
  },
  {
   "cell_type": "markdown",
   "id": "1a87ca73-7d12-4b99-90cf-4fb4443cc76b",
   "metadata": {
    "id": "bea983a3"
   },
   "source": [
    "---\n",
    "\n",
    "### Exercise 10:\n",
    "Count the number of occurrences of the letter `\"e\"` in the string `\"Elephant is an elegant animal\"`.\n",
    "\n",
    "```python\n",
    "# Exercise 10\n",
    "```"
   ]
  },
  {
   "cell_type": "code",
   "execution_count": 15,
   "id": "b008531d-d353-4138-b3ff-fbd52839b66f",
   "metadata": {},
   "outputs": [
    {
     "data": {
      "text/plain": [
       "4"
      ]
     },
     "execution_count": 15,
     "metadata": {},
     "output_type": "execute_result"
    }
   ],
   "source": [
    "text_to_count = \"Elephant is an elegant animal\"\n",
    "contains = text_to_count.lower().count(\"e\")\n",
    "contains \n"
   ]
  },
  {
   "cell_type": "markdown",
   "id": "f8964fd2-9c35-497f-a478-621c964a4cc3",
   "metadata": {
    "id": "bea983a3"
   },
   "source": [
    "---\n",
    "\n",
    "### Exercise 11:\n",
    "Remove any leading and trailing spaces from the string `\"   Data Science   \"`.\n",
    "\n",
    "```python\n",
    "# Exercise 11\n",
    "```\n",
    "\n",
    "-"
   ]
  },
  {
   "cell_type": "code",
   "execution_count": 16,
   "id": "1425c796-389c-4eba-8b8b-49164bce1e22",
   "metadata": {},
   "outputs": [
    {
     "data": {
      "text/plain": [
       "'Data Science'"
      ]
     },
     "execution_count": 16,
     "metadata": {},
     "output_type": "execute_result"
    }
   ],
   "source": [
    "spaced_text = \"   Data Science   \"\n",
    "trimmed_text = spaced_text.strip()\n",
    "trimmed_text"
   ]
  },
  {
   "cell_type": "markdown",
   "id": "b5865c1b-8717-477a-99b2-1b742d5fca8d",
   "metadata": {
    "id": "bea983a3"
   },
   "source": [
    "--\n",
    "\n",
    "### Exercise 12:\n",
    "Convert the string `\"100\"` into an integer and store it in a variable `int_value`.\n",
    "\n",
    "```python\n",
    "# Exercise 12\n",
    "```"
   ]
  },
  {
   "cell_type": "code",
   "execution_count": 18,
   "id": "5bde0af8-baea-49d0-b9b5-95089862e05b",
   "metadata": {},
   "outputs": [
    {
     "data": {
      "text/plain": [
       "100"
      ]
     },
     "execution_count": 18,
     "metadata": {},
     "output_type": "execute_result"
    }
   ],
   "source": [
    "int_value = int(\"100\")\n",
    "int_value "
   ]
  },
  {
   "cell_type": "markdown",
   "id": "5445991a-0603-4c34-a534-4a5f174512be",
   "metadata": {
    "id": "bea983a3"
   },
   "source": [
    "---\n",
    "\n",
    "### Exercise 13:\n",
    "Extract the substring `\"pro\"` from the string `\"programming\"`.\n",
    "\n",
    "```python\n",
    "# Exercise 13\n",
    "```"
   ]
  },
  {
   "cell_type": "code",
   "execution_count": 19,
   "id": "04f65ce7-ccab-40d6-a5c9-626ff9f6c263",
   "metadata": {},
   "outputs": [
    {
     "data": {
      "text/plain": [
       "'pro'"
      ]
     },
     "execution_count": 19,
     "metadata": {},
     "output_type": "execute_result"
    }
   ],
   "source": [
    "substring = \"programming\"[0:3]\n",
    "substring "
   ]
  },
  {
   "cell_type": "markdown",
   "id": "7d3539c1-d83f-4c89-94df-54ba1245c285",
   "metadata": {
    "id": "bea983a3"
   },
   "source": [
    "---\n",
    "\n",
    "### Exercise 14:\n",
    "Check if the string `\"data\"` starts with `\"da\"` and ends with `\"ta\"`.\n",
    "\n",
    "```python\n",
    "# Exercise 14\n",
    "```"
   ]
  },
  {
   "cell_type": "code",
   "execution_count": 21,
   "id": "da771801-464e-4e6a-aadc-02cb0c63e10f",
   "metadata": {},
   "outputs": [
    {
     "data": {
      "text/plain": [
       "'data'"
      ]
     },
     "execution_count": 21,
     "metadata": {},
     "output_type": "execute_result"
    }
   ],
   "source": [
    "test_string = \"data\"\n",
    "starts_with_da = test_string.startswith(\"da\")\n",
    "ends_with_ta = test_string.endswith(\"ta\")\n",
    "test_string"
   ]
  },
  {
   "cell_type": "markdown",
   "id": "3d0dd310-8861-4915-bf4f-2a0516325e41",
   "metadata": {
    "id": "bea983a3"
   },
   "source": [
    "---\n",
    "\n",
    "### Exercise 15:\n",
    "Reverse the string `\"machine learning\"` and store the result in `reversed_text`.\n",
    "\n",
    "```python\n",
    "# Exercise 15\n",
    "```"
   ]
  },
  {
   "cell_type": "code",
   "execution_count": 22,
   "id": "a2abe629-b88e-4607-b56f-85ca9bc27e5b",
   "metadata": {},
   "outputs": [
    {
     "data": {
      "text/plain": [
       "'gninrael enihcam'"
      ]
     },
     "execution_count": 22,
     "metadata": {},
     "output_type": "execute_result"
    }
   ],
   "source": [
    "original_string = \"machine learning\"\n",
    "reversed_text = original_string[::-1]\n",
    "reversed_text"
   ]
  },
  {
   "cell_type": "markdown",
   "id": "6f8c3833-e94e-4733-851a-2fc8746c06fd",
   "metadata": {
    "id": "bea983a3"
   },
   "source": [
    "---\n",
    "\n",
    "### Exercise 16:\n",
    "Convert the first letter of each word in the string `\"machine learning is fun\"` to uppercase.\n",
    "\n",
    "```python\n",
    "# Exercise 16\n",
    "```"
   ]
  },
  {
   "cell_type": "code",
   "execution_count": 24,
   "id": "0148f7ce-2f0e-4b13-b737-ab4ddf4e5512",
   "metadata": {},
   "outputs": [
    {
     "data": {
      "text/plain": [
       "'machine learning is fun'"
      ]
     },
     "execution_count": 24,
     "metadata": {},
     "output_type": "execute_result"
    }
   ],
   "source": [
    "original_string = \"machine learning\"\n",
    "reversed_text = original_string[::-1]\n",
    "\n",
    "# Exercise 16\n",
    "title_string = \"machine learning is fun\"\n",
    "title_case = title_string.title()\n",
    "title_string \n"
   ]
  },
  {
   "cell_type": "markdown",
   "id": "8ceb2bf9-63b9-4325-b86e-7e2165e09479",
   "metadata": {
    "id": "bea983a3"
   },
   "source": [
    "---\n",
    "\n",
    "### Exercise 17:\n",
    "Create a multiline string representing a poem and store it in a variable `poem`.\n",
    "\n",
    "```python\n",
    "# Exercise 17\n",
    "```"
   ]
  },
  {
   "cell_type": "code",
   "execution_count": 25,
   "id": "185cd796-b037-4294-9855-8570cad4c380",
   "metadata": {},
   "outputs": [],
   "source": [
    "poem = \"\"\"Roses are red,\n",
    "Violets are blue,\n",
    "Python is awesome,\n",
    "And so are you!\"\"\""
   ]
  },
  {
   "cell_type": "markdown",
   "id": "7406a762-fe75-4840-bea5-d9346c036584",
   "metadata": {
    "id": "bea983a3"
   },
   "source": [
    "---\n",
    "\n",
    "### Exercise 18:\n",
    "Write a string to a file named `\"output.txt\"`.\n",
    "\n",
    "```python\n",
    "# Exercise 18\n",
    "```\n",
    "\n",
    "--"
   ]
  },
  {
   "cell_type": "code",
   "execution_count": 23,
   "id": "58ffb6de-bfda-43cc-a8e1-107c21936984",
   "metadata": {},
   "outputs": [
    {
     "ename": "_IncompleteInputError",
     "evalue": "incomplete input (3425049484.py, line 2)",
     "output_type": "error",
     "traceback": [
      "\u001b[1;36m  Cell \u001b[1;32mIn[23], line 2\u001b[1;36m\u001b[0m\n\u001b[1;33m    file.write(\"This is some text written to a file.\"\u001b[0m\n\u001b[1;37m                                                     ^\u001b[0m\n\u001b[1;31m_IncompleteInputError\u001b[0m\u001b[1;31m:\u001b[0m incomplete input\n"
     ]
    }
   ],
   "source": [
    "with open(\"output.txt\", \"w\") as file:\n",
    "    file.write(\"This is some text written to a file.\""
   ]
  },
  {
   "cell_type": "markdown",
   "id": "399d76a4-38cd-42c4-9e49-af32d2cdad40",
   "metadata": {
    "id": "bea983a3"
   },
   "source": [
    "-\n",
    "\n",
    "### Exercise 19:\n",
    "Read the contents of a file named `\"data.txt\"` and print it line by line.\n",
    "\n",
    "```python\n",
    "# Exercise 19\n",
    "```"
   ]
  },
  {
   "cell_type": "code",
   "execution_count": 22,
   "id": "3508cf06-fff1-441f-b113-59e5c1a9a834",
   "metadata": {},
   "outputs": [
    {
     "name": "stdout",
     "output_type": "stream",
     "text": [
      "File 'data.txt' not found.\n"
     ]
    }
   ],
   "source": [
    "try:\n",
    "    with open(\"data.txt\", \"r\") as file:\n",
    "        for line in file:\n",
    "            print(line.strip())\n",
    "except FileNotFoundError:\n",
    "    print(\"File 'data.txt' not found.\")\n"
   ]
  },
  {
   "cell_type": "markdown",
   "id": "7ff02061-a913-4d3e-b8c2-5979eaa7d191",
   "metadata": {
    "id": "bea983a3"
   },
   "source": [
    "---\n",
    "\n",
    "### Exercise 20:\n",
    "Check if a file `\"example.txt\"` exists before opening it.\n",
    "\n",
    "```python\n",
    "# Exercise 20\n",
    "```"
   ]
  },
  {
   "cell_type": "code",
   "execution_count": 21,
   "id": "000313d6-6091-455c-9f4b-fc6ec106ad16",
   "metadata": {},
   "outputs": [
    {
     "name": "stdout",
     "output_type": "stream",
     "text": [
      "File 'example.txt' does not exist.\n"
     ]
    }
   ],
   "source": [
    "import os\n",
    "if os.path.exists(\"example.txt\"):\n",
    "    with open(\"example.txt\", \"r\") as file:\n",
    "        content = file.read()\n",
    "else:\n",
    "    print(\"File 'example.txt' does not exist.\")\n",
    "\n"
   ]
  },
  {
   "cell_type": "markdown",
   "id": "4f642a7b-4fab-4d5b-99f9-15e754f488e2",
   "metadata": {
    "id": "bea983a3"
   },
   "source": [
    "---\n",
    "\n",
    "### Exercise 21:\n",
    "Append a new line `\"This is a new line\"` to an existing file `\"notes.txt\"`.\n",
    "\n",
    "```python\n",
    "# Exercise 21\n",
    "```\n",
    "\n",
    "--"
   ]
  },
  {
   "cell_type": "code",
   "execution_count": null,
   "id": "f657685f-10f6-48da-9663-821589c10fe2",
   "metadata": {},
   "outputs": [],
   "source": [
    "with open(\"notes.txt\", \"a\") as file:\n",
    "    file.write(\"\\nThis is a new line\")\n"
   ]
  },
  {
   "cell_type": "markdown",
   "id": "deaa5a71-0ddc-435e-80fb-6628a374f2d6",
   "metadata": {
    "id": "bea983a3"
   },
   "source": [
    "-\n",
    "\n",
    "### Exercise 22:\n",
    "Read the contents of a file `\"log.txt\"` and store each line in a list `log_lines`.\n",
    "\n",
    "```python\n",
    "# Exercise 22\n",
    "```"
   ]
  },
  {
   "cell_type": "code",
   "execution_count": null,
   "id": "8ea378ec-e40e-41cd-a53f-a89f4f52cef1",
   "metadata": {},
   "outputs": [],
   "source": [
    "with open(\"log.txt\", \"r\") as file:\n",
    "    log_lines = file.readlines()"
   ]
  },
  {
   "cell_type": "markdown",
   "id": "4369ba7a-69c4-403e-b25c-768f19f40325",
   "metadata": {
    "id": "bea983a3"
   },
   "source": [
    "---\n",
    "\n",
    "### Exercise 23:\n",
    "Create a new file `\"report.txt\"` and write the string `\"Data analysis report\"` to it.\n",
    "\n",
    "```python\n",
    "# Exercise 23\n",
    "```\n",
    "\n",
    "-"
   ]
  },
  {
   "cell_type": "code",
   "execution_count": null,
   "id": "04f3ea6c-3823-4ad0-8320-9192961c3521",
   "metadata": {},
   "outputs": [],
   "source": [
    "with open(\"report.txt\", \"w\") as file:\n",
    "    file.write(\"Data analysis report\")"
   ]
  },
  {
   "cell_type": "markdown",
   "id": "9729bc81-27d0-4adb-abc7-54c5df8bc68e",
   "metadata": {
    "id": "bea983a3"
   },
   "source": [
    "--\n",
    "\n",
    "### Exercise 24:\n",
    "Replace the word `\"error\"` with `\"issue\"` in a file `\"log.txt\"`.\n",
    "\n",
    "```python\n",
    "# Exercise 24\n",
    "```"
   ]
  },
  {
   "cell_type": "code",
   "execution_count": null,
   "id": "a6bc15de-aa0a-41b7-b00c-2a01893af87c",
   "metadata": {},
   "outputs": [],
   "source": [
    "with open(\"log.txt\", \"r\") as file:\n",
    "    content = file.read()\n",
    "\n",
    "updated_content = content.replace(\"error\", \"issue\")\n",
    "\n",
    "with open(\"log.txt\", \"w\") as file:\n",
    "    file.write(updated_content)"
   ]
  },
  {
   "cell_type": "markdown",
   "id": "1e3d8968-19b9-4f5e-95dd-de627a319cae",
   "metadata": {
    "id": "bea983a3"
   },
   "source": [
    "---\n",
    "\n",
    "### Exercise 25:\n",
    "Count the number of words in a text file `\"document.txt\"`.\n",
    "\n",
    "```python\n",
    "# Exercise 25\n",
    "```"
   ]
  },
  {
   "cell_type": "code",
   "execution_count": null,
   "id": "5a117d67-ffbe-40ba-abc9-47a2d264efd2",
   "metadata": {},
   "outputs": [],
   "source": [
    "with open(\"document.txt\", \"r\") as file:\n",
    "    content = file.read()\n",
    "    words = content.split()\n",
    "    word_count = len(words)\n",
    "\n"
   ]
  },
  {
   "cell_type": "markdown",
   "id": "62b0638c-941e-4fb6-affb-301b06195dd0",
   "metadata": {
    "id": "bea983a3"
   },
   "source": [
    "---\n",
    "\n",
    "### Exercise 26:\n",
    "Write a Python script that reads a file `\"essay.txt\"` and prints the total number of lines, words, and characters.\n",
    "\n",
    "```python\n",
    "# Exercise 26\n",
    "```"
   ]
  },
  {
   "cell_type": "code",
   "execution_count": null,
   "id": "1818d46f-9a85-4e25-9bd0-5dcfeab73026",
   "metadata": {},
   "outputs": [],
   "source": []
  },
  {
   "cell_type": "code",
   "execution_count": 20,
   "id": "30d3c20e-994a-4f1a-bf9c-d15fb3e82efa",
   "metadata": {},
   "outputs": [],
   "source": [
    "def analyze_file(filename):\n",
    "    with open(filename, \"r\") as file:\n",
    "        lines = file.readlines()\n",
    "        line_count = len(lines)\n",
    "        word_count = 0\n",
    "        char_count = 0\n",
    "        \n",
    "        for line in lines:\n",
    "            words = line.split()\n",
    "            word_count += len(words)\n",
    "            char_count += len(line)\n",
    "    \n",
    "    print(f\"Lines: {line_count}\")\n",
    "    print(f\"Words: {word_count}\")\n",
    "    print(f\"Characters: {char_count}\")"
   ]
  },
  {
   "cell_type": "markdown",
   "id": "e88053a9-13f2-4b34-8e43-9c479391acf0",
   "metadata": {
    "id": "bea983a3"
   },
   "source": [
    "---\n",
    "\n",
    "### Exercise 27:\n",
    "Copy the contents of one file `\"source.txt\"` to another file `\"destination.txt\"`.\n",
    "\n",
    "```python\n",
    "# Exercise 27\n",
    "```"
   ]
  },
  {
   "cell_type": "code",
   "execution_count": null,
   "id": "9ee0b500-3891-43fe-8738-439a2fda5fd2",
   "metadata": {},
   "outputs": [],
   "source": [
    "with open(\"source.txt\", \"r\") as source:\n",
    "    with open(\"destination.txt\", \"w\") as destination:\n",
    "        destination.write(source.read())"
   ]
  },
  {
   "cell_type": "markdown",
   "id": "2850f520-df04-4c21-9e78-ef6f2b339f5d",
   "metadata": {
    "id": "bea983a3"
   },
   "source": [
    "---\n",
    "\n",
    "### Exercise 28:\n",
    "Write a Python function that takes a filename as input and returns the number of lines in the file.\n",
    "\n",
    "```python\n",
    "# Exercise 28\n",
    "```"
   ]
  },
  {
   "cell_type": "code",
   "execution_count": null,
   "id": "0e3f8c8c-56a4-429a-bf3e-297af9b3a2ce",
   "metadata": {},
   "outputs": [],
   "source": [
    "def count_lines(filename):\n",
    "    with open(filename, \"r\") as file:\n",
    "        return len(file.readlines())\n"
   ]
  },
  {
   "cell_type": "markdown",
   "id": "42a667d0-6419-4070-9c2f-5ac54b465a01",
   "metadata": {
    "id": "bea983a3"
   },
   "source": [
    "---\n",
    "\n",
    "### Exercise 29:\n",
    "Extract all the words from a text file `\"article.txt\"` that contain more than 5 characters.\n",
    "\n",
    "```python\n",
    "# Exercise 29\n",
    "```"
   ]
  },
  {
   "cell_type": "code",
   "execution_count": null,
   "id": "9d6dbe90-9172-4cd6-97db-167c1dd36b04",
   "metadata": {},
   "outputs": [],
   "source": [
    "def long_words(filename):\n",
    "    with open(filename, \"r\") as file:\n",
    "        content = file.read()\n",
    "        words = content.split()\n",
    "        return [word for word in words if len(word) > 5]"
   ]
  },
  {
   "cell_type": "markdown",
   "id": "9aa87112-9984-494d-906f-d5c5efb3a535",
   "metadata": {
    "id": "bea983a3"
   },
   "source": [
    "---\n",
    "\n",
    "### Exercise 30:\n",
    "Convert the contents of a file `\"notes.txt\"` to uppercase and save the result in another file `\"uppercase_notes.txt\"`.\n",
    "\n",
    "```python\n",
    "# Exercise 30"
   ]
  },
  {
   "cell_type": "code",
   "execution_count": null,
   "id": "ec83ff23-58d9-4108-88c7-d728e545835d",
   "metadata": {},
   "outputs": [],
   "source": [
    "with open(\"notes.txt\", \"r\") as source:\n",
    "    content = source.read()\n",
    "\n",
    "with open(\"uppercase_notes.txt\", \"w\") as destination:\n",
    "    destination.write(content.upper())\n",
    "    "
   ]
  },
  {
   "cell_type": "markdown",
   "id": "730df7e4-70c0-406a-9b18-115b2d9128f6",
   "metadata": {
    "id": "bea983a3"
   },
   "source": [
    "```\n",
    "\n",
    "---\n",
    "\n",
    "### Exercise 31:\n",
    "Write a Python script that reads a file and removes all empty lines.\n",
    "\n",
    "```python\n",
    "# Exercise 31\n",
    "```"
   ]
  },
  {
   "cell_type": "code",
   "execution_count": 19,
   "id": "c4e94bca-1667-4049-b642-d44602c582f0",
   "metadata": {},
   "outputs": [],
   "source": [
    "def remove_empty_lines(filename):\n",
    "    with open(filename, \"r\") as file:\n",
    "        lines = file.readlines()\n",
    "    \n",
    "    non_empty_lines = [line for line in lines if line.strip()]\n",
    "    \n",
    "    with open(filename, \"w\") as file:\n",
    "        file.writelines(non_empty_lines)"
   ]
  },
  {
   "cell_type": "markdown",
   "id": "1c809b13-196e-49c8-89fe-246d0aeb5855",
   "metadata": {
    "id": "bea983a3"
   },
   "source": [
    "---\n",
    "\n",
    "### Exercise 32:\n",
    "Open a file `\"config.txt\"` in both read and write mode.\n",
    "\n",
    "```python\n",
    "# Exercise 32\n",
    "```\n",
    "\n",
    "--"
   ]
  },
  {
   "cell_type": "code",
   "execution_count": null,
   "id": "88af31b7-4bed-46fe-829d-b13402bd7c50",
   "metadata": {},
   "outputs": [],
   "source": [
    "with open(\"config.txt\", \"r+\") as file:\n",
    "    content = file.read()\n",
    "    # Do something with content\n",
    "    file.write(\"New configuration\")"
   ]
  },
  {
   "cell_type": "markdown",
   "id": "d9d9a82d-df20-4ccf-849b-07f1d26a94ff",
   "metadata": {
    "id": "bea983a3"
   },
   "source": [
    "-\n",
    "\n",
    "### Exercise 33:\n",
    "Write a Python function that reads a file and prints the longest line in the file.\n",
    "\n",
    "```python\n",
    "# Exercise 33\n",
    "```"
   ]
  },
  {
   "cell_type": "code",
   "execution_count": null,
   "id": "b34f543a-2f53-47f7-9923-24f9025c199a",
   "metadata": {},
   "outputs": [],
   "source": [
    "def longest_line(filename):\n",
    "    with open(filename, \"r\") as file:\n",
    "        lines = file.readlines()\n",
    "        return max(lines, key=len)"
   ]
  },
  {
   "cell_type": "markdown",
   "id": "a78bf3fd-3fb8-463d-9044-73e5d28c0866",
   "metadata": {
    "id": "bea983a3"
   },
   "source": [
    "---\n",
    "\n",
    "### Exercise 34:\n",
    "Write a Python script to count the frequency of each letter in a text file `\"message.txt\"`.\n",
    "\n",
    "```python\n",
    "# Exercise 34\n",
    "```\n",
    "\n",
    "--"
   ]
  },
  {
   "cell_type": "code",
   "execution_count": 18,
   "id": "c002a95a-3886-40c4-9daf-364aabf52e27",
   "metadata": {},
   "outputs": [],
   "source": [
    "def letter_frequency(filename):\n",
    "    with open(filename, \"r\") as file:\n",
    "        content = file.read().lower()\n",
    "    \n",
    "    frequency = {}\n",
    "    for char in content:\n",
    "        if char.isalpha():\n",
    "            frequency[char] = frequency.get(char, 0) + 1\n",
    "    \n",
    "    return frequency"
   ]
  },
  {
   "cell_type": "markdown",
   "id": "7625399d-dd3e-4e45-8f01-696d4040bd83",
   "metadata": {
    "id": "bea983a3"
   },
   "source": [
    "-\n",
    "\n",
    "### Exercise 35:\n",
    "Write a Python script that reads a file and prints the total number of characters, excluding spaces.\n",
    "\n",
    "```python\n",
    "# Exercise 35\n",
    "```\n",
    "\n",
    "-"
   ]
  },
  {
   "cell_type": "code",
   "execution_count": null,
   "id": "25de575c-20ec-4419-8070-bd7497bb80d0",
   "metadata": {},
   "outputs": [],
   "source": [
    "def count_chars_no_spaces(filename):\n",
    "    with open(filename, \"r\") as file:\n",
    "        content = file.read()\n",
    "        return len(content.replace(\" \", \"\"))\n"
   ]
  },
  {
   "cell_type": "markdown",
   "id": "3384226c-fb22-414e-8eca-7e7fb02cf66b",
   "metadata": {
    "id": "bea983a3"
   },
   "source": [
    "--\n",
    "\n",
    "### Exercise 36:\n",
    "Create a Python script to check whether a file is empty or not.\n",
    "\n",
    "```python\n",
    "# Exercise 36\n",
    "```"
   ]
  },
  {
   "cell_type": "code",
   "execution_count": null,
   "id": "e42b3e49-1099-4896-8f0a-9c316cd1e55a",
   "metadata": {},
   "outputs": [],
   "source": [
    "def is_file_empty(filename):\n",
    "    import os\n",
    "    return os.path.getsize(filename) == 0\n"
   ]
  },
  {
   "cell_type": "markdown",
   "id": "fcdfc7a1-571d-4956-af9e-99f5f57e0edd",
   "metadata": {
    "id": "bea983a3"
   },
   "source": [
    "---\n",
    "\n",
    "### Exercise 37:\n",
    "Write a Python function that reads a file and removes all punctuation marks from the text.\n",
    "\n",
    "```python\n",
    "# Exercise 37\n",
    "```"
   ]
  },
  {
   "cell_type": "code",
   "execution_count": null,
   "id": "42c36727-7ba7-4b67-9a3d-d8cd1aadd932",
   "metadata": {},
   "outputs": [],
   "source": [
    "def remove_punctuation(filename):\n",
    "    import string\n",
    "    with open(filename, \"r\") as file:\n",
    "        content = file.read()\n",
    "    \n",
    "    # Remove punctuation\n",
    "    clean_content = content.translate(str.maketrans('', '', string.punctuation))\n",
    "    \n",
    "    return clean_content"
   ]
  },
  {
   "cell_type": "markdown",
   "id": "f4b555ea-e2af-4604-9de3-9033434d8455",
   "metadata": {
    "id": "bea983a3"
   },
   "source": [
    "---\n",
    "\n",
    "### Exercise 38:\n",
    "Create a Python function that writes a list of strings to a file, each string on a new line.\n",
    "\n",
    "```python\n",
    "# Exercise 38\n",
    "```"
   ]
  },
  {
   "cell_type": "code",
   "execution_count": 17,
   "id": "628ac438-a137-4e6e-8b08-ba76eaef348e",
   "metadata": {},
   "outputs": [],
   "source": [
    "def write_list_to_file(strings_list, filename):\n",
    "    with open(filename, \"w\") as file:\n",
    "        for string in strings_list:\n",
    "            file.write(string + \"\\n\")"
   ]
  },
  {
   "cell_type": "markdown",
   "id": "4ae0b17e-49ac-420e-a335-81b417f9bc65",
   "metadata": {
    "id": "bea983a3"
   },
   "source": [
    "---\n",
    "\n",
    "### Exercise 39:\n",
    "Write a Python script to count the number of lines that start with a specific letter (e.g., \"A\") in a text file.\n",
    "\n",
    "```python\n",
    "# Exercise 39\n",
    "```"
   ]
  },
  {
   "cell_type": "code",
   "execution_count": 16,
   "id": "083f6626-4693-42b5-86a8-6e494dfae849",
   "metadata": {},
   "outputs": [],
   "source": [
    "def count_lines_starting_with(filename, letter):\n",
    "    count = 0\n",
    "    with open(filename, \"r\") as file:\n",
    "        for line in file:\n",
    "            if line.strip().startswith(letter.upper()) or line.strip().startswith(letter.lower()):\n",
    "                count += 1\n",
    "    return count"
   ]
  },
  {
   "cell_type": "markdown",
   "id": "93c2496a-949e-483c-993a-6381455d6910",
   "metadata": {
    "id": "bea983a3"
   },
   "source": [
    "---\n",
    "\n",
    "### Exercise 40:\n",
    "Write a Python function that takes a string as input and writes it to a file `\"output.txt\"` in reverse order.\n",
    "\n",
    "```python\n",
    "# Exercise 40\n",
    "```"
   ]
  },
  {
   "cell_type": "code",
   "execution_count": 15,
   "id": "22d37222-a9bd-4f18-8206-798b05b2f1a1",
   "metadata": {},
   "outputs": [],
   "source": [
    "def write_reverse_to_file(input_string, filename):\n",
    "    reversed_string = input_string[::-1]\n",
    "    with open(filename, \"w\") as file:\n",
    "        file.write(reversed_string)"
   ]
  },
  {
   "cell_type": "markdown",
   "id": "7a329d1d-5e08-4880-80ec-2b494bf75243",
   "metadata": {
    "id": "bea983a3"
   },
   "source": [
    "---\n",
    "\n",
    "### Exercise 41:\n",
    "Write a Python script that reads a file and prints all the lines that contain the word `\"Python\"`.\n",
    "\n",
    "```python\n",
    "# Exercise 41\n",
    "```"
   ]
  },
  {
   "cell_type": "code",
   "execution_count": 14,
   "id": "b12b8fca-75a2-4fa6-8b8c-929047ae52e6",
   "metadata": {},
   "outputs": [],
   "source": [
    "def find_python_lines(filename):\n",
    "    with open(filename, \"r\") as file:\n",
    "        for line in file:\n",
    "            if \"Python\" in line:\n",
    "                print(line.strip())"
   ]
  },
  {
   "cell_type": "markdown",
   "id": "eb2bb118-2a3f-473c-8bd7-a2dea15ebb87",
   "metadata": {
    "id": "bea983a3"
   },
   "source": [
    "---\n",
    "\n",
    "### Exercise 42:\n",
    "Write a Python script that opens a file and removes all numeric digits from the file's content.\n",
    "\n",
    "```python\n",
    "# Exercise 42"
   ]
  },
  {
   "cell_type": "code",
   "execution_count": null,
   "id": "0190b385-6893-4203-acb4-804d681e6f9b",
   "metadata": {},
   "outputs": [],
   "source": []
  },
  {
   "cell_type": "markdown",
   "id": "cc15df67-457e-4c7b-ad60-ac6a4f5eb590",
   "metadata": {
    "id": "bea983a3"
   },
   "source": [
    "def remove_digits(filename):\n",
    "    with open(filename, \"r\") as file:\n",
    "        content = file.read()\n",
    "    \n",
    "    # Remove digits\n",
    "    clean_content = ''.join([char for char in content if not char.isdigit()])\n",
    "    \n",
    "    with open(filename, \"w\") as file:\n",
    "        file.write(clean_content)"
   ]
  },
  {
   "cell_type": "markdown",
   "id": "6d4e1259-35cb-46a4-87e8-f71fe4d3e190",
   "metadata": {
    "id": "bea983a3"
   },
   "source": [
    "---\n",
    "\n",
    "### Exercise 43:\n",
    "Write a Python script to find the most frequent word in a text file `\"book.txt\"`.\n",
    "\n",
    "```python\n",
    "# Exercise 43"
   ]
  },
  {
   "cell_type": "code",
   "execution_count": null,
   "id": "2cd7b9b2-d166-4f9b-a94f-88a2e4274b0b",
   "metadata": {},
   "outputs": [],
   "source": []
  },
  {
   "cell_type": "code",
   "execution_count": 13,
   "id": "9edcd36a-6aa7-4dd0-9231-8a61e2dc0a23",
   "metadata": {},
   "outputs": [],
   "source": [
    "def most_frequent_word(filename):\n",
    "    with open(filename, \"r\") as file:\n",
    "        content = file.read().lower()\n",
    "    \n",
    "    words = content.split()\n",
    "    word_count = {}\n",
    "    \n",
    "    for word in words:\n",
    "        word_count[word] = word_count.get(word, 0) + 1\n",
    "    \n",
    "    return max(word_count, key=word_count.get)\n",
    "    "
   ]
  },
  {
   "cell_type": "markdown",
   "id": "e061d3dd-6d13-4adf-9527-2b2370c40502",
   "metadata": {
    "id": "bea983a3"
   },
   "source": [
    "```\n",
    "\n",
    "---\n",
    "\n",
    "### Exercise 44:\n",
    "Write a Python script that reads a file and prints all the lines that contain exactly 5 words.\n",
    "\n",
    "```python\n",
    "# Exercise 44\n",
    "```\n",
    "\n",
    "-"
   ]
  },
  {
   "cell_type": "code",
   "execution_count": 12,
   "id": "464eec6b-5904-4182-ad4e-01aebaadcb13",
   "metadata": {},
   "outputs": [],
   "source": [
    "def lines_with_five_words(filename):\n",
    "    with open(filename, \"r\") as file:\n",
    "        for line in file:\n",
    "            words = line.split()\n",
    "            if len(words) == 5:\n",
    "                print(line.strip())"
   ]
  },
  {
   "cell_type": "markdown",
   "id": "512fc302-7bde-4e9b-b211-31c2839ec2f3",
   "metadata": {
    "id": "bea983a3"
   },
   "source": [
    "--\n",
    "\n",
    "### Exercise 45:\n",
    "Write a Python script to read a file and print the first and last line of the file.\n",
    "\n",
    "```python\n",
    "# Exercise 45\n",
    "```"
   ]
  },
  {
   "cell_type": "code",
   "execution_count": 11,
   "id": "81ae7ff0-9f82-42c2-98ff-33755ffd29fe",
   "metadata": {},
   "outputs": [],
   "source": [
    "def first_last_line(filename):\n",
    "    with open(filename, \"r\") as file:\n",
    "        lines = file.readlines()\n",
    "        print(\"First line:\", lines[0].strip())\n",
    "        print(\"Last line:\", lines[-1].strip())"
   ]
  },
  {
   "cell_type": "markdown",
   "id": "9a85ffdd-1284-4278-a7cb-e1137b1b70fd",
   "metadata": {
    "id": "bea983a3"
   },
   "source": [
    "---\n",
    "\n",
    "### Exercise 46:\n",
    "Write a Python script that checks if a file `\"students.txt\"` is writable.\n",
    "\n",
    "```python\n",
    "# Exercise 46\n",
    "```"
   ]
  },
  {
   "cell_type": "code",
   "execution_count": 10,
   "id": "d7fb5249-5e47-49b5-a937-30f32574dae0",
   "metadata": {},
   "outputs": [],
   "source": [
    "def is_writable(filename):\n",
    "    import os\n",
    "    return os.access(filename, os.W_OK)"
   ]
  },
  {
   "cell_type": "markdown",
   "id": "43370f39-6169-4c6a-9528-0c63bf4481d8",
   "metadata": {
    "id": "bea983a3"
   },
   "source": [
    "---\n",
    "\n",
    "### Exercise 47:\n",
    "Create a Python function that opens a file and returns the number of unique words in the file.\n",
    "\n",
    "```python\n",
    "# Exercise 47\n",
    "```"
   ]
  },
  {
   "cell_type": "code",
   "execution_count": 6,
   "id": "38991be7-054f-4402-ba91-23c7ec753eea",
   "metadata": {},
   "outputs": [],
   "source": [
    "def count_unique_words(filename):\n",
    "    with open(filename, \"r\") as file:\n",
    "        content = file.read().lower()\n",
    "    \n",
    "    words = content.split()\n",
    "    return len(set(words))\n",
    "    count_unique_words(filename)\n",
    "    "
   ]
  },
  {
   "cell_type": "markdown",
   "id": "ea4ae2b9-bd3d-45ca-8e40-a14eec50778b",
   "metadata": {
    "id": "bea983a3"
   },
   "source": [
    "---\n",
    "\n",
    "### Exercise 48:\n",
    "Write a Python script that reads a file and prints all lines in reverse order.\n",
    "\n",
    "```python\n",
    "# Exercise 48\n",
    "```"
   ]
  },
  {
   "cell_type": "code",
   "execution_count": 7,
   "id": "feac3a82-3175-43c3-9ccb-7910be59c80f",
   "metadata": {},
   "outputs": [],
   "source": [
    "def print_lines_reverse(filename):\n",
    "    with open(filename, \"r\") as file:\n",
    "        lines = file.readlines()\n",
    "    \n",
    "    for line in reversed(lines):\n",
    "        print(line.strip())"
   ]
  },
  {
   "cell_type": "markdown",
   "id": "7762e20b-79c4-47e6-9b9f-d90c83a70561",
   "metadata": {
    "id": "bea983a3"
   },
   "source": [
    "---\n",
    "\n",
    "### Exercise 49:\n",
    "Write a Python function that reads a file and returns the most common letter in the text.\n",
    "\n",
    "```python\n",
    "# Exercise 49\n",
    "```\n",
    "\n",
    "---"
   ]
  },
  {
   "cell_type": "code",
   "execution_count": 8,
   "id": "c6c39a65-c10e-4808-80bb-a63687b8d210",
   "metadata": {},
   "outputs": [],
   "source": [
    "def most_common_letter(filename):\n",
    "    with open(filename, \"r\") as file:\n",
    "        content = file.read().lower()\n",
    "    \n",
    "    letter_count = {}\n",
    "    for char in content:\n",
    "        if char.isalpha():\n",
    "            letter_count[char] = letter_count.get(char, 0) + 1\n",
    "    "
   ]
  },
  {
   "cell_type": "markdown",
   "id": "3cb35755-29cd-4b39-b41e-f073900973ba",
   "metadata": {
    "id": "bea983a3"
   },
   "source": [
    "### Exercise 50:\n",
    "Write a Python script that reads a file and replaces every occurrence of `\"Python\"` with `\"Java\"`.\n",
    "\n",
    "```python\n",
    "# Exercise 50\n",
    "```\n",
    "\n",
    "---"
   ]
  },
  {
   "cell_type": "code",
   "execution_count": 29,
   "id": "d34b58d9-2530-432f-98ff-a09ee337b300",
   "metadata": {},
   "outputs": [],
   "source": [
    "def replace_python_with_java(filename):\n",
    "    with open(filename, \"r\") as file:\n",
    "        content = file.read()\n",
    "    \n",
    "    updated_content = content.replace(\"Python\", \"Java\")\n",
    "    \n",
    "    with open(filename, \"w\") as file:\n",
    "        file.write(updated_content)\n",
    "    replace_python_with_java(4)"
   ]
  },
  {
   "cell_type": "code",
   "execution_count": null,
   "id": "dcf6ca38",
   "metadata": {
    "id": "dcf6ca38"
   },
   "outputs": [],
   "source": []
  }
 ],
 "metadata": {
  "colab": {
   "provenance": []
  },
  "kernelspec": {
   "display_name": "Python 3 (ipykernel)",
   "language": "python",
   "name": "python3"
  },
  "language_info": {
   "codemirror_mode": {
    "name": "ipython",
    "version": 3
   },
   "file_extension": ".py",
   "mimetype": "text/x-python",
   "name": "python",
   "nbconvert_exporter": "python",
   "pygments_lexer": "ipython3",
   "version": "3.13.5"
  }
 },
 "nbformat": 4,
 "nbformat_minor": 5
}
