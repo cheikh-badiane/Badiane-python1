{
 "cells": [
  {
   "cell_type": "markdown",
   "id": "d68c1dee",
   "metadata": {
    "id": "d68c1dee"
   },
   "source": [
    "# Practical_4: Flow control"
   ]
  },
  {
   "cell_type": "markdown",
   "id": "3a82d2e7-2ce7-4d94-92af-b6ef6e7a5424",
   "metadata": {
    "id": "bea983a3"
   },
   "source": [
    "---\n",
    "\n",
    "### Exercise 1:\n",
    "Write a Python program that checks if a number is positive or negative.\n",
    "\n",
    "```python\n",
    "# Exercise 1\n",
    "```"
   ]
  },
  {
   "cell_type": "code",
   "execution_count": 1,
   "id": "62f6fed3-3543-4da1-ae4c-d626405c4ea8",
   "metadata": {},
   "outputs": [
    {
     "name": "stdout",
     "output_type": "stream",
     "text": [
      "Positive\n",
      "Negative\n",
      "Zero\n"
     ]
    }
   ],
   "source": [
    "def check_positive_negative(number):\n",
    "    if number > 0:\n",
    "        return \"Positive\"\n",
    "    elif number < 0:\n",
    "        return \"Negative\"\n",
    "    else:\n",
    "        return \"Zero\"\n",
    "\n",
    "# Example\n",
    "print(check_positive_negative(5))    # Output: Positive\n",
    "print(check_positive_negative(-3))   # Output: Negative\n",
    "print(check_positive_negative(0))    # Output: Zero"
   ]
  },
  {
   "cell_type": "markdown",
   "id": "898d34a4-fcfe-4fd2-8478-937b7913c3af",
   "metadata": {
    "id": "bea983a3"
   },
   "source": [
    "---\n",
    "\n",
    "### Exercise 2:\n",
    "Write a Python function that checks if a string starts with a vowel.\n",
    "\n",
    "```python\n",
    "# Exercise 2\n",
    "```"
   ]
  },
  {
   "cell_type": "code",
   "execution_count": 2,
   "id": "11cd36e5-1539-4251-adeb-5e0a8de769fd",
   "metadata": {},
   "outputs": [
    {
     "name": "stdout",
     "output_type": "stream",
     "text": [
      "True\n",
      "False\n"
     ]
    }
   ],
   "source": [
    "def starts_with_vowel(text):\n",
    "    vowels = 'aeiouAEIOU'\n",
    "    if text and text[0] in vowels:\n",
    "        return True\n",
    "    return False\n",
    "\n",
    "# Example\n",
    "print(starts_with_vowel(\"apple\"))    # Output: True\n",
    "print(starts_with_vowel(\"banana\"))   # Output: False"
   ]
  },
  {
   "cell_type": "markdown",
   "id": "ed133cb9-e02d-4465-b40f-3d49b59771ec",
   "metadata": {
    "id": "bea983a3"
   },
   "source": [
    "---\n",
    "\n",
    "### Exercise 3:\n",
    "Write a Python program that takes a list of integers and prints \"Even\" for each even number and \"Odd\" for each odd number.\n",
    "\n",
    "```python\n",
    "# Exercise 3\n",
    "```"
   ]
  },
  {
   "cell_type": "code",
   "execution_count": 3,
   "id": "c1b5a8e8-f3a1-4b35-8a58-d96a20802959",
   "metadata": {},
   "outputs": [
    {
     "name": "stdout",
     "output_type": "stream",
     "text": [
      "1: Odd\n",
      "2: Even\n",
      "3: Odd\n",
      "4: Even\n",
      "5: Odd\n"
     ]
    }
   ],
   "source": [
    "def check_even_odd(numbers):\n",
    "    for num in numbers:\n",
    "        if num % 2 == 0:\n",
    "            print(f\"{num}: Even\")\n",
    "        else:\n",
    "            print(f\"{num}: Odd\")\n",
    "\n",
    "# Example\n",
    "check_even_odd([1, 2, 3, 4, 5])\n",
    "# Output:\n",
    "# 1: Odd\n",
    "# 2: Even\n",
    "# 3: Odd\n",
    "# 4: Even\n",
    "# 5: Odd"
   ]
  },
  {
   "cell_type": "markdown",
   "id": "dd3bb9e6-b44d-4cf0-b614-47b25c731e1b",
   "metadata": {
    "id": "bea983a3"
   },
   "source": [
    "---\n",
    "\n",
    "### Exercise 4:\n",
    "Write a Python program that checks if a given year is a leap year.\n",
    "\n",
    "```python\n",
    "# Exercise 4\n",
    "```"
   ]
  },
  {
   "cell_type": "code",
   "execution_count": 4,
   "id": "61a5b7f1-1a6c-47d8-a1f7-e95f7b65eb82",
   "metadata": {},
   "outputs": [
    {
     "name": "stdout",
     "output_type": "stream",
     "text": [
      "True\n",
      "False\n",
      "True\n"
     ]
    }
   ],
   "source": [
    "def is_leap_year(year):\n",
    "    if (year % 4 == 0 and year % 100 != 0) or (year % 400 == 0):\n",
    "        return True\n",
    "    return False\n",
    "\n",
    "# Example\n",
    "print(is_leap_year(2020))  # Output: True\n",
    "print(is_leap_year(2021))  # Output: False\n",
    "print(is_leap_year(2000))  # Output: True"
   ]
  },
  {
   "cell_type": "markdown",
   "id": "d5644440-6b03-41a7-aee8-6a263d959a43",
   "metadata": {
    "id": "bea983a3"
   },
   "source": [
    "---\n",
    "\n",
    "### Exercise 5:\n",
    "Write a Python function that checks if a number is divisible by both 3 and 5.\n",
    "\n",
    "```python\n",
    "# Exercise 5\n",
    "```"
   ]
  },
  {
   "cell_type": "code",
   "execution_count": 5,
   "id": "5f29224e-3c9d-4dc2-a43a-0b4f5da39b26",
   "metadata": {},
   "outputs": [
    {
     "name": "stdout",
     "output_type": "stream",
     "text": [
      "True\n",
      "False\n"
     ]
    }
   ],
   "source": [
    "def divisible_by_3_and_5(number):\n",
    "    return number % 3 == 0 and number % 5 == 0\n",
    "\n",
    "# Example\n",
    "print(divisible_by_3_and_5(15))  # Output: True\n",
    "print(divisible_by_3_and_5(10))  # Output: False"
   ]
  },
  {
   "cell_type": "markdown",
   "id": "97caf9be-af6a-49b0-ad11-5371d350f716",
   "metadata": {
    "id": "bea983a3"
   },
   "source": [
    "---\n",
    "\n",
    "### Exercise 6:\n",
    "Write a Python program that prints \"Hot\" if the temperature is above 30, \"Warm\" if it is between 15 and 30, and \"Cold\" if it is below 15.\n",
    "\n",
    "```python\n",
    "# Exercise 6\n",
    "```def temperature_classification(temp):\n",
    "    if temp > 30:\n",
    "        return \"Hot\"\n",
    "    elif 15 <= temp <= 30:\n",
    "        return \"Warm\"\n",
    "    else:\n",
    "        return \"Cold\"\n",
    "\n",
    "# Example\n",
    "print(temperature_classification(35))  # Output: Hot\n",
    "print(temperature_classification(20))  # Output: Warm\n",
    "print(temperature_classification(10))  # Output: Cold"
   ]
  },
  {
   "cell_type": "code",
   "execution_count": 6,
   "id": "bc1b59ca-0327-42fd-85db-0995e76936f2",
   "metadata": {},
   "outputs": [
    {
     "name": "stdout",
     "output_type": "stream",
     "text": [
      "Hot\n",
      "Warm\n",
      "Cold\n"
     ]
    }
   ],
   "source": [
    "def temperature_classification(temp):\n",
    "    if temp > 30:\n",
    "        return \"Hot\"\n",
    "    elif 15 <= temp <= 30:\n",
    "        return \"Warm\"\n",
    "    else:\n",
    "        return \"Cold\"\n",
    "\n",
    "# Example\n",
    "print(temperature_classification(35))  # Output: Hot\n",
    "print(temperature_classification(20))  # Output: Warm\n",
    "print(temperature_classification(10))  # Output: Cold"
   ]
  },
  {
   "cell_type": "markdown",
   "id": "4bcda8d8-61ec-4736-b3c6-0e1d1e74c4e3",
   "metadata": {
    "id": "bea983a3"
   },
   "source": [
    "---\n",
    "\n",
    "### Exercise 7:\n",
    "Write a Python program that checks if a string contains the letter 'a'.\n",
    "\n",
    "```python\n",
    "# Exercise 7\n",
    "```"
   ]
  },
  {
   "cell_type": "code",
   "execution_count": 7,
   "id": "de708521-becb-4478-9e84-46cc6ba59720",
   "metadata": {},
   "outputs": [
    {
     "name": "stdout",
     "output_type": "stream",
     "text": [
      "True\n",
      "True\n",
      "False\n"
     ]
    }
   ],
   "source": [
    "def contains_a(text):\n",
    "    return 'a' in text.lower()\n",
    "\n",
    "# Example\n",
    "print(contains_a(\"apple\"))    # Output: True\n",
    "print(contains_a(\"banana\"))   # Output: True\n",
    "print(contains_a(\"cherry\"))   # Output: False"
   ]
  },
  {
   "cell_type": "markdown",
   "id": "e604d0d6-d47b-4d4e-9405-6197d8ef2806",
   "metadata": {
    "id": "bea983a3"
   },
   "source": [
    "---\n",
    "\n",
    "### Exercise 8:\n",
    "Write a Python function that checks if two numbers are equal, or which one is larger.\n",
    "\n",
    "```python\n",
    "# Exercise 8\n",
    "```\n",
    "\n",
    "-"
   ]
  },
  {
   "cell_type": "code",
   "execution_count": 8,
   "id": "83338d44-58de-4951-a38d-64b886b2c185",
   "metadata": {},
   "outputs": [
    {
     "name": "stdout",
     "output_type": "stream",
     "text": [
      "Equal\n",
      "8 is larger\n",
      "7 is larger\n"
     ]
    }
   ],
   "source": [
    "def compare_numbers(a, b):\n",
    "    if a == b:\n",
    "        return \"Equal\"\n",
    "    elif a > b:\n",
    "        return f\"{a} is larger\"\n",
    "    else:\n",
    "        return f\"{b} is larger\"\n",
    "\n",
    "# Example\n",
    "print(compare_numbers(5, 5))   # Output: Equal\n",
    "print(compare_numbers(8, 3))   # Output: 8 is larger\n",
    "print(compare_numbers(2, 7))   # Output: 7 is larger"
   ]
  },
  {
   "cell_type": "markdown",
   "id": "8ec6053e-b970-4e99-acab-42806612acc7",
   "metadata": {
    "id": "bea983a3"
   },
   "source": [
    "--\n",
    "\n",
    "### Exercise 9:\n",
    "Write a Python program that checks if a list is empty.\n",
    "\n",
    "```python\n",
    "# Exercise 9\n",
    "```"
   ]
  },
  {
   "cell_type": "code",
   "execution_count": 9,
   "id": "618b2ab6-12e9-4026-bb82-49e8881767ab",
   "metadata": {},
   "outputs": [
    {
     "name": "stdout",
     "output_type": "stream",
     "text": [
      "List is empty\n",
      "List has 3 elements\n"
     ]
    }
   ],
   "source": [
    "def is_list_empty(lst):\n",
    "    if not lst:\n",
    "        return \"List is empty\"\n",
    "    else:\n",
    "        return f\"List has {len(lst)} elements\"\n",
    "\n",
    "# Example\n",
    "print(is_list_empty([]))           # Output: List is empty\n",
    "print(is_list_empty([1, 2, 3]))    # Output: List has 3 elements"
   ]
  },
  {
   "cell_type": "markdown",
   "id": "4c42cffd-c987-409f-9ac2-ce8ec4e4f02b",
   "metadata": {
    "id": "bea983a3"
   },
   "source": [
    "---\n",
    "\n",
    "### Exercise 10:\n",
    "Write a Python function that takes two strings and checks if they are anagrams.\n",
    "\n",
    "```python\n",
    "# Exercise 10\n",
    "```"
   ]
  },
  {
   "cell_type": "code",
   "execution_count": 10,
   "id": "046a02e1-6c25-4ca5-8979-7cee54ee7ee6",
   "metadata": {},
   "outputs": [
    {
     "name": "stdout",
     "output_type": "stream",
     "text": [
      "True\n",
      "False\n"
     ]
    }
   ],
   "source": [
    "def are_anagrams(str1, str2):\n",
    "    return sorted(str1.lower()) == sorted(str2.lower())\n",
    "\n",
    "# Example\n",
    "print(are_anagrams(\"listen\", \"silent\"))  # Output: True\n",
    "print(are_anagrams(\"hello\", \"world\"))    # Output: False"
   ]
  },
  {
   "cell_type": "markdown",
   "id": "0e310dad-4342-405f-a81c-c1c1f38ff129",
   "metadata": {
    "id": "bea983a3"
   },
   "source": [
    "---\n",
    "\n",
    "### Exercise 11:\n",
    "Write a Python program that checks if a number is prime.\n",
    "\n",
    "```python\n",
    "# Exercise 11\n",
    "```"
   ]
  },
  {
   "cell_type": "code",
   "execution_count": 11,
   "id": "b7d37290-f031-466d-9d4e-0f1de26c9893",
   "metadata": {},
   "outputs": [
    {
     "name": "stdout",
     "output_type": "stream",
     "text": [
      "True\n",
      "False\n",
      "False\n"
     ]
    }
   ],
   "source": [
    "def is_prime(number):\n",
    "    if number < 2:\n",
    "        return False\n",
    "    for i in range(2, int(number**0.5) + 1):\n",
    "        if number % i == 0:\n",
    "            return False\n",
    "    return True\n",
    "\n",
    "# Example\n",
    "print(is_prime(7))   # Output: True\n",
    "print(is_prime(10))  # Output: False\n",
    "print(is_prime(1))   # Output: False"
   ]
  },
  {
   "cell_type": "markdown",
   "id": "5a11ac27-e32f-4a26-9152-3dec812ba001",
   "metadata": {
    "id": "bea983a3"
   },
   "source": [
    "---\n",
    "\n",
    "### Exercise 12:\n",
    "Write a Python program that checks if a list of numbers is sorted in ascending order.\n",
    "\n",
    "```python\n",
    "# Exercise 12\n",
    "```"
   ]
  },
  {
   "cell_type": "code",
   "execution_count": 12,
   "id": "44cfaba3-841b-4504-b95a-01b130336330",
   "metadata": {},
   "outputs": [
    {
     "name": "stdout",
     "output_type": "stream",
     "text": [
      "True\n",
      "False\n"
     ]
    }
   ],
   "source": [
    "def is_sorted_ascending(numbers):\n",
    "    return numbers == sorted(numbers)\n",
    "\n",
    "# Example\n",
    "print(is_sorted_ascending([1, 2, 3, 4, 5]))  # Output: True\n",
    "print(is_sorted_ascending([5, 3, 1, 4, 2]))  # Output: False"
   ]
  },
  {
   "cell_type": "markdown",
   "id": "c86f35c9-9045-4d64-b603-7d332894f739",
   "metadata": {
    "id": "bea983a3"
   },
   "source": [
    "---\n",
    "\n",
    "### Exercise 13:\n",
    "Write a Python function that takes a character and checks if it is a digit.\n",
    "\n",
    "```python\n",
    "# Exercise 13\n",
    "```"
   ]
  },
  {
   "cell_type": "code",
   "execution_count": 13,
   "id": "8fb4cbdb-f6cb-4832-acfb-54470af422a4",
   "metadata": {},
   "outputs": [
    {
     "name": "stdout",
     "output_type": "stream",
     "text": [
      "True\n",
      "False\n",
      "False\n"
     ]
    }
   ],
   "source": [
    "def is_digit(char):\n",
    "    return char.isdigit()\n",
    "\n",
    "# Example\n",
    "print(is_digit('5'))   # Output: True\n",
    "print(is_digit('a'))   # Output: False\n",
    "print(is_digit(' '))   # Output: False"
   ]
  },
  {
   "cell_type": "markdown",
   "id": "4b7d7149-b7bc-49b9-ab2a-bd7736f5dfdd",
   "metadata": {
    "id": "bea983a3"
   },
   "source": [
    "---\n",
    "\n",
    "### Exercise 14:\n",
    "Write a Python function that checks if a string contains only uppercase letters.\n",
    "\n",
    "```python\n",
    "# Exercise 14\n",
    "```\n",
    "\n",
    "-"
   ]
  },
  {
   "cell_type": "code",
   "execution_count": 14,
   "id": "ed1e9aee-e89f-4fc0-b8f2-f33976f8fef9",
   "metadata": {},
   "outputs": [
    {
     "name": "stdout",
     "output_type": "stream",
     "text": [
      "True\n",
      "False\n",
      "False\n"
     ]
    }
   ],
   "source": [
    "def is_all_uppercase(text):\n",
    "    return text.isupper()\n",
    "\n",
    "# Example\n",
    "print(is_all_uppercase(\"HELLO\"))   # Output: True\n",
    "print(is_all_uppercase(\"Hello\"))   # Output: False\n",
    "print(is_all_uppercase(\"hello\"))   # Output: False"
   ]
  },
  {
   "cell_type": "markdown",
   "id": "4a83558b-197a-41ba-96b0-e64a275533b9",
   "metadata": {
    "id": "bea983a3"
   },
   "source": [
    "--\n",
    "\n",
    "### Exercise 15:\n",
    "Write a Python program that checks if a number is a multiple of 10.\n",
    "\n",
    "```python\n",
    "# Exercise 15\n",
    "```"
   ]
  },
  {
   "cell_type": "code",
   "execution_count": 15,
   "id": "9b326a35-3686-4581-a014-10aaf625860f",
   "metadata": {},
   "outputs": [
    {
     "name": "stdout",
     "output_type": "stream",
     "text": [
      "True\n",
      "False\n",
      "True\n"
     ]
    }
   ],
   "source": [
    "def is_multiple_of_10(number):\n",
    "    return number % 10 == 0\n",
    "\n",
    "# Example\n",
    "print(is_multiple_of_10(20))   # Output: True\n",
    "print(is_multiple_of_10(15))   # Output: False\n",
    "print(is_multiple_of_10(100))  # Output: True"
   ]
  },
  {
   "cell_type": "code",
   "execution_count": null,
   "id": "e81d2cd3-505a-4dd4-8b1a-443168b4ca04",
   "metadata": {},
   "outputs": [],
   "source": []
  },
  {
   "cell_type": "markdown",
   "id": "4929fe84-2390-4a55-8518-fd8d0497d190",
   "metadata": {
    "id": "bea983a3"
   },
   "source": [
    "---\n",
    "\n",
    "### Exercise 16:\n",
    "Write a Python function that checks if a list contains any duplicates.\n",
    "\n",
    "```python\n",
    "# Exercise 16\n",
    "```"
   ]
  },
  {
   "cell_type": "code",
   "execution_count": 16,
   "id": "563b58c3-aa4a-469d-b617-b534455e3400",
   "metadata": {},
   "outputs": [
    {
     "name": "stdout",
     "output_type": "stream",
     "text": [
      "False\n",
      "True\n"
     ]
    }
   ],
   "source": [
    "def has_duplicates(lst):\n",
    "    return len(lst) != len(set(lst))\n",
    "\n",
    "# Example\n",
    "print(has_duplicates([1, 2, 3, 4, 5]))      # Output: False\n",
    "print(has_duplicates([1, 2, 3, 2, 4]))      # Output: True"
   ]
  },
  {
   "cell_type": "markdown",
   "id": "b4fa9e53-1976-401e-b149-2c5db72c61be",
   "metadata": {
    "id": "bea983a3"
   },
   "source": [
    "---\n",
    "\n",
    "### Exercise 17:\n",
    "Write a Python program that prints \"Teenager\" if the age is between 13 and 19, otherwise it prints \"Not a teenager.\"\n",
    "\n",
    "```python\n",
    "# Exercise 17\n",
    "```\n",
    "\n",
    "---"
   ]
  },
  {
   "cell_type": "code",
   "execution_count": 17,
   "id": "bfcd59ce-766a-432e-81d4-29cbeb72fce0",
   "metadata": {},
   "outputs": [
    {
     "name": "stdout",
     "output_type": "stream",
     "text": [
      "Teenager\n",
      "Not a teenager\n"
     ]
    }
   ],
   "source": [
    "def is_teenager(age):\n",
    "    if 13 <= age <= 19:\n",
    "        return \"Teenager\"\n",
    "    else:\n",
    "        return \"Not a teenager\"\n",
    "\n",
    "# Example\n",
    "print(is_teenager(16))   # Output: Teenager\n",
    "print(is_teenager(25))   # Output: Not a teenager"
   ]
  },
  {
   "cell_type": "markdown",
   "id": "3a274b63-5e0c-40f4-83e9-3e1443d8432e",
   "metadata": {
    "id": "bea983a3"
   },
   "source": [
    "### Exercise 18:\n",
    "Write a Python function that checks if a list contains an element greater than 100.\n",
    "\n",
    "```python\n",
    "# Exercise 18\n",
    "```\n",
    "\n",
    "-"
   ]
  },
  {
   "cell_type": "code",
   "execution_count": 18,
   "id": "ae969dd6-4ca5-43c4-add8-ee777ace83de",
   "metadata": {},
   "outputs": [
    {
     "name": "stdout",
     "output_type": "stream",
     "text": [
      "True\n",
      "False\n"
     ]
    }
   ],
   "source": [
    "def contains_greater_than_100(numbers):\n",
    "    for num in numbers:\n",
    "        if num > 100:\n",
    "            return True\n",
    "    return False\n",
    "\n",
    "# Example\n",
    "print(contains_greater_than_100([50, 75, 120, 25]))  # Output: True\n",
    "print(contains_greater_than_100([10, 20, 30, 40]))   # Output: False"
   ]
  },
  {
   "cell_type": "markdown",
   "id": "d832a478-54a5-4017-8444-afee1a98589e",
   "metadata": {
    "id": "bea983a3"
   },
   "source": [
    "--\n",
    "\n",
    "### Exercise 19:\n",
    "Write a Python program that checks if a number is even or odd.\n",
    "\n",
    "```python\n",
    "# Exercise 19\n",
    "```"
   ]
  },
  {
   "cell_type": "code",
   "execution_count": 19,
   "id": "23ab33da-6e29-4b81-8072-928251dd7cda",
   "metadata": {},
   "outputs": [
    {
     "name": "stdout",
     "output_type": "stream",
     "text": [
      "Even\n",
      "Odd\n"
     ]
    }
   ],
   "source": [
    "def check_even_odd(number):\n",
    "    if number % 2 == 0:\n",
    "        return \"Even\"\n",
    "    else:\n",
    "        return \"Odd\"\n",
    "\n",
    "# Example\n",
    "print(check_even_odd(4))   # Output: Even\n",
    "print(check_even_odd(7))   # Output: Odd"
   ]
  },
  {
   "cell_type": "markdown",
   "id": "a0f3108f-f5ae-4dd4-9041-7cadcdda69e8",
   "metadata": {
    "id": "bea983a3"
   },
   "source": [
    "---\n",
    "\n",
    "### Exercise 20:\n",
    "Write a Python function that checks if a string ends with a punctuation mark.\n",
    "\n",
    "```python\n",
    "# Exercise 20\n",
    "```"
   ]
  },
  {
   "cell_type": "code",
   "execution_count": 20,
   "id": "b8f5b595-ad1d-4f8f-8e1b-16599544b081",
   "metadata": {},
   "outputs": [
    {
     "name": "stdout",
     "output_type": "stream",
     "text": [
      "True\n",
      "False\n",
      "True\n"
     ]
    }
   ],
   "source": [
    "def ends_with_punctuation(text):\n",
    "    punctuation = '.,!?;:'\n",
    "    return text and text[-1] in punctuation\n",
    "\n",
    "# Example\n",
    "print(ends_with_punctuation(\"Hello!\"))     # Output: True\n",
    "print(ends_with_punctuation(\"Hello\"))      # Output: False\n",
    "print(ends_with_punctuation(\"Hello.\"))     # Output: True"
   ]
  },
  {
   "cell_type": "markdown",
   "id": "366b5ffd-37e3-47d7-bf5e-1eaecd245f56",
   "metadata": {
    "id": "bea983a3"
   },
   "source": [
    "---\n",
    "\n",
    "### Exercise 21:\n",
    "Write a Python program that prints \"Yes\" if the number is between 1 and 100, otherwise it prints \"No.\"\n",
    "\n",
    "```python\n",
    "# Exercise 21\n",
    "```"
   ]
  },
  {
   "cell_type": "code",
   "execution_count": 21,
   "id": "6a9898eb-72a9-4518-8863-aa1c687632b4",
   "metadata": {},
   "outputs": [
    {
     "name": "stdout",
     "output_type": "stream",
     "text": [
      "Yes\n",
      "No\n"
     ]
    }
   ],
   "source": [
    "def is_between_1_and_100(number):\n",
    "    if 1 <= number <= 100:\n",
    "        return \"Yes\"\n",
    "    else:\n",
    "        return \"No\"\n",
    "\n",
    "# Example\n",
    "print(is_between_1_and_100(50))   # Output: Yes\n",
    "print(is_between_1_and_100(150))  # Output: No"
   ]
  },
  {
   "cell_type": "markdown",
   "id": "5f7c8e50-925e-4d36-9289-f5239050e5b1",
   "metadata": {
    "id": "bea983a3"
   },
   "source": [
    "---"
   ]
  },
  {
   "cell_type": "markdown",
   "id": "c81d2660-a48a-4411-962b-1a6de6dfd954",
   "metadata": {
    "id": "bea983a3"
   },
   "source": [
    "### Exercise 22:\n",
    "Write a Python program that checks if two strings have the same length.\n",
    "\n",
    "```python\n",
    "# Exercise 22\n",
    "```"
   ]
  },
  {
   "cell_type": "code",
   "execution_count": 22,
   "id": "0fa159b7-a611-4e7d-b9b4-beaf1e06e05d",
   "metadata": {},
   "outputs": [
    {
     "name": "stdout",
     "output_type": "stream",
     "text": [
      "Same length\n",
      "Different lengths\n"
     ]
    }
   ],
   "source": [
    "def same_length(str1, str2):\n",
    "    if len(str1) == len(str2):\n",
    "        return \"Same length\"\n",
    "    else:\n",
    "        return \"Different lengths\"\n",
    "\n",
    "# Example\n",
    "print(same_length(\"hello\", \"world\"))    # Output: Same length\n",
    "print(same_length(\"hi\", \"hello\"))       # Output: Different lengths"
   ]
  },
  {
   "cell_type": "markdown",
   "id": "0154d471-c81d-416e-b4c2-3e75a62eb804",
   "metadata": {
    "id": "bea983a3"
   },
   "source": [
    "---\n",
    "\n",
    "### Exercise 23:\n",
    "Write a Python function that checks if a number is greater than its reverse.\n",
    "\n",
    "```python\n",
    "# Exercise 23\n",
    "```"
   ]
  },
  {
   "cell_type": "code",
   "execution_count": 23,
   "id": "4fd01b3e-2790-4d2e-98ed-1837ee563f55",
   "metadata": {},
   "outputs": [
    {
     "name": "stdout",
     "output_type": "stream",
     "text": [
      "False\n",
      "True\n"
     ]
    }
   ],
   "source": [
    "def greater_than_reverse(number):\n",
    "    reverse = int(str(number)[::-1])\n",
    "    return number > reverse\n",
    "\n",
    "# Example\n",
    "print(greater_than_reverse(123))   # Output: True (123 > 321? No, so False)\n",
    "print(greater_than_reverse(91))    # Output: True (91 > 19)"
   ]
  },
  {
   "cell_type": "markdown",
   "id": "ab921c6d-3f00-44f2-b7a8-75e5ce4204cb",
   "metadata": {
    "id": "bea983a3"
   },
   "source": [
    "---\n",
    "\n",
    "### Exercise 24:\n",
    "Write a Python program that checks if a password contains both letters and numbers.\n",
    "\n",
    "```python\n",
    "# Exercise 24\n",
    "```\n",
    "\n",
    "-"
   ]
  },
  {
   "cell_type": "code",
   "execution_count": 24,
   "id": "af555dbf-5a37-40bd-b89e-9cc544d0e274",
   "metadata": {},
   "outputs": [
    {
     "name": "stdout",
     "output_type": "stream",
     "text": [
      "True\n",
      "False\n",
      "False\n"
     ]
    }
   ],
   "source": [
    "def valid_password(password):\n",
    "    has_letter = any(char.isalpha() for char in password)\n",
    "    has_digit = any(char.isdigit() for char in password)\n",
    "    return has_letter and has_digit\n",
    "\n",
    "# Example\n",
    "print(valid_password(\"abc123\"))    # Output: True\n",
    "print(valid_password(\"password\"))  # Output: False\n",
    "print(valid_password(\"123456\"))    # Output: False"
   ]
  },
  {
   "cell_type": "markdown",
   "id": "5b0b1821-e0a0-49f6-83c3-a6d220385232",
   "metadata": {
    "id": "bea983a3"
   },
   "source": [
    "--\n",
    "\n",
    "### Exercise 25:\n",
    "Write a Python program that checks if a number is between two given numbers.\n",
    "\n",
    "```python\n",
    "# Exercise 25\n",
    "```"
   ]
  },
  {
   "cell_type": "code",
   "execution_count": 25,
   "id": "23cb6627-af18-4ab9-b792-a104d7f2f3be",
   "metadata": {},
   "outputs": [
    {
     "name": "stdout",
     "output_type": "stream",
     "text": [
      "True\n",
      "False\n"
     ]
    }
   ],
   "source": [
    "def is_between(number, low, high):\n",
    "    return low <= number <= high\n",
    "\n",
    "# Example\n",
    "print(is_between(15, 10, 20))   # Output: True\n",
    "print(is_between(5, 10, 20))    # Output: False"
   ]
  },
  {
   "cell_type": "markdown",
   "id": "fcd4ab8a-6a3e-48e3-aa65-c1459635bbc4",
   "metadata": {
    "id": "bea983a3"
   },
   "source": [
    "---\n",
    "\n",
    "### Exercise 26:\n",
    "Write a Python function that checks if all characters in a string are unique.\n",
    "\n",
    "```python\n",
    "# Exercise 26\n",
    "```"
   ]
  },
  {
   "cell_type": "markdown",
   "id": "61c83ad7-20e5-4722-b062-a95f85985abf",
   "metadata": {
    "id": "bea983a3"
   },
   "source": [
    "---\n",
    "\n",
    "### Exercise 27:\n",
    "Write a Python program that checks if a number is a perfect square.\n",
    "\n",
    "```python\n",
    "# Exercise 27\n",
    "```\n",
    "\n",
    "-"
   ]
  },
  {
   "cell_type": "markdown",
   "id": "43c3dfae-cb9b-4498-9ff3-962722f30e18",
   "metadata": {
    "id": "bea983a3"
   },
   "source": [
    "--\n",
    "\n",
    "### Exercise 28:\n",
    "Write a Python function that checks if a word is a palindrome.\n",
    "\n",
    "```python\n",
    "# Exercise 28\n",
    "```"
   ]
  },
  {
   "cell_type": "markdown",
   "id": "8d2072fe-5b51-4208-93c3-8f5d6906f1ee",
   "metadata": {
    "id": "bea983a3"
   },
   "source": [
    "---\n",
    "\n",
    "### Exercise 29:\n",
    "Write a Python program that prints \"Fizz\" if a number is divisible by 3, \"Buzz\" if it is divisible by 5, and \"FizzBuzz\" if divisible by both.\n",
    "\n",
    "```python\n",
    "# Exercise 29\n",
    "```"
   ]
  },
  {
   "cell_type": "markdown",
   "id": "de49df06-da5c-4973-90e9-cf19be2b477e",
   "metadata": {
    "id": "bea983a3"
   },
   "source": [
    "---\n",
    "\n",
    "### Exercise 30:\n",
    "Write a Python program that checks if the sum of the digits of a number is even.\n",
    "\n",
    "```python\n",
    "# Exercise 30\n",
    "```\n",
    "\n",
    "---\n",
    "\n",
    "### Exercise 31:\n",
    "Write a Python program that checks if a string is a valid email address.\n",
    "\n",
    "```python\n",
    "# Exercise 31\n",
    "```"
   ]
  },
  {
   "cell_type": "markdown",
   "id": "b459ec96-3b66-43af-97d0-f513de8aebe2",
   "metadata": {
    "id": "bea983a3"
   },
   "source": [
    "---\n",
    "\n",
    "### Exercise 32:\n",
    "Write a Python function that checks if a number is within 10 of 100 or 200.\n",
    "\n",
    "```python\n",
    "# Exercise 32\n",
    "```"
   ]
  },
  {
   "cell_type": "markdown",
   "id": "26ed75db-bfc3-42ea-9e2d-4f5bba5a45f8",
   "metadata": {
    "id": "bea983a3"
   },
   "source": [
    "---\n",
    "\n",
    "### Exercise 33:\n",
    "Write a Python program that checks if a given string is a valid URL.\n",
    "\n",
    "```python\n",
    "# Exercise 33\n",
    "```"
   ]
  },
  {
   "cell_type": "markdown",
   "id": "b1cd22a6-e536-4d2d-b0d7-513786c8720e",
   "metadata": {
    "id": "bea983a3"
   },
   "source": [
    "---\n",
    "\n",
    "### Exercise 34:\n",
    "Write a Python program that checks if a list contains all even numbers.\n",
    "\n",
    "```python\n",
    "# Exercise 34\n",
    "```"
   ]
  },
  {
   "cell_type": "markdown",
   "id": "f20cb192-7d67-4ce2-aa83-4619508baaea",
   "metadata": {
    "id": "bea983a3"
   },
   "source": [
    "---\n",
    "\n",
    "### Exercise 35:\n",
    "Write a Python program that checks if a word is longer than a given length.\n",
    "\n",
    "```python\n",
    "# Exercise 35\n",
    "```"
   ]
  },
  {
   "cell_type": "markdown",
   "id": "eca8553b-a623-49aa-b925-246f5a389f5a",
   "metadata": {
    "id": "bea983a3"
   },
   "source": [
    "---\n",
    "\n",
    "### Exercise 36:\n",
    "Write a Python program that checks if a list contains only positive numbers.\n",
    "\n",
    "```python\n",
    "# Exercise 36\n",
    "```"
   ]
  },
  {
   "cell_type": "markdown",
   "id": "fac365be-51b5-4304-bd15-8fcd6fde7873",
   "metadata": {
    "id": "bea983a3"
   },
   "source": [
    "---\n",
    "\n",
    "### Exercise 37:\n",
    "Write a Python function that checks if a year is a century year (i.e., divisible by 100).\n",
    "\n",
    "```python\n",
    "# Exercise 37\n",
    "```"
   ]
  },
  {
   "cell_type": "markdown",
   "id": "f288ef0c-6d1a-47a2-ab01-76e4db80944d",
   "metadata": {
    "id": "bea983a3"
   },
   "source": [
    "---\n",
    "\n",
    "### Exercise 38:\n",
    "Write a Python program that checks if the sum of a list of numbers is greater than 100.\n",
    "\n",
    "```python\n",
    "# Exercise 38\n",
    "```\n",
    "\n",
    "---"
   ]
  },
  {
   "cell_type": "markdown",
   "id": "9e0e8c7c-fab6-46e2-8818-79586a80590c",
   "metadata": {
    "id": "bea983a3"
   },
   "source": [
    "### Exercise 39:\n",
    "Write a Python function that checks if a given word is a substring of another string.\n",
    "\n",
    "```python\n",
    "# Exercise 39\n",
    "```\n",
    "\n",
    "---"
   ]
  },
  {
   "cell_type": "markdown",
   "id": "e134d2cc-b487-46af-aeed-2ae522820ae8",
   "metadata": {
    "id": "bea983a3"
   },
   "source": [
    "### Exercise 40:\n",
    "Write a Python program that checks if a number is a power of 2.\n",
    "\n",
    "```python\n",
    "# Exercise 40\n",
    "```\n",
    "\n",
    "-"
   ]
  },
  {
   "cell_type": "markdown",
   "id": "a192dd1c-36c5-4a88-903a-1b8075855662",
   "metadata": {
    "id": "bea983a3"
   },
   "source": [
    "--\n",
    "\n",
    "### Exercise 41:\n",
    "Write a Python function that checks if a string contains no spaces.\n",
    "\n",
    "```python\n",
    "# Exercise 41\n",
    "```\n",
    "\n",
    "-"
   ]
  },
  {
   "cell_type": "markdown",
   "id": "c1565de9-77ec-418b-8f87-19b9a892dadb",
   "metadata": {
    "id": "bea983a3"
   },
   "source": [
    "--\n",
    "\n",
    "### Exercise 42:\n",
    "Write a Python program that prints \"Yes\" if a number is divisible by both 2 and 3, otherwise it prints \"No.\"\n",
    "\n",
    "```python\n",
    "# Exercise 42\n",
    "```"
   ]
  },
  {
   "cell_type": "markdown",
   "id": "3a079db1-f2bc-48d2-9dff-4600f7c46862",
   "metadata": {
    "id": "bea983a3"
   },
   "source": [
    "---\n",
    "\n",
    "### Exercise 43:\n",
    "Write a Python program that checks if a number is a palindrome.\n",
    "\n",
    "```python\n",
    "# Exercise 43\n",
    "```"
   ]
  },
  {
   "cell_type": "markdown",
   "id": "2f87de00-5647-4e48-b9f9-2c50e6093ddb",
   "metadata": {
    "id": "bea983a3"
   },
   "source": [
    "---\n",
    "\n",
    "### Exercise 44:\n",
    "Write a Python function that checks if a string is made of only lowercase letters.\n",
    "\n",
    "```python\n",
    "# Exercise 44\n",
    "```"
   ]
  },
  {
   "cell_type": "markdown",
   "id": "955ee1eb-3f57-4d40-af53-b57b986f1360",
   "metadata": {
    "id": "bea983a3"
   },
   "source": [
    "---\n",
    "\n",
    "### Exercise 45:\n",
    "Write a Python program that checks if a string starts with a specific prefix.\n",
    "\n",
    "```python\n",
    "# Exercise 45\n",
    "```"
   ]
  },
  {
   "cell_type": "markdown",
   "id": "4d8fd788-fdbf-4225-9bd4-7b888d380417",
   "metadata": {
    "id": "bea983a3"
   },
   "source": [
    "---\n",
    "\n",
    "### Exercise 46:\n",
    "Write a Python function that checks if a number is divisible by any number in a given list.\n",
    "\n",
    "```python\n",
    "# Exercise 46\n",
    "```"
   ]
  },
  {
   "cell_type": "markdown",
   "id": "8212f738-caa0-4b66-85db-eea5691d130f",
   "metadata": {
    "id": "bea983a3"
   },
   "source": [
    "---\n",
    "\n",
    "### Exercise 47:\n",
    "Write a Python program that prints \"Yes\" if a string has more than one occurrence of the same letter.\n",
    "\n",
    "```python\n",
    "# Exercise 47\n",
    "```\n",
    "\n",
    "--"
   ]
  },
  {
   "cell_type": "markdown",
   "id": "fc1cf389-8f19-4120-8a61-3b34bccc1458",
   "metadata": {
    "id": "bea983a3"
   },
   "source": [
    "-\n",
    "\n",
    "### Exercise 48:\n",
    "Write a Python function that checks if a number is prime by dividing it by numbers up to its square root.\n",
    "\n",
    "```python\n",
    "# Exercise 48\n",
    "```\n",
    "\n",
    "-"
   ]
  },
  {
   "cell_type": "markdown",
   "id": "4ab910be-cc2c-4c3f-a34f-92e44c84c928",
   "metadata": {
    "id": "bea983a3"
   },
   "source": [
    "--\n",
    "\n",
    "### Exercise 49:\n",
    "Write a Python program that checks if a number is within 1 of a multiple of 10.\n",
    "\n",
    "```python\n",
    "# Exercise 49\n",
    "```"
   ]
  },
  {
   "cell_type": "markdown",
   "id": "5762d083-1720-4582-aed4-c2aec4d9d891",
   "metadata": {
    "id": "bea983a3"
   },
   "source": [
    "---\n",
    "\n",
    "### Exercise 50:\n",
    "Write a Python program that prints \"In range\" if a number is between 10 and 20 (inclusive), otherwise it prints \"Out of range.\"\n",
    "\n",
    "```python\n",
    "# Exercise 50\n",
    "```\n",
    "\n",
    "---"
   ]
  }
 ],
 "metadata": {
  "colab": {
   "provenance": []
  },
  "kernelspec": {
   "display_name": "Python 3 (ipykernel)",
   "language": "python",
   "name": "python3"
  },
  "language_info": {
   "codemirror_mode": {
    "name": "ipython",
    "version": 3
   },
   "file_extension": ".py",
   "mimetype": "text/x-python",
   "name": "python",
   "nbconvert_exporter": "python",
   "pygments_lexer": "ipython3",
   "version": "3.13.5"
  }
 },
 "nbformat": 4,
 "nbformat_minor": 5
}
